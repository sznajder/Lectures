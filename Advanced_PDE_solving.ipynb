{
  "nbformat": 4,
  "nbformat_minor": 0,
  "metadata": {
    "kernelspec": {
      "display_name": "Python 3",
      "language": "python",
      "name": "python3"
    },
    "language_info": {
      "codemirror_mode": {
        "name": "ipython",
        "version": 3
      },
      "file_extension": ".py",
      "mimetype": "text/x-python",
      "name": "python",
      "nbconvert_exporter": "python",
      "pygments_lexer": "ipython3",
      "version": "3.7.3"
    },
    "latex_envs": {
      "LaTeX_envs_menu_present": true,
      "autoclose": false,
      "autocomplete": true,
      "bibliofile": "biblio.bib",
      "cite_by": "apalike",
      "current_citInitial": 1,
      "eqLabelWithNumbers": true,
      "eqNumInitial": 1,
      "hotkeys": {
        "equation": "Ctrl-E",
        "itemize": "Ctrl-I"
      },
      "labels_anchors": false,
      "latex_user_defs": false,
      "report_style_numbering": false,
      "user_envs_cfg": false
    },
    "varInspector": {
      "cols": {
        "lenName": 16,
        "lenType": 16,
        "lenVar": 40
      },
      "kernels_config": {
        "python": {
          "delete_cmd_postfix": "",
          "delete_cmd_prefix": "del ",
          "library": "var_list.py",
          "varRefreshCmd": "print(var_dic_list())"
        },
        "r": {
          "delete_cmd_postfix": ") ",
          "delete_cmd_prefix": "rm(",
          "library": "var_list.r",
          "varRefreshCmd": "cat(var_dic_list()) "
        }
      },
      "types_to_exclude": [
        "module",
        "function",
        "builtin_function_or_method",
        "instance",
        "_Feature"
      ],
      "window_display": false
    },
    "colab": {
      "name": "Advanced_PDE_solving.ipynb",
      "provenance": [],
      "collapsed_sections": [],
      "include_colab_link": true
    }
  },
  "cells": [
    {
      "cell_type": "markdown",
      "metadata": {
        "id": "view-in-github",
        "colab_type": "text"
      },
      "source": [
        "<a href=\"https://colab.research.google.com/github/sznajder/Notebooks/blob/master/Advanced_PDE_solving.ipynb\" target=\"_parent\"><img src=\"https://colab.research.google.com/assets/colab-badge.svg\" alt=\"Open In Colab\"/></a>"
      ]
    },
    {
      "cell_type": "markdown",
      "metadata": {
        "id": "NxruCuCVbsrY"
      },
      "source": [
        "# **`PyDEns`**:advanced usage"
      ]
    },
    {
      "cell_type": "markdown",
      "metadata": {
        "id": "RWYM-oGobsrZ"
      },
      "source": [
        "This tutorial continues with the examples of **`PyDEns`** usage and shows how to tackle harder problems, including equation systems, parameters and more. We strongly encourage you to take a look at [theory behind **`PyDEns`**](./0.%20Theory.ipynb) and [some examples](./1.%20Basic%20PDE%20solving.ipynb) before proceding to get a grip on the basics of our framework and math behind it.\n",
        "\n",
        "This notebook works through following problems:\n",
        "* [system of two equations in $\\mathcal{R}$](#system)\n",
        "* [parametric family of equations](#param)\n",
        "* [equation with adjustable coefficients](#adjust)"
      ]
    },
    {
      "cell_type": "code",
      "metadata": {
        "ExecuteTime": {
          "end_time": "2019-12-09T14:04:33.813067Z",
          "start_time": "2019-12-09T14:04:08.910168Z"
        },
        "id": "mKr6bWG1bsrZ"
      },
      "source": [
        "%load_ext autoreload\n",
        "%autoreload 2\n",
        "\n",
        "import os\n",
        "import sys\n",
        "\n",
        "# Stop TF from showing unnecessary deprecation warnings\n",
        "import warnings\n",
        "warnings.filterwarnings('ignore')\n",
        "from tensorflow import logging\n",
        "logging.set_verbosity(logging.ERROR)\n",
        "os.environ['TF_CPP_MIN_LOG_LEVEL'] = '2'\n",
        "\n",
        "import numpy as np\n",
        "import tensorflow as tf\n",
        "from tqdm import tqdm_notebook\n",
        "import matplotlib.pyplot as plt\n",
        "\n",
        "sys.path.append('..') # this line is not needed if PyDEns is installed as package\n",
        "from pydens import Solver, NumpySampler, cart_prod, add_tokens, plot_loss"
      ],
      "execution_count": null,
      "outputs": []
    },
    {
      "cell_type": "markdown",
      "metadata": {
        "id": "SeCG1hbrbsra"
      },
      "source": [
        "<a id='tokens'></a>"
      ]
    },
    {
      "cell_type": "code",
      "metadata": {
        "ExecuteTime": {
          "end_time": "2019-12-09T14:04:33.847921Z",
          "start_time": "2019-12-09T14:04:33.815378Z"
        },
        "id": "dZ5HpsRubsra"
      },
      "source": [
        "add_tokens()"
      ],
      "execution_count": null,
      "outputs": []
    },
    {
      "cell_type": "markdown",
      "metadata": {
        "id": "oFmx27qXbsra"
      },
      "source": [
        "<a id='ex1'></a>"
      ]
    },
    {
      "cell_type": "markdown",
      "metadata": {
        "id": "diPnJtkjbsra"
      },
      "source": [
        "<a id='system'></a>"
      ]
    },
    {
      "cell_type": "markdown",
      "metadata": {
        "id": "WBxRQs20bsra"
      },
      "source": [
        "### System of two ODEs"
      ]
    },
    {
      "cell_type": "markdown",
      "metadata": {
        "id": "D9GdctB-bsra"
      },
      "source": [
        "With `PyDENs` it is also possible to solve system of equations. The basic semantics are the same, but `form`, `initial_condition`, `boundary_condition` are now lists of separate equations or conditions for each function respectively. You also have to provide additional information on equation by passing `n_funs` and `n_eqns` to PDE-configuration to communicate number of functions and number of equations of the problem.\n",
        "\n",
        "Under the hood, each unknown function is approximated with a neural network: they have common `body` part and separate `head`'s. You can easily control, how much of the computational flow is shared between each approximator by adjusting `body`/`head` configs. "
      ]
    },
    {
      "cell_type": "markdown",
      "metadata": {
        "id": "jSrNHt_bbsra"
      },
      "source": [
        "\\begin{cases}\n",
        "u_1(t) + \\dfrac{\\partial u_2(t)}{ \\partial t} = 0 \\\\\n",
        "u_2(t) + \\dfrac{\\partial u_1(t)}{ \\partial t} = 2 \\cos(t)\n",
        "\\end{cases}\n",
        "\n",
        "$$\n",
        "u_1(0)=0, \\quad u_2(0)=1.\n",
        "$$\n",
        "\n",
        "It is easy to see that $u_1(t) = \\sin(t)$ and $u_2(t) = \\cos(t)$ satisfy both system of equations and initial conditions."
      ]
    },
    {
      "cell_type": "code",
      "metadata": {
        "ExecuteTime": {
          "end_time": "2019-12-09T14:04:33.913874Z",
          "start_time": "2019-12-09T14:04:33.850722Z"
        },
        "id": "zi2qmrI3bsrb"
      },
      "source": [
        "pde = {'n_dims': 1, 'n_funs': 2, 'n_eqns': 2,\n",
        "       'form': [lambda u0, u1, t: u0 + D(u1, t),\n",
        "                lambda u0, u1, t: u1 + D(u0, t) - 2 * cos(t)],\n",
        "       'initial_condition': [[0.0],\n",
        "                             [1.0]],\n",
        "       'time_multiplier': 'polynomial'}\n",
        "\n",
        "# Put it all together in model-config\n",
        "config = {'pde': pde}  \n",
        "\n",
        "# Uniform sampling scheme\n",
        "s = NumpySampler('u', dim=1)"
      ],
      "execution_count": null,
      "outputs": []
    },
    {
      "cell_type": "code",
      "metadata": {
        "ExecuteTime": {
          "end_time": "2019-12-09T14:04:36.778045Z",
          "start_time": "2019-12-09T14:04:33.918996Z"
        },
        "id": "KHfTRSaPbsrb",
        "colab": {
          "referenced_widgets": [
            "f7b5496659564915a346ed568bfcad55"
          ]
        },
        "outputId": "e81cd10d-156d-4263-c21b-c49f47557f4b"
      },
      "source": [
        "# train the network on batches of 100 points\n",
        "dg = Solver(config)\n",
        "dg.fit(batch_size=50, sampler=s, n_iters=300, bar='notebook')"
      ],
      "execution_count": null,
      "outputs": [
        {
          "output_type": "display_data",
          "data": {
            "application/vnd.jupyter.widget-view+json": {
              "model_id": "f7b5496659564915a346ed568bfcad55",
              "version_major": 2,
              "version_minor": 0
            },
            "text/plain": [
              "HBox(children=(IntProgress(value=0, max=300), HTML(value='')))"
            ]
          },
          "metadata": {
            "tags": []
          }
        },
        {
          "output_type": "stream",
          "text": [
            "\n"
          ],
          "name": "stdout"
        }
      ]
    },
    {
      "cell_type": "code",
      "metadata": {
        "ExecuteTime": {
          "end_time": "2019-12-09T14:04:36.943712Z",
          "start_time": "2019-12-09T14:04:36.780201Z"
        },
        "id": "xjJ5wy3jbsrb",
        "outputId": "e909dd20-1852-4426-e2a3-bd4d37dae7f7"
      },
      "source": [
        "plot_loss(dg.loss, color='cornflowerblue')"
      ],
      "execution_count": null,
      "outputs": [
        {
          "output_type": "display_data",
          "data": {
            "image/png": "[encoded data removed]",
            "text/plain": [
              "<Figure size 432x288 with 1 Axes>"
            ]
          },
          "metadata": {
            "tags": [],
            "needs_background": "light"
          }
        }
      ]
    },
    {
      "cell_type": "code",
      "metadata": {
        "ExecuteTime": {
          "end_time": "2019-12-09T14:04:37.228828Z",
          "start_time": "2019-12-09T14:04:36.945578Z"
        },
        "id": "-GUbkgYSbsrb",
        "outputId": "3251672f-e48b-4c15-fbf9-395b978115a5"
      },
      "source": [
        "# Plot true solutions and their approximations\n",
        "n_el = 100\n",
        "pts = np.linspace(0, 1, n_el).reshape((n_el, 1))\n",
        "\n",
        "true_sin = [np.sin(t) for t in pts]\n",
        "true_cos = [np.cos(t) for t in pts]\n",
        "\n",
        "approxs_sin = dg.solve(pts)[:, 0]\n",
        "approxs_cos = dg.solve(pts)[:, 1]\n",
        "\n",
        "fig, ax = plt.subplots(figsize=(12, 6))\n",
        "plt.plot(pts, true_sin, 'g--', linewidth=3, label='true sin')\n",
        "plt.plot(pts, approxs_sin.reshape(n_el, ), 'y', label='sin approximation')\n",
        "plt.plot(pts, true_cos, 'b--',  linewidth=3, label='true cos')\n",
        "plt.plot(pts, approxs_cos.reshape(n_el, ), 'r', label='cos approximation')\n",
        "plt.legend(ncol=2)\n",
        "fig.show()"
      ],
      "execution_count": null,
      "outputs": [
        {
          "output_type": "display_data",
          "data": {
            "image/png": "[encoded data removed]",
            "text/plain": [
              "<Figure size 864x432 with 1 Axes>"
            ]
          },
          "metadata": {
            "tags": [],
            "needs_background": "light"
          }
        }
      ]
    },
    {
      "cell_type": "markdown",
      "metadata": {
        "id": "6QxH-Lvvbsrc"
      },
      "source": [
        "<a id='ex7'></a>"
      ]
    },
    {
      "cell_type": "markdown",
      "metadata": {
        "id": "GVBrGODMbsrc"
      },
      "source": [
        "<a id='param'></a>\n",
        "###  Parametric family of ODEs"
      ]
    },
    {
      "cell_type": "markdown",
      "metadata": {
        "id": "7XYDvRphbsrc"
      },
      "source": [
        "It is not uncommon to see encounter an equation with parameters: some of them are taking values from a predefined domain, some of them draw values from various probabilistic disctributions. For example, one can have the need to solve such an equation:"
      ]
    },
    {
      "cell_type": "markdown",
      "metadata": {
        "id": "Ti3VXWR6bsrc"
      },
      "source": [
        "$$\n",
        "\\frac{d f}{d t}= \\varepsilon \\cos[\\varepsilon \\pi t],\n",
        "$$\n",
        "\n",
        "$$\n",
        "t \\in [0, 1], f(0)=1, \n",
        "$$\n",
        "\n",
        "$$\n",
        "\\varepsilon \\in [1, 5].\n",
        "$$"
      ]
    },
    {
      "cell_type": "markdown",
      "metadata": {
        "id": "3pxiWJ6dbsrc"
      },
      "source": [
        "To work with such PDEs, we introduce letter `P`, that marks some coefficient as external parameter. Later, we can generate values for it either in determenistic or probabilistic ways by using appropriate `Sampler`.\n",
        "\n",
        "In some sense, parameters are behaving in exactly the same way as regular coordinates like `time`, `x,y,z`: we must pass it as positional argument of `form` functions, it can be generated from the outside via `Sampler`."
      ]
    },
    {
      "cell_type": "code",
      "metadata": {
        "ExecuteTime": {
          "end_time": "2019-12-09T14:04:37.264099Z",
          "start_time": "2019-12-09T14:04:37.230999Z"
        },
        "id": "u2MRlhtwbsrc"
      },
      "source": [
        "pde = {\n",
        "    'n_dims': 1,\n",
        "    'form': lambda u, t, e: D(u, t) - P(e) * np.pi * cos(P(e) * np.pi * t),\n",
        "    'initial_condition': 1\n",
        "}\n",
        "\n",
        "# put it together in model-config\n",
        "config = {\n",
        "    'pde': pde,\n",
        "    'decay': {'name': 'invtime', 'learning_rate':0.01,\n",
        "              'decay_steps': 100, 'decay_rate': 0.05},\n",
        "    'track': {'dt': lambda u, t, e: D(u, t)}\n",
        "}\n",
        "\n",
        "# sampling scheme: one component for time and one for epsilon\n",
        "s = NumpySampler('uniform') & NumpySampler('uniform', low=1, high=5)"
      ],
      "execution_count": null,
      "outputs": []
    },
    {
      "cell_type": "code",
      "metadata": {
        "ExecuteTime": {
          "end_time": "2019-12-09T14:04:47.234336Z",
          "start_time": "2019-12-09T14:04:37.267165Z"
        },
        "id": "i06m2saBbsrc",
        "colab": {
          "referenced_widgets": [
            "13f76868a6b24a07a5566cc690ae46fa"
          ]
        },
        "outputId": "95c3e194-70c7-46cb-ca25-25f8f948cd04"
      },
      "source": [
        "# train the network on batches of 1000 points\n",
        "dg = Solver(config)\n",
        "dg.fit(batch_size=1000, sampler=s, n_iters=5000, bar='notebook')"
      ],
      "execution_count": null,
      "outputs": [
        {
          "output_type": "display_data",
          "data": {
            "application/vnd.jupyter.widget-view+json": {
              "model_id": "13f76868a6b24a07a5566cc690ae46fa",
              "version_major": 2,
              "version_minor": 0
            },
            "text/plain": [
              "HBox(children=(IntProgress(value=0, max=5000), HTML(value='')))"
            ]
          },
          "metadata": {
            "tags": []
          }
        },
        {
          "output_type": "stream",
          "text": [
            "\n"
          ],
          "name": "stdout"
        }
      ]
    },
    {
      "cell_type": "code",
      "metadata": {
        "ExecuteTime": {
          "end_time": "2019-12-09T14:04:47.573498Z",
          "start_time": "2019-12-09T14:04:47.237125Z"
        },
        "id": "xu7LJvmCbsrd",
        "outputId": "5b321b06-6af9-4595-b1df-962f1b5c809f"
      },
      "source": [
        "plot_loss(dg.loss, color='cornflowerblue')"
      ],
      "execution_count": null,
      "outputs": [
        {
          "output_type": "display_data",
          "data": {
            "image/png": "[encoded data removed]",
            "text/plain": [
              "<Figure size 432x288 with 1 Axes>"
            ]
          },
          "metadata": {
            "tags": [],
            "needs_background": "light"
          }
        }
      ]
    },
    {
      "cell_type": "code",
      "metadata": {
        "ExecuteTime": {
          "end_time": "2019-12-09T14:04:47.627973Z",
          "start_time": "2019-12-09T14:04:47.576151Z"
        },
        "id": "zy86Nh85bsrd"
      },
      "source": [
        "from ipywidgets import interact\n",
        "\n",
        "def plt_solution(e):\n",
        "    # plot real solution and network approximation\n",
        "    pts = np.concatenate([np.linspace(0, 1, 200).reshape(-1, 1), e * np.ones((200, 1))], axis=1)\n",
        "    \n",
        "    sol = lambda t: np.sin(e * np.pi * t) + 1\n",
        "    true = sol(pts[:, 0])\n",
        "    approxs = dg.solve(pts)\n",
        "    \n",
        "    plt.plot(pts[:, 0], true, 'b--', linewidth=3, label='True solution')\n",
        "    plt.plot(pts[:, 0], approxs, 'r', label='Network approximation')\n",
        "    plt.xlabel(r'$t$', fontdict={'fontsize': 14})\n",
        "    plt.title(r'$\\epsilon={}$'.format(e))\n",
        "    plt.legend()\n",
        "    plt.show()"
      ],
      "execution_count": null,
      "outputs": []
    },
    {
      "cell_type": "code",
      "metadata": {
        "ExecuteTime": {
          "end_time": "2019-12-09T14:04:48.000070Z",
          "start_time": "2019-12-09T14:04:47.629688Z"
        },
        "id": "kYzSeKHhbsrd",
        "colab": {
          "referenced_widgets": [
            "f9e9a4b49c2a44d1bd61edcb38aa37d2"
          ]
        },
        "outputId": "181fe79b-8b2b-4838-8ff6-69a74f181d6b"
      },
      "source": [
        "_ = interact(plt_solution, e=(1, 5, 0.01))"
      ],
      "execution_count": null,
      "outputs": [
        {
          "output_type": "display_data",
          "data": {
            "application/vnd.jupyter.widget-view+json": {
              "model_id": "f9e9a4b49c2a44d1bd61edcb38aa37d2",
              "version_major": 2,
              "version_minor": 0
            },
            "text/plain": [
              "interactive(children=(FloatSlider(value=3.0, description='e', max=5.0, min=1.0, step=0.01), Output()), _dom_cl…"
            ]
          },
          "metadata": {
            "tags": []
          }
        }
      ]
    },
    {
      "cell_type": "markdown",
      "metadata": {
        "id": "H_xMYxRabsrd"
      },
      "source": [
        "<a id='adjust'></a>\n",
        "## Equation with trainable coefficients"
      ]
    },
    {
      "cell_type": "markdown",
      "metadata": {
        "id": "HVGSW3Y5bsrd"
      },
      "source": [
        "Generally speaking, usual PDE problem consists of multiple constraints imposed on unknown function: equation itself sets the dynamic, boundary and initial conditions restrict $u$ in their respective domains. It is natural to think of imposing even more constraints onto the function: this can be due to physics or visible observations, and can be used to make the solution of a particular problem unique.\n",
        "\n",
        "On the other hand, if the solution to the problem is already unique, there is no reason to add more constraints: secondary restrictions are either compatible with already existing ones (and thus are redundant) or incompatible with them, disallowing our model to reduce loss-function to zero and making the task overly ambiguous.\n",
        "\n",
        "Sometimes it makes sense to allow our model to slightly relax some of the existing constraints (namely, equation, initial/boundary conditions) in order to satisfy additional ones. For example, quite often in practical tasks, we know most of the coefficients from hand-made measurements. These are imperfect due to both equipment and human errors and can be improved with possible additional information about the solution: hypothetically, we can leverage this new info to adjust values of coefficients.\n",
        "\n",
        "This brings us closely to the concept of inverse PDE problem. In most settings we are dealing with the direct problem of PDE solving: we know the equation and want to obtain the solution, while the inverse problem is to find the equation that will have the known function as its solution. From a standpoint of traditional PDE-solvers, these tasks are miles apart. However, from the perspective of **Galerkin** method (and our library in particular), there is virtually no difference between the two: we just optimize some error-functional with respect to some weights, and this is true for both direct and inverse problems of PDE solving: in the former case our weights represent unknown function, and in the latter we use these weights to adjust the equation itself.\n",
        "\n",
        "As the previous example shows, real world is somewhere in-between those problems: we know a *lot* of information about the equation, but we also know enough information about the solution besides necessary boundary/initial conditions, and it is natural to use this abundance of data to make up for the uncertainty in the equation. "
      ]
    },
    {
      "cell_type": "markdown",
      "metadata": {
        "id": "Opix7rZJbsre"
      },
      "source": [
        "Suppose we are working with \n",
        "\n",
        "$$\n",
        "\\frac{\\partial u(t)}{\\partial t} - u(t) = K\\cos(Kt) e^t,\n",
        "$$\n",
        "\n",
        "$$\n",
        "u(0) = 0.\n",
        "$$\n",
        "\n",
        "Suppose we know that solution is $1 + \\sin(Kt)$ when $t \\in [0.5, 0.8]$ range. We can\n",
        "\n",
        "* track additional named tensor `expr` via `track` key of the config\n",
        "* create multiple train steps\n",
        "* alternate between training procedures during training of the approximator\n",
        "\n"
      ]
    },
    {
      "cell_type": "code",
      "metadata": {
        "ExecuteTime": {
          "end_time": "2019-12-09T14:04:48.039416Z",
          "start_time": "2019-12-09T14:04:48.002178Z"
        },
        "id": "U8vRSzLfbsre"
      },
      "source": [
        "# configuration of secondary neural network\n",
        "block = {\n",
        "    'layout': 'fa Rfa fa. fa f',\n",
        "    'units': [15]*4 + [1],\n",
        "    'activation': tf.nn.tanh\n",
        "}\n",
        "\n",
        "K = 5\n",
        "pde = {\n",
        "    'n_dims': 1,\n",
        "    'form': lambda u, t: (D(u, t) *(1 + V(0.0, 'der'))\n",
        "                          - u*(1 + V(0.0, 'fun'))\n",
        "                          - K*cos(K*t)*exp(t) + C(u, t, 'rhs', **block)\n",
        "                          ),\n",
        "    'time_multiplier': 'polynomial',\n",
        "    'initial_condition': 0.0,\n",
        "    'bind_bc_ic': True\n",
        "}\n",
        "\n",
        "\n",
        "# put it together in model-config\n",
        "config = {\n",
        "    'pde': pde,\n",
        "    'track': {'expr': lambda u, t: u - (1 + sin(K*t))},\n",
        "    'decay': {'name': 'invtime', 'learning_rate':0.03,\n",
        "              'decay_steps': 100, 'decay_rate': 0.15},\n",
        "    'train_steps': {\n",
        "        'network': {'scope': '-addendums'},\n",
        "        'adds': {'scope': 'addendums'},\n",
        "        'ac': {'scope': '-addendums',\n",
        "                   'loss':{'name': 'mse', 'predictions':'expr'}},\n",
        "    },\n",
        "    'optimizer': 'RMSProp',\n",
        "}\n",
        "\n",
        "# uniform sampling scheme\n",
        "s = NumpySampler('uniform')\n",
        "s_c = NumpySampler('uniform', low=0.5, high=0.8)# ConstantSampler(0.5)"
      ],
      "execution_count": null,
      "outputs": []
    },
    {
      "cell_type": "code",
      "metadata": {
        "ExecuteTime": {
          "end_time": "2019-12-09T14:04:57.949458Z",
          "start_time": "2019-12-09T14:04:48.041135Z"
        },
        "scrolled": true,
        "id": "0Vwd9ffWbsre",
        "colab": {
          "referenced_widgets": [
            "218cdfa040094743a56db312072b7eab"
          ]
        },
        "outputId": "649828bf-2e92-493a-efb9-73c8c5a6ca8b"
      },
      "source": [
        "# train the network on batches of 100 points\n",
        "dg = Solver(config)\n",
        "\n",
        "iters = [10, 5, 5] * 5\n",
        "\n",
        "for _ in tqdm_notebook(range(500)):\n",
        "    _ = dg.fit(batch_size=100, sampler=s, n_iters=iters[0], fetches='loss_network', train_mode='network')\n",
        "    \n",
        "    _ = dg.fit(batch_size=100, sampler=s_c, n_iters=iters[1], fetches='loss_ac', train_mode='ac')\n",
        "\n",
        "    _ = dg.fit(batch_size=100, sampler=s, n_iters=iters[2], fetches='loss_adds', train_mode='adds')"
      ],
      "execution_count": null,
      "outputs": [
        {
          "output_type": "display_data",
          "data": {
            "application/vnd.jupyter.widget-view+json": {
              "model_id": "218cdfa040094743a56db312072b7eab",
              "version_major": 2,
              "version_minor": 0
            },
            "text/plain": [
              "HBox(children=(IntProgress(value=0, max=500), HTML(value='')))"
            ]
          },
          "metadata": {
            "tags": []
          }
        },
        {
          "output_type": "stream",
          "text": [
            "\n"
          ],
          "name": "stdout"
        }
      ]
    },
    {
      "cell_type": "code",
      "metadata": {
        "ExecuteTime": {
          "end_time": "2019-12-09T14:04:58.115223Z",
          "start_time": "2019-12-09T14:04:57.951361Z"
        },
        "id": "JVGhKjQobsrf",
        "outputId": "d900c338-2efe-466e-9fc2-04ac82b0a208"
      },
      "source": [
        "plot_loss(dg.loss_adds, color='cornflowerblue')"
      ],
      "execution_count": null,
      "outputs": [
        {
          "output_type": "display_data",
          "data": {
            "image/png": "[encoded data removed]",
            "text/plain": [
              "<Figure size 432x288 with 1 Axes>"
            ]
          },
          "metadata": {
            "tags": [],
            "needs_background": "light"
          }
        }
      ]
    },
    {
      "cell_type": "code",
      "metadata": {
        "ExecuteTime": {
          "end_time": "2019-12-09T14:04:58.338657Z",
          "start_time": "2019-12-09T14:04:58.117485Z"
        },
        "id": "oB9Il7vdbsrf",
        "outputId": "5c211d13-4fbe-4418-ecc2-c4b9664a3b11"
      },
      "source": [
        "# plot real solution and network approximation\n",
        "pts = np.linspace(0, 1, 200).reshape(-1, 1)\n",
        "\n",
        "sol = lambda t: np.sin(K*t)*np.exp(t) + 0\n",
        "sol_2 = lambda t: 1 + np.sin(K*t) #np.sin(K*t)*np.exp(t) + 2\n",
        "true = [sol(t[0]) for t in pts]\n",
        "plt.plot(pts, true, 'b', linewidth=2, label='True solution')\n",
        "\n",
        "shifted = [sol_2(t[0]) for t in pts]\n",
        "plt.plot(pts, shifted, 'g', linewidth=2, label='True solution shifted 2')\n",
        "\n",
        "approxs = dg.solve(pts)\n",
        "plt.plot(pts, approxs, 'r', label='Network approximation')\n",
        "\n",
        "plt.xlabel(r'$t$', fontdict={'fontsize': 14})\n",
        "plt.legend()\n",
        "plt.grid(True)\n",
        "plt.show()"
      ],
      "execution_count": null,
      "outputs": [
        {
          "output_type": "display_data",
          "data": {
            "image/png": "[encoded data removed]",
            "text/plain": [
              "<Figure size 432x288 with 1 Axes>"
            ]
          },
          "metadata": {
            "tags": [],
            "needs_background": "light"
          }
        }
      ]
    },
    {
      "cell_type": "code",
      "metadata": {
        "ExecuteTime": {
          "end_time": "2019-12-09T14:04:58.395264Z",
          "start_time": "2019-12-09T14:04:58.340734Z"
        },
        "id": "SjbFziJLbsrf",
        "outputId": "138ad9ef-ad20-41b2-9e50-96622aa15638"
      },
      "source": [
        "dg.solve(fetches='fun')"
      ],
      "execution_count": null,
      "outputs": [
        {
          "output_type": "execute_result",
          "data": {
            "text/plain": [
              "1.113616"
            ]
          },
          "metadata": {
            "tags": []
          },
          "execution_count": 16
        }
      ]
    },
    {
      "cell_type": "code",
      "metadata": {
        "ExecuteTime": {
          "end_time": "2019-12-09T14:04:58.620184Z",
          "start_time": "2019-12-09T14:04:58.397687Z"
        },
        "scrolled": true,
        "id": "uP9mrTMrbsrf",
        "outputId": "06e4502c-9c2b-4aa4-c40b-97ed8246da2e"
      },
      "source": [
        "# plot real solution and network approximation\n",
        "pts = np.linspace(0, 1, 200).reshape(-1, 1)\n",
        "\n",
        "approxs = dg.solve(pts, fetches='rhs')\n",
        "\n",
        "plt.plot(pts, approxs, 'r', label='Adjustable coefficient')\n",
        "plt.xlabel(r'$t$', fontdict={'fontsize': 14})\n",
        "plt.legend()\n",
        "plt.grid(True)\n",
        "plt.show()"
      ],
      "execution_count": null,
      "outputs": [
        {
          "output_type": "display_data",
          "data": {
            "image/png": "[encoded data removed]",
            "text/plain": [
              "<Figure size 432x288 with 1 Axes>"
            ]
          },
          "metadata": {
            "tags": [],
            "needs_background": "light"
          }
        }
      ]
    }
  ]
}