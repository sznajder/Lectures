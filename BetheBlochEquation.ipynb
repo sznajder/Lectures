{
  "nbformat": 4,
  "nbformat_minor": 0,
  "metadata": {
    "colab": {
      "name": "BetheBlochEquation.ipynb",
      "provenance": [],
      "collapsed_sections": [],
      "authorship_tag": "ABX9TyPRixIo0uleS1Y14T6J0AwR",
      "include_colab_link": true
    },
    "kernelspec": {
      "name": "python3",
      "display_name": "Python 3"
    }
  },
  "cells": [
    {
      "cell_type": "markdown",
      "metadata": {
        "id": "view-in-github",
        "colab_type": "text"
      },
      "source": [
        "<a href=\"https://colab.research.google.com/github/sznajder/Notebooks/blob/master/BetheBlochEquation.ipynb\" target=\"_parent\"><img src=\"https://colab.research.google.com/assets/colab-badge.svg\" alt=\"Open In Colab\"/></a>"
      ]
    },
    {
      "cell_type": "markdown",
      "metadata": {
        "id": "pVMl9owri_Vb"
      },
      "source": [
        "## Bethe-Bloch Equation"
      ]
    },
    {
      "cell_type": "code",
      "metadata": {
        "id": "63jl19nCi-SA"
      },
      "source": [
        "1 #!/usr/bin/env python\n",
        " 2 # coding: utf-8\n",
        " 3 \n",
        " 4 # In[71]:\n",
        " 5 \n",
        " 6 \n",
        " 7 ##### import numpy as np\n",
        " 8 \n",
        " 9 # Copper\n",
        "10 dens = 8.96 # grms/cm^3\n",
        "11 Z= 29       #\n",
        "12 A = 63.55   # grm/mol\n",
        "13 \n",
        "14 # Aluminium\n",
        "15 #dens = 2.70 # grms/cm^3\n",
        "16 #Z= 13       #\n",
        "17 #A = 26.98   # grm/mol\n",
        "18 \n",
        "19 # Tungsten\n",
        "20 #dens = 19.3 # grms/cm^3\n",
        "21 #Z= 74       #\n",
        "22 #A = 183.84   # grm/mole\n",
        "23 \n",
        "24 E = 1000    # MeV\n",
        "25 \n",
        "26 me = 0.511  # MeV/c^2\n",
        "27 m = 105.66  # MeV/c^2\n",
        "28 K = .3071   # Mev.cm^2/mol.\n",
        "29 \n",
        "30 q = 1.6E-19 # Coulombs\n",
        "31 hbar = 6.582E-22 # MeV.s\n",
        "32 z = 1       \n",
        "33 r_e = 2.817940E-15 # m\n",
        "34 N_A = 6.022E23 # \n",
        "35 alpha = 1.0/137.036 \n",
        "36 print ('Density =', dens, ' A =',A, 'and Z =', Z)\n",
        "37 \n",
        "38 if Z > 13:\n",
        "39     IeV = ((9.76*Z)+58.8*np.power(Z, -0.19))  #  Z > 13 \n",
        "40 else:\n",
        "41     IeV = 12 * Z + 7\n",
        "42 I = IeV/1E6  #  Express I in MeV \n",
        "43 print (f\"I = {I:.3E} eV\")\n",
        "44 \n",
        "45 gamma = E/m\n",
        "46 beta = np.sqrt(1-(1/gamma)**2) \n",
        "47 \n",
        "48 numDens=(N_A/A)*dens*Z * 1E6  # electrons/m^3\n",
        "49 \n",
        "50 freq = np.sqrt((numDens * np.power(q,2))/(8.85E-12*9.11E-31)) \n",
        "51     # Plasma frequency = √(n_e.q^2/\\epsilon_o * m_e) s^-1\n",
        "52 print (f\"Plasma frequency = {freq:3E} rads/sec\")\n",
        "53 \n",
        "54 delta = np.log((hbar * freq)/I) + np.log(beta * gamma) - 0.5\n",
        "55                \n",
        "56 print (f\"Delta = {delta:3f}\")\n",
        "57 \n",
        "58 num = 2 * me * np.power(gamma*beta,2)\n",
        "59 den = 1 + ((2 * gamma * me)/m) + (me/m)**2\n",
        "60 Wmax = num/den\n",
        "61 print (f\"Wmax = {Wmax:.3f} MeV\")\n",
        "62 \n",
        "63 stopping_power = K* z**2 * (Z/A) * (1/beta**2)\n",
        "64 stopping_power = stopping_power * (0.5*np.log(2 * me * (beta*gamma)**2 * Wmax/I**2) - beta**2 - delta)\n",
        "65 print (f'Stopping Power (-dE/dx) = {stopping_power:.3f} MeV.cm^2/g')\n",
        "66 \n",
        "67 lsp = stopping_power*dens\n",
        "68 print (f'Linear stopping power = {lsp:.3f} Mev/cm')\n",
        "69 print ('Energy lost by a 1 GeV muon in 5mm of Z = ', Z, f' material = {lsp*0.5:.3f} MeV')\n",
        "70 \n",
        "71 \n",
        "72 # In[ ]:\n",
        "73 \n",
        "74 \n",
        "75 \n",
        "76 \n",
        "77 \n",
        "78 # \n",
        "79 \n",
        "80 # In[ ]:"
      ],
      "execution_count": null,
      "outputs": []
    }
  ]
}