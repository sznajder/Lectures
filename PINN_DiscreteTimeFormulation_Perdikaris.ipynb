{
  "nbformat": 4,
  "nbformat_minor": 0,
  "metadata": {
    "kernelspec": {
      "display_name": "tensorflow",
      "language": "python",
      "name": "tensorflow"
    },
    "language_info": {
      "codemirror_mode": {
        "name": "ipython",
        "version": 3
      },
      "file_extension": ".py",
      "mimetype": "text/x-python",
      "name": "python",
      "nbconvert_exporter": "python",
      "pygments_lexer": "ipython3",
      "version": "3.7.3"
    },
    "colab": {
      "name": "PINN_DiscreteTimeFormulation_Perdikaris.ipynb",
      "provenance": [],
      "collapsed_sections": [],
      "include_colab_link": true
    }
  },
  "cells": [
    {
      "cell_type": "markdown",
      "metadata": {
        "id": "view-in-github",
        "colab_type": "text"
      },
      "source": [
        "<a href=\"https://colab.research.google.com/github/sznajder/Notebooks/blob/master/PINN_DiscreteTimeFormulation_Perdikaris.ipynb\" target=\"_parent\"><img src=\"https://colab.research.google.com/assets/colab-badge.svg\" alt=\"Open In Colab\"/></a>"
      ]
    },
    {
      "cell_type": "markdown",
      "metadata": {
        "id": "LBOQmBEsecHm"
      },
      "source": [
        "# USNCCM15 Short Course\n",
        "\n",
        "# SC15-009: Recent Advances in Physics-Informed Deep Learning\n",
        "\n",
        "# Hands-on tutorial on Physics-Informed Neural Networks \n",
        "## (Part II: Discrete time formulation)\n",
        "## Instructor: Paris Perdikaris, pgp@seas.upenn.edu\n",
        "## Code repository: https://github.com/PredictiveIntelligenceLab/USNCCM15-Short-Course-Recent-Advances-in-Physics-Informed-Deep-Learning"
      ]
    },
    {
      "cell_type": "markdown",
      "metadata": {
        "id": "jrpg0yzPecHr"
      },
      "source": [
        "# Physics-informed neural networks in discrete time\n",
        "\n",
        "One potential limitation of the continuous time neural network models (see [Part I](https://github.com/PredictiveIntelligenceLab/USNCCM15-Short-Course-Recent-Advances-in-Physics-Informed-Deep-Learning) of this tutorial) considered so far stems from the need to use a large number of collocation points $N_r$ in order to enforce physics-informed constraints in the entire spatio-temporal domain. Although this poses no significant issues for problems in one or two spatial dimensions, it may introduce a severe bottleneck in higher dimensional problems, as the total number of collocation points needed to globally enforce a physics-informed constrain (i.e., in our case a partial differential equation) will increase exponentially. Although this limitation could be addressed to some extend using sparse grid or quasi Monte-Carlo sampling schemes \\cite{bungartz2004sparse,sloan1998quasi}, in the next section, we put forth a different approach that circumvents the need for collocation points by introducing a more structured neural network representation leveraging the classical Runge-Kutta time-stepping schemes \\cite{iserles2009first}.\n",
        "\n",
        "## Model specification\n",
        "To provide an overview of the formualtion, let us apply the general form of Runge-Kutta methods with $q$ stages \\cite{iserles2009first} to a general PDE equation and obtain\n",
        "\n",
        "$$\n",
        "\\begin{array}{ll}\n",
        "u^{n+c_i} = u^n - \\Delta t \\sum_{j=1}^q a_{ij} \\mathcal{N}[u^{n+c_j}], \\ \\ i=1,\\ldots,q,\\\\\n",
        "u^{n+1} = u^{n} - \\Delta t \\sum_{j=1}^q b_j \\mathcal{N}[u^{n+c_j}].\n",
        "\\end{array}\n",
        "$$\n",
        "\n",
        "Here, $u^{n+c_j}(x) = u(t^n + c_j \\Delta t, x)$ for $j=1, \\ldots, q$. This general form encapsulates both implicit and explicit time-stepping schemes, depending on the choice of the parameters $\\{a_{ij},b_j,c_j\\}$. The above equations  can be equivalently expressed as\n",
        "\n",
        "$$\n",
        "\\begin{array}{ll}\n",
        "u^{n} = u^n_i, \\ \\ i=1,\\ldots,q,\\\\\n",
        "u^n = u^n_{q+1},\n",
        "\\end{array}\n",
        "$$\n",
        "\n",
        "where\n",
        "\n",
        "$$\n",
        "\\begin{array}{ll}\n",
        "u^n_i := u^{n+c_i} + \\Delta t \\sum_{j=1}^q a_{ij} \\mathcal{N}[u^{n+c_j}], \\ \\ i=1,\\ldots,q,\\\\\n",
        "u^n_{q+1} := u^{n+1} + \\Delta t \\sum_{j=1}^q b_j \\mathcal{N}[u^{n+c_j}].\n",
        "\\end{array}\n",
        "$$\n",
        "\n",
        "We now proceed by placing a multi-output neural network prior on\n",
        "$$\n",
        "\\begin{bmatrix}\n",
        "u^{n+c_1}(x), \\ldots, u^{n+c_q}(x), u^{n+1}(x)\n",
        "\\end{bmatrix}.\n",
        "$$\n",
        "This prior assumption results in a \\emph{physics-informed neural network} (PINN) that takes $x$ as an input and outputs\n",
        "$$\n",
        "\\begin{bmatrix}\n",
        "u^n_1(x), \\ldots, u^n_q(x), u^n_{q+1}(x)\n",
        "\\end{bmatrix}.\n",
        "$$\n",
        "\n",
        "## Model training\n",
        "\n",
        "To illustrate the training procedure of a discrete-time PINN, let us consider the Allen-Cahn equation with periodic boundary conditions\n",
        "\\begin{eqnarray} \\label{eq:Allen-Cahn}\n",
        "&&u_t - 0.0001 u_{xx} + 5 u^3 - 5 u = 0, \\ \\ \\ x \\in [-1,1], \\ \\ \\ t \\in [0,1],\\\\\n",
        "&&u(0, x) = x^2 \\cos(\\pi x),\\nonumber\\\\\n",
        "&&u(t,-1) = u(t,1),\\nonumber\\\\\n",
        "&&u_x(t,-1) = u_x(t,1).\\nonumber\n",
        "\\end{eqnarray}\n",
        "\n",
        "The Allen-Cahn equation is a well-known equation from the area of reaction-diffusion systems. It describes the process of phase separation in multi-component alloy systems, including order-disorder transitions. For the Allen-Cahn equation, the nonlinear operator is given by\n",
        "$$\n",
        "\\mathcal{N}[u^{n+c_j}] = -0.0001 u^{n+c_j}_{xx} + 5 \\left(u^{n+c_j}\\right)^3 - 5 u^{n+c_j},\n",
        "$$\n",
        "and the shared parameters of the neural networks can be learned by minimizing the sum of squared errors\n",
        "\\begin{equation}\n",
        "SSE = SSE_n + SSE_b,\n",
        "\\end{equation}\n",
        "where\n",
        "$$\n",
        "SSE_n = \\sum_{j=1}^{q+1} \\sum_{i=1}^{N_n} |u^n_j(x^{n,i}) - u^{n,i}|^2,\n",
        "$$\n",
        "and\n",
        "\\begin{eqnarray*}\n",
        "SSE_b &=& \\sum_{i=1}^q |u^{n+c_i}(-1) - u^{n+c_i}(1)|^2 + |u^{n+1}(-1) - u^{n+1}(1)|^2 \\\\\n",
        "      &+& \\sum_{i=1}^q |u_x^{n+c_i}(-1) - u_x^{n+c_i}(1)|^2 + |u_x^{n+1}(-1) - u_x^{n+1}(1)|^2.\n",
        "\\end{eqnarray*}\n",
        "Here, $\\{x^{n,i}, u^{n,i}\\}_{i=1}^{N_n}$ corresponds to the data at time-step $t^n$. In classical numerical analysis, these time-steps are usually confined to be small due to stability constraints for explicit schemes or computational complexity constrains for implicit formulations \\cite{iserles2009first}. These constraints become more severe as the total number of Runge-Kutta stages $q$ is increased, and, for most problems of practical interest, one needs to take thousands to millions of such steps until the solution is resolved up to a desired final time. In sharp contrast to classical methods, here we can employ implicit Runge-Kutta schemes with an arbitrarily large number of stages at effectively very little extra cost.To be precise, it is only the number of parameters in the last layer of the neural network that increases linearly with the total number of stages.} This enables us to take very large time steps while retaining stability and high predictive accuracy, therefore allowing us to resolve the entire spatio-temporal solution in a single step."
      ]
    },
    {
      "cell_type": "markdown",
      "metadata": {
        "id": "vmdUNAkoecHs"
      },
      "source": [
        "# Tensorflow Implementation\n",
        "All elements defining our discrete-time neural network implementation can be summarized in the following Tensorflow class."
      ]
    },
    {
      "cell_type": "code",
      "metadata": {
        "id": "zW1gw-JRecHt",
        "outputId": "f78da397-a74c-4955-eaec-08859791fcdf"
      },
      "source": [
        "# Import required packages\n",
        "import tensorflow as tf\n",
        "import numpy as np\n",
        "import matplotlib.pyplot as plt\n",
        "import time\n",
        "from tqdm import tqdm\n",
        "import scipy.io\n",
        "from plotting import newfig, savefig\n",
        "import matplotlib.gridspec as gridspec\n",
        "from mpl_toolkits.axes_grid1 import make_axes_locatable\n",
        "\n",
        "# Fix random seed for reproducibility\n",
        "np.random.seed(1234)\n",
        "tf.set_random_seed(1234)"
      ],
      "execution_count": null,
      "outputs": [
        {
          "output_type": "stream",
          "text": [
            "/Users/paris/tensorflow/lib/python3.7/importlib/_bootstrap.py:219: RuntimeWarning: compiletime version 3.6 of module 'tensorflow.python.framework.fast_tensor_util' does not match runtime version 3.7\n",
            "  return f(*args, **kwds)\n"
          ],
          "name": "stderr"
        }
      ]
    },
    {
      "cell_type": "code",
      "metadata": {
        "id": "YEl50BNXecHu"
      },
      "source": [
        "class AllenCahn1D:\n",
        "    # Initialize the class\n",
        "    def __init__(self, x0, u0, x1, layers, dt, q):\n",
        "        \n",
        "        # Normalization constants\n",
        "        self.mu_x, self.sigma_x = x0.mean(0), x0.std(0)\n",
        "        \n",
        "        # Normalize inputs\n",
        "        x0 = (x0 - self.mu_x)/self.sigma_x\n",
        "        x1 = (x1 - self.mu_x)/self.sigma_x\n",
        "        \n",
        "        # Store data in class\n",
        "        self.x0 = x0\n",
        "        self.x1 = x1\n",
        "        self.u0 = u0\n",
        "        \n",
        "        self.layers = layers\n",
        "        self.dt = dt\n",
        "        self.q = max(q,1)\n",
        "    \n",
        "        # Initialize NN\n",
        "        self.weights, self.biases = self.initialize_NN(layers)\n",
        "        \n",
        "        # Load IRK weights\n",
        "        tmp = np.float32(np.loadtxt('../data/Butcher_IRK%d.txt' % (q), ndmin = 2))\n",
        "        self.IRK_weights = np.reshape(tmp[0:q**2+q], (q+1,q))\n",
        "        self.IRK_times = tmp[q**2+q:]\n",
        "        \n",
        "        # tf placeholders and graph\n",
        "        self.sess = tf.Session(config=tf.ConfigProto(allow_soft_placement=True,\n",
        "                                                     log_device_placement=True))\n",
        "        \n",
        "        self.x0_tf = tf.placeholder(tf.float32, shape=(None, self.x0.shape[1]))\n",
        "        self.x1_tf = tf.placeholder(tf.float32, shape=(None, self.x1.shape[1]))\n",
        "        self.u0_tf = tf.placeholder(tf.float32, shape=(None, self.u0.shape[1]))\n",
        "        self.dummy_x0_tf = tf.placeholder(tf.float32, shape=(None, self.q)) # dummy variable for fwd_gradients\n",
        "        self.dummy_x1_tf = tf.placeholder(tf.float32, shape=(None, self.q+1)) # dummy variable for fwd_gradients\n",
        "        \n",
        "        self.U0_pred = self.net_U0(self.x0_tf) # N x (q+1)\n",
        "        self.U1_pred, self.U1_x_pred= self.net_U1(self.x1_tf) # N1 x (q+1)\n",
        "        \n",
        "        self.loss = tf.reduce_sum(tf.square(self.u0_tf - self.U0_pred)) + \\\n",
        "                    tf.reduce_sum(tf.square(self.U1_pred[0,:] - self.U1_pred[1,:])) + \\\n",
        "                    tf.reduce_sum(tf.square(self.U1_x_pred[0,:] - self.U1_x_pred[1,:]))                     \n",
        "        \n",
        "        # Define optimizer  with learning rate schedule\n",
        "        self.global_step = tf.Variable(0, trainable=False)\n",
        "        starter_learning_rate = 1e-3\n",
        "        self.learning_rate = tf.train.exponential_decay(starter_learning_rate, self.global_step,\n",
        "                                                   1000, 0.9, staircase=False)\n",
        "        # Passing global_step to minimize() will increment it at each step.\n",
        "        self.train_op = tf.train.AdamOptimizer(self.learning_rate).minimize(self.loss, global_step=self.global_step)\n",
        "                \n",
        "        # Define optimizer (use L-BFGS for better accuracy)       \n",
        "        self.optimizer = tf.contrib.opt.ScipyOptimizerInterface(self.loss, \n",
        "                                                                method = 'L-BFGS-B', \n",
        "                                                                options = {'maxiter': 50000,\n",
        "                                                                           'maxfun': 50000,\n",
        "                                                                           'maxcor': 50,\n",
        "                                                                           'maxls': 50,\n",
        "                                                                           'ftol' : 1.0 * np.finfo(np.float32).eps})\n",
        "        \n",
        "        # Logger\n",
        "        self.loss_log = []\n",
        "        self.saver = tf.train.Saver()\n",
        "        \n",
        "        init = tf.global_variables_initializer()\n",
        "        self.sess.run(init)\n",
        "        \n",
        "    def initialize_NN(self, layers):        \n",
        "        weights = []\n",
        "        biases = []\n",
        "        num_layers = len(layers) \n",
        "        for l in range(0,num_layers-1):\n",
        "            W = self.xavier_init(size=[layers[l], layers[l+1]])\n",
        "            b = tf.Variable(tf.zeros([1,layers[l+1]], dtype=tf.float32), dtype=tf.float32)\n",
        "            weights.append(W)\n",
        "            biases.append(b)        \n",
        "        return weights, biases\n",
        "        \n",
        "    def xavier_init(self, size):\n",
        "        in_dim = size[0]\n",
        "        out_dim = size[1]        \n",
        "        xavier_stddev = np.sqrt(2/(in_dim + out_dim))\n",
        "        return tf.Variable(tf.truncated_normal([in_dim, out_dim], stddev=xavier_stddev), dtype=tf.float32)\n",
        "    \n",
        "    # Evaluates the forward pass\n",
        "    def forward_pass(self, H):\n",
        "        num_layers = len(self.layers)\n",
        "        for l in range(0,num_layers-2):\n",
        "            W = self.weights[l]\n",
        "            b = self.biases[l]\n",
        "            H = tf.tanh(tf.add(tf.matmul(H, W), b))\n",
        "        W = self.weights[-1]\n",
        "        b = self.biases[-1]\n",
        "        H = tf.add(tf.matmul(H, W), b)\n",
        "        return H\n",
        "    \n",
        "    def fwd_gradients_0(self, U, x):        \n",
        "        g = tf.gradients(U, x, grad_ys=self.dummy_x0_tf)[0]\n",
        "        return tf.gradients(g, self.dummy_x0_tf)[0]\n",
        "    \n",
        "    def fwd_gradients_1(self, U, x):        \n",
        "        g = tf.gradients(U, x, grad_ys=self.dummy_x1_tf)[0]\n",
        "        return tf.gradients(g, self.dummy_x1_tf)[0]\n",
        "    \n",
        "    def net_U0(self, x):\n",
        "        U1 = self.forward_pass(x)\n",
        "        U = U1[:,:-1]\n",
        "        U_x = self.fwd_gradients_0(U, x)/self.sigma_x\n",
        "        U_xx = self.fwd_gradients_0(U_x, x)/self.sigma_x\n",
        "        F = 5.0*U - 5.0*U**3 + 0.0001*U_xx\n",
        "        U0 = U1 - self.dt*tf.matmul(F, self.IRK_weights.T)\n",
        "        return U0\n",
        "\n",
        "    def net_U1(self, x):\n",
        "        U1 = self.forward_pass(x)\n",
        "        U1_x = self.fwd_gradients_1(U1, x)/self.sigma_x\n",
        "        return U1, U1_x # N x (q+1)\n",
        "    \n",
        "    def callback(self, loss):\n",
        "        print('Loss:', loss)\n",
        "    \n",
        "    def train(self, nIter):\n",
        "        tf_dict = {self.x0_tf: self.x0, self.u0_tf: self.u0, self.x1_tf: self.x1,\n",
        "                   self.dummy_x0_tf: np.ones((self.x0.shape[0], self.q)),\n",
        "                   self.dummy_x1_tf: np.ones((self.x1.shape[0], self.q+1))}\n",
        "        \n",
        "        start_time = time.time()\n",
        "        for it in tqdm(range(nIter)):\n",
        "            # Run the Tensorflow session to minimize the loss\n",
        "            self.sess.run(self.train_op, tf_dict)\n",
        "            \n",
        "            # Print\n",
        "            if it % 50 == 0:\n",
        "                elapsed = time.time() - start_time\n",
        "                loss_value = self.sess.run(self.loss, tf_dict)\n",
        "                self.loss_log.append(loss_value)\n",
        "#                 print('It: %d, Loss: %.3e, Time: %.2f' % \n",
        "#                       (it, loss_value, elapsed))\n",
        "                start_time = time.time()\n",
        "    \n",
        "    \n",
        "    # Trains the model by minimizing the MSE loss using L-BFGS\n",
        "    def fine_tune(self):\n",
        "        # Define a dictionary for associating placeholders with data\n",
        "        tf_dict = {self.x0_tf: self.x0, self.u0_tf: self.u0, self.x1_tf: self.x1,\n",
        "                   self.dummy_x0_tf: np.ones((self.x0.shape[0], self.q)),\n",
        "                   self.dummy_x1_tf: np.ones((self.x1.shape[0], self.q+1))}\n",
        "\n",
        "        # Call SciPy's L-BFGS otpimizer\n",
        "        self.optimizer.minimize(self.sess,\n",
        "                                feed_dict = tf_dict,\n",
        "                                fetches = [self.loss],\n",
        "                                loss_callback = self.callback)\n",
        "        \n",
        "    def predict(self, x_star):\n",
        "        x_star = (x_star - self.mu_x)/self.sigma_x\n",
        "        U1_star = self.sess.run(self.U1_pred, {self.x1_tf: x_star})          \n",
        "        return U1_star"
      ],
      "execution_count": null,
      "outputs": []
    },
    {
      "cell_type": "markdown",
      "metadata": {
        "id": "VcI4rN1LecHy"
      },
      "source": [
        "# Example simulation\n",
        "\n",
        "Now we are ready to set up and execute our first discrete-time PINN simulation. "
      ]
    },
    {
      "cell_type": "code",
      "metadata": {
        "id": "mb_Rn6CuecHz",
        "outputId": "a0aafdc6-5e62-46c6-8c73-88443b46d785"
      },
      "source": [
        "# Number of IRK stages\n",
        "q = 100\n",
        "\n",
        "# Fully-connected neural net architecture (dimensions of each layer)\n",
        "layers = [1, 200, 200, 200, 200, q+1]\n",
        "\n",
        "# Domain bounds\n",
        "lb = np.array([-1.0])\n",
        "ub = np.array([1.0])\n",
        "\n",
        "# Number of spatial points\n",
        "N = 200\n",
        "\n",
        "# Load reference solution computed with a high-order spectral method\n",
        "data = scipy.io.loadmat('../data/AC.mat')\n",
        "\n",
        "# Fetch space/time points and solution values\n",
        "t = data['tt'].flatten()[:,None] # T x 1\n",
        "x = data['x'].flatten()[:,None] # N x 1\n",
        "Exact = np.real(data['uu']).T # T x N\n",
        "\n",
        "# Determine two temporal snapshots to be used as training data\n",
        "idx_t0 = 20\n",
        "idx_t1 = 180\n",
        "dt = t[idx_t1] - t[idx_t0]\n",
        "\n",
        "print('Simulation time-step: %f' % (dt))"
      ],
      "execution_count": null,
      "outputs": [
        {
          "output_type": "stream",
          "text": [
            "Simulation time-step: 0.800000\n"
          ],
          "name": "stdout"
        }
      ]
    },
    {
      "cell_type": "code",
      "metadata": {
        "id": "DuDp9a6jecH0"
      },
      "source": [
        "# Initial data (randomly subsampled from true solution at time t0)\n",
        "noise_u0 = 0.0\n",
        "idx_x = np.random.choice(Exact.shape[1], N, replace=False) \n",
        "x0 = x[idx_x,:]\n",
        "u0 = Exact[idx_t0:idx_t0+1,idx_x].T\n",
        "u0 = u0 + noise_u0*np.std(u0)*np.random.randn(u0.shape[0], u0.shape[1])\n",
        "\n",
        "# Location of boudanry data\n",
        "x1 = np.vstack((lb,ub))\n",
        "\n",
        "# Test data\n",
        "x_star = x"
      ],
      "execution_count": null,
      "outputs": []
    },
    {
      "cell_type": "code",
      "metadata": {
        "id": "EnyzkXeGecH0",
        "outputId": "a4a15988-7163-41fc-92d7-c9cccdfda733"
      },
      "source": [
        "#  Define discrete-time PINN model\n",
        "model = AllenCahn1D(x0, u0, x1, layers, dt, q)"
      ],
      "execution_count": null,
      "outputs": [
        {
          "output_type": "stream",
          "text": [
            "WARNING: Logging before flag parsing goes to stderr.\n",
            "W0725 10:48:48.211478 4447851968 deprecation.py:323] From /Users/paris/tensorflow/lib/python3.7/site-packages/tensorflow/python/ops/math_grad.py:1205: add_dispatch_support.<locals>.wrapper (from tensorflow.python.ops.array_ops) is deprecated and will be removed in a future version.\n",
            "Instructions for updating:\n",
            "Use tf.where in 2.0, which has the same broadcast rule as np.where\n",
            "W0725 10:48:49.356060 4447851968 lazy_loader.py:50] \n",
            "The TensorFlow contrib module will not be included in TensorFlow 2.0.\n",
            "For more information, please see:\n",
            "  * https://github.com/tensorflow/community/blob/master/rfcs/20180907-contrib-sunset.md\n",
            "  * https://github.com/tensorflow/addons\n",
            "  * https://github.com/tensorflow/io (for I/O related ops)\n",
            "If you depend on functionality not listed there, please file an issue.\n",
            "\n"
          ],
          "name": "stderr"
        }
      ]
    },
    {
      "cell_type": "code",
      "metadata": {
        "id": "M8mP_XlVecH0",
        "outputId": "77313808-6184-4a94-9730-d42264ff2e12"
      },
      "source": [
        "# Load stored model\n",
        "model.saver.restore(model.sess, \"../SavedModels/AllenCahn1D.ckpt\")\n",
        "\n",
        "# Train model using full batch gradient descent\n",
        "model.train(5000)"
      ],
      "execution_count": null,
      "outputs": [
        {
          "output_type": "stream",
          "text": [
            "W0725 10:48:51.634472 4447851968 deprecation.py:323] From /Users/paris/tensorflow/lib/python3.7/site-packages/tensorflow/python/training/saver.py:1276: checkpoint_exists (from tensorflow.python.training.checkpoint_management) is deprecated and will be removed in a future version.\n",
            "Instructions for updating:\n",
            "Use standard file APIs to check for files with this prefix.\n",
            "100%|██████████| 5000/5000 [01:10<00:00, 70.84it/s]\n"
          ],
          "name": "stderr"
        }
      ]
    },
    {
      "cell_type": "code",
      "metadata": {
        "id": "NrXZTuYrecH0",
        "outputId": "1bed0182-dbc0-4b35-871b-6c0033f51493"
      },
      "source": [
        "# Compute prediction using the trained model\n",
        "U1_pred = model.predict(x_star)\n",
        "error = np.linalg.norm(U1_pred[:,-1] - Exact[idx_t1,:], 2)/np.linalg.norm(Exact[idx_t1,:], 2)\n",
        "print('Relative L2 error: %e' % (error))"
      ],
      "execution_count": null,
      "outputs": [
        {
          "output_type": "stream",
          "text": [
            "Relative L2 error: 1.660977e-02\n"
          ],
          "name": "stdout"
        }
      ]
    },
    {
      "cell_type": "code",
      "metadata": {
        "id": "C9mqHrfFecH1",
        "outputId": "aaa8055a-d5c0-4947-f4b2-a4e064aad1e1"
      },
      "source": [
        "# Plot solution\n",
        "fig, ax = newfig(1.0, 1.2)\n",
        "ax.axis('off')\n",
        "\n",
        "####### Row 0: h(t,x) ##################    \n",
        "gs0 = gridspec.GridSpec(1, 2)\n",
        "gs0.update(top=1-0.06, bottom=1-1/2 + 0.1, left=0.15, right=0.85, wspace=0)\n",
        "ax = plt.subplot(gs0[:, :])\n",
        "\n",
        "h = ax.imshow(Exact.T, interpolation='nearest', cmap='seismic', \n",
        "              extent=[t.min(), t.max(), x_star.min(), x_star.max()], \n",
        "              origin='lower', aspect='auto')\n",
        "divider = make_axes_locatable(ax)\n",
        "cax = divider.append_axes(\"right\", size=\"5%\", pad=0.05)\n",
        "fig.colorbar(h, cax=cax)\n",
        "\n",
        "line = np.linspace(x.min(), x.max(), 2)[:,None]\n",
        "ax.plot(t[idx_t0]*np.ones((2,1)), line, 'w-', linewidth = 1)\n",
        "ax.plot(t[idx_t1]*np.ones((2,1)), line, 'w-', linewidth = 1)\n",
        "\n",
        "ax.set_xlabel('$t$')\n",
        "ax.set_ylabel('$x$')\n",
        "leg = ax.legend(frameon=False, loc = 'best')\n",
        "ax.set_title('$u(t,x)$', fontsize = 10)\n",
        "\n",
        "\n",
        "####### Row 1: h(t,x) slices ##################    \n",
        "gs1 = gridspec.GridSpec(1, 2)\n",
        "gs1.update(top=1-1/2-0.05, bottom=0.15, left=0.15, right=0.85, wspace=0.5)\n",
        "\n",
        "ax = plt.subplot(gs1[0, 0])\n",
        "ax.plot(x,Exact[idx_t0,:], 'b-', linewidth = 2) \n",
        "ax.plot(x0, u0, 'rx', linewidth = 2, label = 'Data')      \n",
        "ax.set_xlabel('$x$')\n",
        "ax.set_ylabel('$u(t,x)$')    \n",
        "ax.set_title('$t = %.2f$' % (t[idx_t0]), fontsize = 10)\n",
        "ax.set_xlim([lb-0.1, ub+0.1])\n",
        "ax.legend(loc='upper center', bbox_to_anchor=(0.8, -0.3), ncol=2, frameon=False)\n",
        "\n",
        "\n",
        "ax = plt.subplot(gs1[0, 1])\n",
        "ax.plot(x,Exact[idx_t1,:], 'b-', linewidth = 2, label = 'Exact') \n",
        "ax.plot(x_star, U1_pred[:,-1], 'r--', linewidth = 2, label = 'Prediction')      \n",
        "ax.set_xlabel('$x$')\n",
        "ax.set_ylabel('$u(t,x)$')    \n",
        "ax.set_title('$t = %.2f$' % (t[idx_t1]), fontsize = 10)    \n",
        "ax.set_xlim([lb-0.1, ub+0.1])\n",
        "\n",
        "ax.legend(loc='upper center', bbox_to_anchor=(0.1, -0.3), ncol=2, frameon=False)"
      ],
      "execution_count": null,
      "outputs": [
        {
          "output_type": "stream",
          "text": [
            "W0725 10:50:17.453647 4447851968 legend.py:1282] No handles with labels found to put in legend.\n"
          ],
          "name": "stderr"
        },
        {
          "output_type": "execute_result",
          "data": {
            "text/plain": [
              "<matplotlib.legend.Legend at 0x7fabe043bc50>"
            ]
          },
          "metadata": {
            "tags": []
          },
          "execution_count": 9
        },
        {
          "output_type": "display_data",
          "data": {
            "image/png": "[encoded data removed]",
            "text/plain": [
              "<Figure size 388.543x288.159 with 4 Axes>"
            ]
          },
          "metadata": {
            "tags": [],
            "needs_background": "light"
          }
        }
      ]
    },
    {
      "cell_type": "code",
      "metadata": {
        "id": "31_C3sRhecH1",
        "outputId": "06017490-3951-46b9-e2aa-6072745fa860"
      },
      "source": [
        "# Save model\n",
        "model.saver.save(model.sess, \"../SavedModels/AllenCahn1D.ckpt\")"
      ],
      "execution_count": null,
      "outputs": [
        {
          "output_type": "execute_result",
          "data": {
            "text/plain": [
              "'./SavedModels/AllenCahn1D.ckpt'"
            ]
          },
          "metadata": {
            "tags": []
          },
          "execution_count": 12
        }
      ]
    },
    {
      "cell_type": "code",
      "metadata": {
        "id": "nxKl0o8VecH1"
      },
      "source": [
        ""
      ],
      "execution_count": null,
      "outputs": []
    }
  ]
}