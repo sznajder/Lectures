{
  "nbformat": 4,
  "nbformat_minor": 0,
  "metadata": {
    "kernelspec": {
      "display_name": "Python 3",
      "language": "python",
      "name": "python3"
    },
    "language_info": {
      "codemirror_mode": {
        "name": "ipython",
        "version": 3
      },
      "file_extension": ".py",
      "mimetype": "text/x-python",
      "name": "python",
      "nbconvert_exporter": "python",
      "pygments_lexer": "ipython3",
      "version": "3.7.6"
    },
    "sparkconnect": {
      "bundled_options": [
        "LongRunningAnalysis",
        "MemoryIntensive"
      ],
      "list_of_options": []
    },
    "colab": {
      "name": "TriggerEfficiencyMeasurement_fromNanoAODonSWAN.ipynb",
      "provenance": [],
      "collapsed_sections": [],
      "include_colab_link": true
    }
  },
  "cells": [
    {
      "cell_type": "markdown",
      "metadata": {
        "id": "view-in-github",
        "colab_type": "text"
      },
      "source": [
        "<a href=\"https://colab.research.google.com/github/sznajder/Notebooks/blob/master/TriggerEfficiencyMeasurement_fromNanoAODonSWAN.ipynb\" target=\"_parent\"><img src=\"https://colab.research.google.com/assets/colab-badge.svg\" alt=\"Open In Colab\"/></a>"
      ]
    },
    {
      "cell_type": "markdown",
      "metadata": {
        "id": "WWrEkZVpGdrh"
      },
      "source": [
        "# Photon trigger efficiency measurement for EWK $\\gamma$jj measurement\n",
        "\n",
        "### Author: Pedro Vieira de Castro Ferreira Da Silva ( Pedro.Silva@cern.ch )\n"
      ]
    },
    {
      "cell_type": "markdown",
      "metadata": {
        "id": "lRlARUktGdri"
      },
      "source": [
        "## First part: event selection and data preparation\n",
        "\n",
        "This first part takes a long time to run (order 4h for full RunII) and just needs to be executed once to gather the inputs needed for the trigger efficiency measurement."
      ]
    },
    {
      "cell_type": "code",
      "metadata": {
        "id": "mBGTqyrdGdri"
      },
      "source": [
        "#uncomment if you need to install something missing\n",
        "#!pip install --user tqdm"
      ],
      "execution_count": null,
      "outputs": []
    },
    {
      "cell_type": "code",
      "metadata": {
        "id": "XT9P4gidGdrl"
      },
      "source": [
        "import os\n",
        "import re\n",
        "import tables as tb\n",
        "import numpy as np\n",
        "import pandas as pd\n",
        "\n",
        "%load_ext autoreload\n",
        "%autoreload 2\n",
        "\n",
        "!mkdir -p data/Chunks"
      ],
      "execution_count": null,
      "outputs": []
    },
    {
      "cell_type": "code",
      "metadata": {
        "id": "KbeQkoiqHb59"
      },
      "source": [
        "import numpy as np\n",
        "import pandas as pd\n",
        "import ROOT\n",
        "import PyRDF\n",
        "\n",
        "def getTriggersFor(era,isMC):\n",
        "    \n",
        "    \"\"\" returns the trigger list for a given era \"\"\"\n",
        "    \n",
        "    trigs=[]\n",
        "    if '2016' in era:\n",
        "        trigs=['HLT_Photon75_R9Id90_HE10_Iso40_EBOnly_VBF',\n",
        "               'HLT_Photon50',\n",
        "               'HLT_Photon50_R9Id90_HE10_IsoM',\n",
        "               'HLT_Photon75_R9Id90_HE10_IsoM',\n",
        "               'HLT_Photon175',                            \n",
        "               'HLT_Photon90']\n",
        "    if '2017' in era:\n",
        "        trigs=['HLT_Photon200',\n",
        "               'HLT_Photon150']\n",
        "        if '2017_F' in era or isMC:\n",
        "            trigs += ['HLT_Photon75_R9Id90_HE10_IsoM_EBOnly_PFJetsMJJ300DEta3',\n",
        "                      'HLT_Photon50_R9Id90_HE10_IsoM',\n",
        "                      'HLT_Photon75_R9Id90_HE10_IsoM']\n",
        "    if '2018' in era:\n",
        "        trigs=['HLT_Photon75_R9Id90_HE10_IsoM_EBOnly_PFJetsMJJ300DEta3',\n",
        "               'HLT_Photon50',\n",
        "               'HLT_Photon50_R9Id90_HE10_IsoM',\n",
        "               'HLT_Photon200',\n",
        "               'HLT_Photon90']\n",
        "        \n",
        "    return trigs\n",
        "\n",
        "\n",
        "def defineSelectionAndBranches(files,era,isData,local=False):\n",
        "\n",
        "    \"\"\"\n",
        "    wraps the procedure of selecting the events and collecting the necessary info in a small dataframe\n",
        "    returns a pandas DataFrame\n",
        "    \"\"\"\n",
        "    \n",
        "    if local:\n",
        "        ROOT.ROOT.EnableImplicitMT()\n",
        "        PyRDF.use('local')\n",
        "    else:\n",
        "        PyRDF.use('spark', {'npartitions':12})\n",
        "        files = ['root://eosuser.cern.ch/{}'.format(x) if x.find('root:')<0 else x for x in files]\n",
        "    \n",
        "    PyRDF.include_headers(\"snippets/kinematics_helpers.h\")\n",
        "    \n",
        "    #define the selections and branches with an RDataFrame\n",
        "    rdf = PyRDF.RDataFrame(\"Events\", files)\n",
        "\n",
        "    branchList=['run','PV_npvsGood']\n",
        "    if not isData:\n",
        "        branchList += ['genWeight','puWeight']\n",
        "\n",
        "    #trigger selection (require at least one fired)\n",
        "    trigs=getTriggersFor(era,False if isData else True)\n",
        "    triggerBranches=[]\n",
        "    for t in trigs:\n",
        "        b='Pass_{}'.format(t)\n",
        "        rdf=rdf.Define(b, 'int({}==1)'.format(t) )\n",
        "        triggerBranches.append(b)\n",
        "    trigFilt='+'.join(triggerBranches)+'>0'\n",
        "    rdf=rdf.Filter(trigFilt,'Trigger')\n",
        "    branchList+=triggerBranches\n",
        "\n",
        "    #photon selection\n",
        "    good_photon  = 'Photon_pt>50 && (Photon_isScEtaEB==1 || Photon_isScEtaEE==1)'      #kinematics\n",
        "    good_photon += '&& Photon_cutBased==3 && Photon_pixelSeed==0'                      #identification\n",
        "    rdf = rdf.Define('good_photon',good_photon) \\\n",
        "             .Define('na','Sum(good_photon)') \\\n",
        "             .Filter('na>0','Photon selection')\n",
        "    photonBranches=['pt','eta','phi','isScEtaEB']\n",
        "    for attr in photonBranches:\n",
        "        if attr=='isScEtaEB':\n",
        "            rdf=rdf.Define(attr,'int(Photon_{}[good_photon][0])'.format(attr))\n",
        "        else:\n",
        "            rdf=rdf.Define(attr,'Photon_{}[good_photon][0]'.format(attr))            \n",
        "    branchList += photonBranches\n",
        "    \n",
        "    #jet selection\n",
        "    good_jet  = 'Jet_pt>30 && abs(Jet_eta)<4.7'                                 #kinematics\n",
        "    #good_jet += ' && sqrt(pow(eta-Jet_eta,2)+pow(DeltaPhi(phi,Jet_phi),2))>0.4' #cross clean to photon candidate\n",
        "    good_jet += ' && crossClean(Jet_eta,Jet_phi,eta,phi)'                       #cross clean to photon candidate\n",
        "    good_jet += ' && Jet_puId>6'                                                #pileup id (loose bit activ)\n",
        "    if '2016' in era:\n",
        "        good_jet += ' && Jet_jetId>0'                                           #loose id\n",
        "    if '2017' in era:\n",
        "        good_jet += ' && Jet_jetId>1'                                           #tight lep veto and ECAL noise       \n",
        "        good_jet += ' && !(abs(Jet_eta)>2.650 && abs(Jet_eta)<3.139 && (Jet_chEmEF+Jet_neEmEF>0.55))'    \n",
        "    if '2018' in era:\n",
        "        good_jet += ' && Jet_jetId>1'                                           #tight lep veto and HEM 15/16 failure\n",
        "        good_jet += ' && !(Jet_eta>-3.0 && Jet_eta<-1.3 && Jet_phi>-1.57 && Jet_phi<-0.87)'\n",
        "    rdf = rdf.Define('good_jet',good_jet) \\\n",
        "             .Define('nj','Sum(good_jet)') \\\n",
        "             .Define('ptj1','nj>0 ? Jet_pt[good_jet][0] : -9999.') \\\n",
        "             .Define('ptj2','nj>1 ? Jet_pt[good_jet][1] : -9999.') \\\n",
        "             .Define('detajj','nj>1 ? Jet_eta[good_jet][0]-Jet_eta[good_jet][1]: -9999.') \\\n",
        "             .Define('detaaj1','nj>0 && na>0 ? Jet_eta[good_jet][0]-Photon_eta[good_photon][0] : -9999.') \\\n",
        "             .Define('detaaj2','nj>1 && na>0 ? Jet_eta[good_jet][1]-Photon_eta[good_photon][0] : -9999.') \\\n",
        "             .Define('mjj','GetPairInvariantMass(Jet_pt[good_jet], Jet_eta[good_jet], Jet_phi[good_jet], Jet_mass[good_jet], 0, 1)') \\\n",
        "             .Define('maj1','GetInvariantMassWithConstantM(Jet_pt[good_jet], Jet_eta[good_jet], Jet_phi[good_jet], Jet_mass[good_jet],Photon_pt[good_photon],Photon_eta[good_photon],Photon_phi[good_photon],0.,0,0)') \\\n",
        "             .Define('maj2','GetInvariantMassWithConstantM(Jet_pt[good_jet], Jet_eta[good_jet], Jet_phi[good_jet], Jet_mass[good_jet],Photon_pt[good_photon],Photon_eta[good_photon],Photon_phi[good_photon],0.,1,0)')\n",
        "    branchList += ['nj','ptj1','ptj2','detajj','detaaj1','detaaj2','mjj','maj1','maj2']\n",
        "\n",
        "    #all done here\n",
        "    return rdf,branchList"
      ],
      "execution_count": null,
      "outputs": []
    },
    {
      "cell_type": "markdown",
      "metadata": {
        "id": "vCXasrm3Gdrn"
      },
      "source": [
        "Collect the information about the samples of interest: list of samples to files."
      ]
    },
    {
      "cell_type": "code",
      "metadata": {
        "id": "sBTgn3n_Gdrn"
      },
      "source": [
        "#build the list of selection tasks\n",
        "#from snippets.file_helpers import collectInputs\n",
        "\n",
        "PATHS=['/eos/cms/store/cmst3/group/top/SMP-19-005/july20/SinglePhoton/',\n",
        "       '/eos/cms/store/cmst3/group/top/SMP-19-005/july20/EGamma/',\n",
        "       '/eos/cms/store/cmst3/group/top/SMP-19-005/july20/GJets_SM_5f_TuneCH3_EWK_13TeV-madgraph-herwig7',\n",
        "       '/eos/cms/store/cmst3/group/top/SMP-19-005/july20/GJets_SM_5f_TuneCUETP8M1_EWK_13TeV-madgraph-pythia8',\n",
        "       '/eos/cms/store/cmst3/group/top/SMP-19-005/july20/GJets_SM_5f_TuneEE5C_EWK_13TeV-madgraph-herwigpp',\n",
        "       '/eos/cms/store/cmst3/group/top/SMP-19-005/july20/GJets_SM_5f_TuneCP5_EWK_13TeV-madgraph-pythia8',\n",
        "      ]\n",
        "\n",
        "samples_list=collectInputs(PATHS)\n",
        "                \n",
        "print('I have collected a total of {} tasks'.format(len(samples_list)))\n",
        "print(list(samples_list.keys()))"
      ],
      "execution_count": null,
      "outputs": []
    },
    {
      "cell_type": "markdown",
      "metadata": {
        "id": "5RtUey6bGdrq"
      },
      "source": [
        "### Event selection\n",
        "\n",
        "The following cell defines methods to steer the event selection and saving a summary of the trigger efficiency measurement."
      ]
    },
    {
      "cell_type": "code",
      "metadata": {
        "id": "aOf3XvaoGdrr"
      },
      "source": [
        "from snippets.selection_helpers import *\n",
        "\n",
        "def getSnapshot(files,era,isData,local=False,saveSnapshot=None):\n",
        "  \n",
        "    \"\"\"applies the selection to save a ROOT snapshot or get the summary as a pandas dataframe\"\"\"\n",
        "\n",
        "    rdf,branchList = defineSelectionAndBranches(files,era,isData,local)\n",
        "    \n",
        "    #save as a snapshot?\n",
        "    if saveSnapshot:\n",
        "        vec_outbranchlist = ROOT.vector('string')()\n",
        "        [vec_outbranchlist.push_back(b) for b in branchList]\n",
        "        rdf.Snapshot('Events',saveSnapshot,vec_outbranchlist)\n",
        "    \n",
        "    return pd.DataFrame(rdf.AsNumpy(columns=branchList))"
      ],
      "execution_count": null,
      "outputs": []
    },
    {
      "cell_type": "markdown",
      "metadata": {
        "id": "WNCyiAX6Gdrt"
      },
      "source": [
        "Test locally for one sample (not mandatory to evaluate - do it if you need to test some change in the selection code)"
      ]
    },
    {
      "cell_type": "code",
      "metadata": {
        "id": "7OyGJm5LGdrt"
      },
      "source": [
        "#sample='crab_SinglePhoton_2016_B_v2'\n",
        "#isData=True\n",
        "sample='crab_GJets_SM_5f_TuneCP5_EWK_13TeV-madgraph-pythia8_2017_ext1_v1'\n",
        "isData=False\n",
        "f=samples_list[sample][0:2]\n",
        "df=getSnapshot(f,sample,isData=isData,local=False)\n",
        "print('Dataframe has Nan?',df.isnull().values.any(),'shape=',df.shape)\n",
        "df.head()"
      ],
      "execution_count": null,
      "outputs": []
    },
    {
      "cell_type": "markdown",
      "metadata": {
        "id": "2IkVQj6hGdrv"
      },
      "source": [
        "Loop over all the samples to process them using multithreading and spark"
      ]
    },
    {
      "cell_type": "code",
      "metadata": {
        "id": "OTGnEISEGdrv"
      },
      "source": [
        "%timeit\n",
        "\n",
        "def runSelectionTask(args):\n",
        "\n",
        "    \"\"\"runs the selection tasks on a given file/set of files\"\"\"\n",
        "    try:\n",
        "        era,files,force,local = args\n",
        "    \n",
        "        #if output has been produced\n",
        "        out_file='data/Chunks/{}.h5'.format(era)\n",
        "        if os.path.isfile(out_file) and not force:\n",
        "            return\n",
        "        \n",
        "        #process files using spark\n",
        "        isData=False if 'GJets' in era else True\n",
        "        df=getSnapshot(files,era,isData=isData,local=local)\n",
        "\n",
        "        #save result\n",
        "        df.to_hdf(out_file,key='Events',mode='w')\n",
        "    except Exception as e:\n",
        "        print('@ {} failed -better check locally'.format(era))\n",
        "        print(e)\n",
        "        return False\n",
        "    \n",
        "    return True\n",
        "        \n",
        "    \n",
        "def runTasks(tasks_to_run,force=False,ngroup=10,local=False):\n",
        "\n",
        "    \"\"\"\n",
        "    loop over the tasks and submit the analysis in groups of ngroups\n",
        "    force is used to force the re-creation of the summary files\n",
        "    nthreads is used to determine the number of threads used to submit the analysis of each task\n",
        "    \"\"\"\n",
        "    \n",
        "    #loop over tasks\n",
        "    for task,files in tasks_to_run:\n",
        "        \n",
        "        #sub-divide per file\n",
        "        sub_task_list=[]\n",
        "        for i in range(0, len(files),ngroup):\n",
        "            args=('{}_{}'.format(task,i),files[i:i+ngroup],force,local)\n",
        "            runSelectionTask(args)\n",
        "\n",
        "tasks_to_run=list(samples_list.items())\n",
        "runTasks(tasks_to_run=tasks_to_run,\n",
        "         force=False,\n",
        "         ngroup=10,\n",
        "         local=False)"
      ],
      "execution_count": null,
      "outputs": []
    },
    {
      "cell_type": "code",
      "metadata": {
        "id": "sDrQUCQLGdry"
      },
      "source": [
        "#create the merged files per task\n",
        "%timeit\n",
        "from snippets.file_helpers import mergeChunkFiles\n",
        "mergeChunkFiles('data/Chunks','data/Merged')"
      ],
      "execution_count": null,
      "outputs": []
    },
    {
      "cell_type": "markdown",
      "metadata": {
        "id": "8EttvsPtGdr0"
      },
      "source": [
        "## Second part: trigger efficiency measurement\n",
        "\n",
        "In the following we make use of the merged .h5 summary files which were created above. No need to evaluate the cells above for the final results. The configuration of the trigger efficiency measurements is made through the dicts defined in snippets/trig_helpers.py"
      ]
    },
    {
      "cell_type": "code",
      "metadata": {
        "id": "BcLWvxQ3Gdr0",
        "outputId": "f9291225-748d-46bf-f623-cc6e1aafa9a5"
      },
      "source": [
        "%load_ext autoreload\n",
        "%autoreload 2\n",
        "\n",
        "from snippets.trig_helpers import *\n",
        "from snippets.math_helpers import getEfficiency,getScaleFactor\n",
        "import matplotlib.pyplot as plt\n",
        "from matplotlib import gridspec\n",
        "from mpl_toolkits.axes_grid1.inset_locator import inset_axes\n",
        "import pandas as pd\n",
        "import numpy as np\n",
        "\n",
        "\n",
        "#uncomment the line if you want to visualize the available definitions to use\n",
        "#getTrigMeasurementDefinitions()\n",
        "\n",
        "\n",
        "def defineSelectionMasks(df,trig,mask_cuts):\n",
        "\n",
        "    \"\"\"define the selection to apply\"\"\"\n",
        "    \n",
        "    mask=(df['Pass_'+trig]==1) & (df['pt']>mask_cuts['pt']) & (df['PV_npvsGood']>0)\n",
        "    if 'isScEtaEB' in mask_cuts: mask=mask & (df['isScEtaEB']==mask_cuts['isScEtaEB'])\n",
        "    if 'mjj'       in mask_cuts: mask=mask & (df['mjj']>mask_cuts['mjj'])\n",
        "    if 'detajj'    in mask_cuts: mask=mask & (np.abs(df['detajj'])>mask_cuts['detajj'])\n",
        "    if 'ptj1'      in mask_cuts: mask=mask & (np.abs(df['ptj1'])>mask_cuts['ptj1'])\n",
        "    if 'ptj2'      in mask_cuts: mask=mask & (np.abs(df['ptj2'])>mask_cuts['ptj2'])\n",
        "    if 'run'       in mask_cuts: mask=mask & (df['run']>mask_cuts['run'][0]) & (df['run']<mask_cuts['run'][1])\n",
        "                \n",
        "    return mask\n",
        "\n",
        "def computeEfficiency(df,v,trig,ctrl_trig,mask_cuts,bins=25,isWeighted=False):\n",
        "    \n",
        "    \"\"\"wraps up the computation of the efficiency\"\"\"\n",
        "\n",
        "    #get the masks to apply\n",
        "    #in the numerator require also the control trigger\n",
        "    mask_num=defineSelectionMasks(df,trig,mask_cuts)\n",
        "    mask_num &= (df['Pass_'+ctrl_trig])==1\n",
        "    mask_den=defineSelectionMasks(df,ctrl_trig,mask_cuts)\n",
        "    \n",
        "    #define the final binning by percentile\n",
        "    if isinstance(v,list):\n",
        "        if isinstance(bins[0],int):\n",
        "            finalBins=[]\n",
        "            for i in range(2):\n",
        "                iv=v[i]\n",
        "                ib=bins[i]\n",
        "                finalBins.append( np.percentile(df[mask_den][iv], np.linspace(0,100,ib)) )\n",
        "            bins=finalBins\n",
        "    elif isinstance(bins,int):\n",
        "        bins  = np.percentile(df[mask_den][v], np.linspace(0,100,bins))\n",
        "\n",
        "    #measure the efficiency\n",
        "    method='normal' if isWeighted else 'beta'\n",
        "    pts,eff,deff=getEfficiency(df,v,mask_den,mask_num,bins,method=method,alpha=0.683)\n",
        "\n",
        "    return bins,pts,eff,deff\n",
        "\n",
        "\n",
        "def showEfficiencyMeasurementSummary(eff_results,sf_results,xtitle,ptitle,cuts,scale,outname):\n",
        "\n",
        "    \"\"\"plots the efficiencies and the scale factors\"\"\"\n",
        "\n",
        "    fig, (ax1, ax2) = plt.subplots(2, 1,figsize=(7,6))\n",
        "    \n",
        "    #MCs\n",
        "    for mc in eff_results['mc']:\n",
        "        mctitle,bins,x,dx,eff,deff=eff_results['mc'][mc]\n",
        "        ax1.errorbar(x,eff,deff, fmt='-',label=r'%s'%mctitle)        \n",
        "        for d2mc in sf_results['mc'][mc]:\n",
        "            dtitle,sf,dsf=sf_results['mc'][mc][d2mc]\n",
        "            ax2.errorbar(x,sf,dsf,fmt='o',label=r'%s/%s'%(dtitle,mctitle),markersize=10)        \n",
        "            \n",
        "    #Data\n",
        "    for d in eff_results['data']:\n",
        "        dtitle,bins,x,dx,eff,deff=eff_results['data'][d]\n",
        "        ax1.errorbar(x,eff,deff, fmt='o',label=r'%s'%dtitle,markersize=10)\n",
        "\n",
        "    ax1.grid()\n",
        "    ax1.legend(loc='lower right',fontsize=12)\n",
        "    ax1.set_ylabel('Efficiency',fontsize=12)\n",
        "    ax1.set_ylim(0,1)\n",
        "    ax1.text(0,1.02,'CMS', transform=ax1.transAxes,weight='bold',fontsize=14)\n",
        "    ax1.text(0.08,1.02,'Preliminary', transform=ax1.transAxes,fontsize=14)\n",
        "\n",
        "    ax1.text(0.5,1.02,ptitle, transform=ax1.transAxes,ha='center',fontsize=12)\n",
        "    i=0\n",
        "    for v,cv in cuts.items():\n",
        "        ctitle='{}>{}'.format(v,cv)\n",
        "        if v=='isScEtaEB': ctitle='EB={}'.format(cv)\n",
        "        if v=='run': ctitle='{}<run<{}'.format(*cv)\n",
        "        ax1.text(0.05,0.47-i*0.07,ctitle, transform=ax1.transAxes,ha='left',fontsize=10)\n",
        "        i+=1\n",
        "\n",
        "    ax2.set_ylabel('Scale factor',fontsize=12)\n",
        "    ax2.set_xlabel(xtitle)\n",
        "    ax2.set_ylim(0.7,1.05)\n",
        "    ax2.grid()\n",
        "\n",
        "    fig.tight_layout()\n",
        "    plt.savefig(outname)\n",
        "    plt.close()\n",
        "    \n",
        "    \n",
        "def showEfficiencyMeasurementSummary2D(eff_results,sf_results,xtitle,ytitle,ptitle,cuts,scale,outname):\n",
        "\n",
        "    \"\"\"plots the efficiencies and the scale factors\"\"\"\n",
        "\n",
        "    fig, (ax1,ax2,ax3) = plt.subplots(1,3, sharex='col', sharey='row', gridspec_kw={'wspace': 0.05,'hspace':0.02},figsize=(16,5))\n",
        "        \n",
        "    cmap='coolwarm'\n",
        "    scale=scale.split(':')\n",
        "        \n",
        "    #first MC\n",
        "    keymc=list(eff_results['mc'].keys())[0]\n",
        "    mctitle,bins,pts,eff,deff=eff_results['mc'][keymc]\n",
        "    xedges,yedges=pts[0],pts[2]\n",
        "    X, Y = np.meshgrid(xedges, yedges)\n",
        "    ax1.pcolormesh(X, Y, eff,cmap=cmap,vmin=0.6, vmax=1.05)\n",
        "    ax1.grid()\n",
        "    ax1.text(0.95,0.95, r'%s'%mctitle, transform=ax1.transAxes, fontsize=12, ha='right')\n",
        "    ax1.set_xlabel(xtitle,fontsize=12)\n",
        "    ax1.set_ylabel(ytitle,fontsize=12)\n",
        "    ax1.set_xscale(scale[0])\n",
        "    ax1.set_yscale(scale[1])\n",
        "\n",
        "    #first data\n",
        "    keydata=list(eff_results['data'].keys())[0]\n",
        "    datatitle,_,_,eff,deff=eff_results['data'][keydata]\n",
        "    ax2.pcolormesh(X, Y, eff,cmap=cmap,vmin=0.6, vmax=1.05)\n",
        "    ax2.grid()\n",
        "    ax2.text(0.95,0.95, r'%s'%datatitle, transform=ax2.transAxes, fontsize=12, ha='right')\n",
        "    ax2.set_xlabel(xtitle,fontsize=12)\n",
        "    ax2.set_xscale(scale[0])\n",
        "    ax2.set_yscale(scale[1])\n",
        "    \n",
        "    #first SF\n",
        "    _,sf,dsf=sf_results['mc'][keymc][keydata]\n",
        "    pcm=ax3.pcolormesh(X, Y, sf,cmap=cmap,vmin=0.6, vmax=1.05)\n",
        "    ax3.grid()\n",
        "    ax3.text(0.95,0.95,r'%s/%s'%(datatitle,mctitle),transform=ax3.transAxes, fontsize=12, ha='right')\n",
        "    ax3.set_xlabel(xtitle,fontsize=12)\n",
        "    ax3.set_xscale(scale[0])\n",
        "    ax3.set_yscale(scale[1])\n",
        "\n",
        "\n",
        "    i=0\n",
        "    for v,cv in cuts.items():\n",
        "        ctitle='{}>{}'.format(v,cv)\n",
        "        if v=='isScEtaEB': ctitle='EB={}'.format(cv)\n",
        "        if v=='run': ctitle='{}<run<{}'.format(*cv)\n",
        "        ax1.text(0.05,0.9-i*0.07,ctitle, transform=ax1.transAxes,ha='left',fontsize=10)\n",
        "        i+=1\n",
        "\n",
        "\n",
        "    cax = inset_axes(ax3,\n",
        "                     width=\"5%\",\n",
        "                     height=\"100%\",\n",
        "                     loc='right',\n",
        "                     bbox_to_anchor=(0.1,0.0, 1.,1.),\n",
        "                     bbox_transform=ax3.transAxes)\n",
        "    cbar=fig.colorbar(pcm,cax=cax,orientation=\"vertical\")\n",
        "    cbar.set_label('Efficency or scale factor', rotation=270, labelpad=10)\n",
        "\n",
        "    ax1.text(0,1.02,   'CMS',         transform=ax1.transAxes, fontsize=14, weight='bold')\n",
        "    ax1.text(0.12,1.02, 'Preliminary', transform=ax1.transAxes, fontsize=14)\n",
        "    ax2.text(0.5,1.02,  ptitle,       transform=ax2.transAxes, fontsize=12, ha='center')\n",
        "\n",
        "\n",
        "    plt.show()\n",
        "    #plt.savefig(outname)\n",
        "    #plt.close()"
      ],
      "execution_count": null,
      "outputs": [
        {
          "output_type": "stream",
          "text": [
            "The autoreload extension is already loaded. To reload it, use:\n",
            "  %reload_ext autoreload\n"
          ],
          "name": "stdout"
        }
      ]
    },
    {
      "cell_type": "code",
      "metadata": {
        "id": "YN9Srs10Gdr3",
        "outputId": "33151174-c6ae-4dd4-b804-3cc7f85bb154"
      },
      "source": [
        "import copy\n",
        "\n",
        "def steerTriggerEfficiencyMeasurement(cfg,data,outbase):\n",
        "\n",
        "    \"\"\"\n",
        "    reads the required datasets for the measurement and calls the base methods for the trigger efficiency measurement\n",
        "    the inputs are two dicts containing the required parameters to configure the data and the measurement (trigger names, cuts etc.)\n",
        "    \"\"\"\n",
        "    \n",
        "    df={}\n",
        "    for key,samples_list in data.items():\n",
        "        df[key]=[]\n",
        "        for name,descr in samples_list.items():\n",
        "            dfs=[]\n",
        "            for f in descr['chunks']:\n",
        "                dfs.append( pd.read_hdf(f,key='Events') )\n",
        "            merged_df=pd.concat(dfs,sort=False)\n",
        "            merged_df['absdetajj']=np.abs(merged_df['detajj'])\n",
        "            df[key].append( (name,descr['title'],merged_df) )\n",
        "        \n",
        "   \n",
        "    #loop over the variables to profile\n",
        "    for v,v_cfg in cfg['vars'].items():\n",
        "\n",
        "        is2D=False\n",
        "        if ':' in v:\n",
        "            v=v.split(':')\n",
        "            is2D=True\n",
        "            \n",
        "        #loop over the datasets and define the masks needed for this variable \n",
        "        #then run the efficiency measurement\n",
        "        #the binning is set by the quantiles of the data distribution which is run first\n",
        "        eff_results={}\n",
        "        sf_results={}\n",
        "        bins=None\n",
        "        for key in ['data','mc']:\n",
        "            samples=df[key]\n",
        "            eff_results[key]={}\n",
        "            sf_results[key]={}\n",
        "            for iname,ititle,idf in samples:\n",
        "                                    \n",
        "                if bins is None: bins=v_cfg['bins']\n",
        "                    \n",
        "                mask_cuts=copy.deepcopy(v_cfg['mask_cuts'])\n",
        "\n",
        "                if key=='data' and 'lpt2017' in outbase: mask_cuts['run']=[305405,306460]\n",
        "                 \n",
        "                #efficiency\n",
        "                bins,pts,eff,deff=computeEfficiency(idf,\n",
        "                                                    v,\n",
        "                                                    trig=cfg['trig'],\n",
        "                                                    ctrl_trig=cfg['ctrl'],\n",
        "                                                    mask_cuts=mask_cuts,\n",
        "                                                    bins=bins)\n",
        "                \n",
        "                eff_results[key][iname]=(ititle,bins,pts,eff,deff)\n",
        "                \n",
        "                #compute data/MC scale factors\n",
        "                if key=='data': continue\n",
        "                sf_results[key][iname]={}\n",
        "                for dname,d in eff_results['data'].items():\n",
        "                    dtitle,eff_data,deff_data=d[0],d[3],d[4]\n",
        "                    sf,dsf = getScaleFactor(eff_data,deff_data,eff,deff)\n",
        "                    sf_results[key][iname][dname]=(dtitle,sf,dsf)\n",
        "                 \n",
        "        #show a summary plot\n",
        "        outname=outbase+'_{}.png'.format(v)\n",
        "        mask_cuts=copy.deepcopy(v_cfg['mask_cuts'])\n",
        "        if 'lpt2017' in outname: mask_cuts['run']=[305405,306460]\n",
        "            \n",
        "        if not is2D:\n",
        "            showEfficiencyMeasurementSummary(eff_results=eff_results,\n",
        "                                             sf_results=sf_results,\n",
        "                                             xtitle=var_dict[v],\n",
        "                                             ptitle=cfg['title'],\n",
        "                                             cuts=mask_cuts,\n",
        "                                             scale=v_cfg['scale'],\n",
        "                                             outname=outname)\n",
        "        else:\n",
        "            showEfficiencyMeasurementSummary2D(eff_results=eff_results,\n",
        "                                               sf_results=sf_results,\n",
        "                                               xtitle=var_dict[v[0]],\n",
        "                                               ytitle=var_dict[v[1]],\n",
        "                                               ptitle=cfg['title'],\n",
        "                                               cuts=mask_cuts,\n",
        "                                               scale=v_cfg['scale'],\n",
        "                                               outname=outname)\n",
        "        \n",
        "import os\n",
        "import datetime\n",
        "outdir='/eos/user/p/psilva/www/SMP-19-005/trig/{}'.format(datetime.datetime.now().strftime('%Y%b%d'))\n",
        "os.system('mkdir -p {}'.format(outdir))\n",
        "\n",
        "#steerTriggerEfficiencyMeasurement(trig_eff_measurements['hpt2016'], data_for_trig_eff['2016'],  outdir+'/hpt2016')\n",
        "#steerTriggerEfficiencyMeasurement(trig_eff_measurements['hpt2017'], data_for_trig_eff['2017'],  outdir+'/hpt2017')\n",
        "#steerTriggerEfficiencyMeasurement(trig_eff_measurements['hpt2018'], data_for_trig_eff['2018'],  outdir+'/hpt2018')\n",
        "\n",
        "#steerTriggerEfficiencyMeasurement(trig_eff_measurements['lpt2016'], data_for_trig_eff['2016'], outdir+'/lpt2016')\n",
        "steerTriggerEfficiencyMeasurement(trig_eff_measurements['lpt2017'], data_for_trig_eff['2017F'], outdir+'/lpt2017')\n",
        "#steerTriggerEfficiencyMeasurement(trig_eff_measurements['lpt2018'], data_for_trig_eff['2018'], outdir+'/lpt2018')\n",
        "\n",
        "print('Find all plots in',outdir)"
      ],
      "execution_count": null,
      "outputs": [
        {
          "output_type": "display_data",
          "data": {
            "image/png": "[encoded data removed]",
            "text/plain": [
              "<Figure size 1152x360 with 4 Axes>"
            ]
          },
          "metadata": {
            "tags": [],
            "needs_background": "light"
          }
        },
        {
          "output_type": "display_data",
          "data": {
            "image/png": "[encoded data removed]",
            "text/plain": [
              "<Figure size 1152x360 with 4 Axes>"
            ]
          },
          "metadata": {
            "tags": [],
            "needs_background": "light"
          }
        },
        {
          "output_type": "stream",
          "text": [
            "Find all plots in /eos/user/p/psilva/www/SMP-19-005/trig/2020Oct13\n"
          ],
          "name": "stdout"
        }
      ]
    },
    {
      "cell_type": "code",
      "metadata": {
        "id": "O_aHP1tMGdr4"
      },
      "source": [
        ""
      ],
      "execution_count": null,
      "outputs": []
    }
  ]
}