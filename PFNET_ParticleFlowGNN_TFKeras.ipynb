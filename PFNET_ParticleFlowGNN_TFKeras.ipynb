{
  "nbformat": 4,
  "nbformat_minor": 5,
  "metadata": {
    "kernelspec": {
      "display_name": "Python 3",
      "language": "python",
      "name": "python3"
    },
    "language_info": {
      "codemirror_mode": {
        "name": "ipython",
        "version": 3
      },
      "file_extension": ".py",
      "mimetype": "text/x-python",
      "name": "python",
      "nbconvert_exporter": "python",
      "pygments_lexer": "ipython3",
      "version": "3.6.8"
    },
    "colab": {
      "name": "PFNET_ParticleFlowGNN_TFKeras.ipynb",
      "provenance": [],
      "collapsed_sections": [],
      "include_colab_link": true
    }
  },
  "cells": [
    {
      "cell_type": "markdown",
      "metadata": {
        "id": "view-in-github",
        "colab_type": "text"
      },
      "source": [
        "<a href=\"https://colab.research.google.com/github/sznajder/Notebooks/blob/master/PFNET_ParticleFlowGNN_TFKeras.ipynb\" target=\"_parent\"><img src=\"https://colab.research.google.com/assets/colab-badge.svg\" alt=\"Open In Colab\"/></a>"
      ]
    },
    {
      "cell_type": "markdown",
      "metadata": {
        "id": "8Q6yYpSnw_or"
      },
      "source": [
        "# MLPF Demo\n",
        "\n",
        "Cloned from J.R.Vlimant\n",
        "https://github.com/vlimant/NNArchTeraScale2021/blob/master/graphs/mlParticleFlow.ipynb\n",
        "\n",
        "credits to **Joosep Pata**. Model from the paper https://arxiv.org/abs/2101.08578 with more code available at https://github.com/jpata/particleflow"
      ],
      "id": "8Q6yYpSnw_or"
    },
    {
      "cell_type": "code",
      "metadata": {
        "id": "AkGxQFHuw_ow",
        "outputId": "35a1017d-a162-4dd3-82ff-ab023ec71d41"
      },
      "source": [
        "!curl -O https://zenodo.org/record/4559324/files/tev14_pythia8_ttbar_0_0.pkl.bz2"
      ],
      "id": "AkGxQFHuw_ow",
      "execution_count": null,
      "outputs": [
        {
          "output_type": "stream",
          "text": [
            "  % Total    % Received % Xferd  Average Speed   Time    Time     Time  Current\n",
            "                                 Dload  Upload   Total   Spent    Left  Speed\n",
            "100 47.5M  100 47.5M    0     0  4327k      0  0:00:11  0:00:11 --:--:-- 5447k\n"
          ],
          "name": "stdout"
        }
      ]
    },
    {
      "cell_type": "code",
      "metadata": {
        "id": "bj0VxSRQw_ox",
        "outputId": "6d2b600e-35fc-4659-87b5-f5b8205d71c7"
      },
      "source": [
        "import bz2, pickle\n",
        "import numpy as np\n",
        "import tensorflow as tf\n",
        "import sklearn.metrics\n",
        "import matplotlib.pyplot as plt\n",
        "import setGPU"
      ],
      "id": "bj0VxSRQw_ox",
      "execution_count": null,
      "outputs": [
        {
          "output_type": "stream",
          "text": [
            "setGPU: Setting GPU to: 0\n"
          ],
          "name": "stdout"
        }
      ]
    },
    {
      "cell_type": "code",
      "metadata": {
        "id": "cS-kSUNXw_ox"
      },
      "source": [
        "data = pickle.load(bz2.BZ2File(\"tev14_pythia8_ttbar_0_0.pkl.bz2\", \"r\"))"
      ],
      "id": "cS-kSUNXw_ox",
      "execution_count": null,
      "outputs": []
    },
    {
      "cell_type": "code",
      "metadata": {
        "id": "-pgi-KCjw_oy",
        "outputId": "0612510d-98c7-465f-a706-db8f7006ad21"
      },
      "source": [
        "#100 events in one file\n",
        "len(data[\"X\"]), len(data[\"ygen\"])"
      ],
      "id": "-pgi-KCjw_oy",
      "execution_count": null,
      "outputs": [
        {
          "output_type": "execute_result",
          "data": {
            "text/plain": [
              "(100, 100)"
            ]
          },
          "metadata": {
            "tags": []
          },
          "execution_count": 4
        }
      ]
    },
    {
      "cell_type": "code",
      "metadata": {
        "id": "I5yshYg1w_oy"
      },
      "source": [
        "#Pad the number of elements to a size that's divisible by the bin size\n",
        "Xs = []\n",
        "ys = []\n",
        "\n",
        "max_size = 50*128\n",
        "for i in range(len(data[\"X\"])):\n",
        "    X = data[\"X\"][i][:max_size, :]\n",
        "    y = data[\"ygen\"][i][:max_size, :]\n",
        "    Xpad = np.pad(X, [(0, max_size - X.shape[0]), (0, 0)])\n",
        "    ypad = np.pad(y, [(0, max_size - y.shape[0]), (0, 0)])\n",
        "    Xpad = Xpad.astype(np.float32)\n",
        "    ypad = ypad.astype(np.float32)\n",
        "    Xs.append(Xpad)\n",
        "    ys.append(ypad)\n",
        "    \n",
        "X = np.stack(Xs)\n",
        "y = np.stack(ys)"
      ],
      "id": "I5yshYg1w_oy",
      "execution_count": null,
      "outputs": []
    },
    {
      "cell_type": "code",
      "metadata": {
        "id": "YjhQOjDIw_oy"
      },
      "source": [
        "#Get the first event\n",
        "input_classes = np.unique(X[:, :, 0].flatten())\n",
        "output_classes = np.unique(y[:, :, 0].flatten())"
      ],
      "id": "YjhQOjDIw_oy",
      "execution_count": null,
      "outputs": []
    },
    {
      "cell_type": "code",
      "metadata": {
        "id": "dzO9-0X6w_oy",
        "outputId": "aafce9c8-6580-48db-8cb9-d9bc0df80f63"
      },
      "source": [
        "input_classes"
      ],
      "id": "dzO9-0X6w_oy",
      "execution_count": null,
      "outputs": [
        {
          "output_type": "execute_result",
          "data": {
            "text/plain": [
              "array([0., 1., 2.], dtype=float32)"
            ]
          },
          "metadata": {
            "tags": []
          },
          "execution_count": 7
        }
      ]
    },
    {
      "cell_type": "code",
      "metadata": {
        "id": "h9tkHDkxw_oz",
        "outputId": "fb5f5c3c-d1a4-4df0-f696-75df53bb8ab7"
      },
      "source": [
        "output_classes"
      ],
      "id": "h9tkHDkxw_oz",
      "execution_count": null,
      "outputs": [
        {
          "output_type": "execute_result",
          "data": {
            "text/plain": [
              "array([0., 1., 2., 3., 4., 5.], dtype=float32)"
            ]
          },
          "metadata": {
            "tags": []
          },
          "execution_count": 8
        }
      ]
    },
    {
      "cell_type": "code",
      "metadata": {
        "id": "Y3yUm5Nxw_oz"
      },
      "source": [
        "#ygen = (pid, charge, momentum values)\n",
        "num_momentum_outputs = data[\"ygen\"][0].shape[1] - 2"
      ],
      "id": "Y3yUm5Nxw_oz",
      "execution_count": null,
      "outputs": []
    },
    {
      "cell_type": "markdown",
      "metadata": {
        "id": "mfxVBJrFw_oz"
      },
      "source": [
        "# Model definition"
      ],
      "id": "mfxVBJrFw_oz"
    },
    {
      "cell_type": "code",
      "metadata": {
        "id": "EEESFV_Ew_oz"
      },
      "source": [
        "#Simple message passing based on a matrix multiplication\n",
        "class PFNet(tf.keras.Model):\n",
        "    def __init__(self,\n",
        "        num_input_classes=8,\n",
        "        num_output_classes=3,\n",
        "        num_momentum_outputs=3,\n",
        "        activation=tf.nn.selu,\n",
        "        hidden_dim_id=256,\n",
        "        hidden_dim_reg=256,\n",
        "        distance_dim=256,\n",
        "        convlayer=\"ghconv\",\n",
        "        dropout=0.1,\n",
        "        bin_size=10,\n",
        "        num_convs_id=1,\n",
        "        num_convs_reg=1,\n",
        "        num_hidden_id_enc=1,\n",
        "        num_hidden_id_dec=1,\n",
        "        num_hidden_reg_enc=1,\n",
        "        num_hidden_reg_dec=1,\n",
        "        num_neighbors=5,\n",
        "        dist_mult=0.1,\n",
        "        skip_connection=False):\n",
        "\n",
        "        super(PFNet, self).__init__()\n",
        "        self.activation = activation\n",
        "        self.num_dists = 1\n",
        "        self.num_momentum_outputs = num_momentum_outputs\n",
        "        self.skip_connection = skip_connection\n",
        "\n",
        "        encoding_id = []\n",
        "        decoding_id = []\n",
        "        encoding_reg = []\n",
        "        decoding_reg = []\n",
        "\n",
        "        #the encoder outputs and decoder inputs have to have the hidden dim (convlayer size)\n",
        "        for ihidden in range(num_hidden_id_enc):\n",
        "            encoding_id.append(hidden_dim_id)\n",
        "\n",
        "        for ihidden in range(num_hidden_id_dec):\n",
        "            decoding_id.append(hidden_dim_id)\n",
        "\n",
        "        for ihidden in range(num_hidden_reg_enc):\n",
        "            encoding_reg.append(hidden_dim_reg)\n",
        "\n",
        "        for ihidden in range(num_hidden_reg_dec):\n",
        "            decoding_reg.append(hidden_dim_reg)\n",
        "\n",
        "        self.enc = InputEncoding(num_input_classes)\n",
        "        self.layer_embedding = tf.keras.layers.Dense(distance_dim, name=\"embedding_attention\", activation=self.activation)\n",
        "        \n",
        "        self.embedding_dropout = None\n",
        "        if dropout > 0.0:\n",
        "            self.embedding_dropout = tf.keras.layers.Dropout(dropout)\n",
        "\n",
        "        self.dist = SparseHashedNNDistance(bin_size=bin_size, num_neighbors=num_neighbors, dist_mult=dist_mult)\n",
        "\n",
        "        self.layer_edge = point_wise_feed_forward_network(1, 128, num_layers=2, activation=activation)\n",
        "\n",
        "        convs_id = []\n",
        "        convs_reg = []\n",
        "        if convlayer == \"sgconv\":\n",
        "            for iconv in range(num_convs_id):\n",
        "                convs_id.append(SGConv(k=1, activation=activation, name=\"conv_id{}\".format(iconv)))\n",
        "            for iconv in range(num_convs_reg):\n",
        "                convs_reg.append(SGConv(k=1, activation=activation, name=\"conv_reg{}\".format(iconv)))\n",
        "        elif convlayer == \"ghconv\":\n",
        "            for iconv in range(num_convs_id):\n",
        "                convs_id.append(GHConv(activation=activation, name=\"conv_id{}\".format(iconv)))\n",
        "            for iconv in range(num_convs_reg):\n",
        "                convs_reg.append(GHConv(activation=activation, name=\"conv_reg{}\".format(iconv)))\n",
        "\n",
        "        self.gnn_id = EncoderDecoderGNN(encoding_id, decoding_id, dropout, activation, convs_id, name=\"gnn_id\")\n",
        "        self.layer_id = point_wise_feed_forward_network(num_output_classes, hidden_dim_id, num_layers=2, activation=activation)\n",
        "        self.layer_charge = point_wise_feed_forward_network(1, hidden_dim_id, num_layers=1, activation=activation)\n",
        "        \n",
        "        self.gnn_reg = EncoderDecoderGNN(encoding_reg, decoding_reg, dropout, activation, convs_reg, name=\"gnn_reg\")\n",
        "        self.layer_momentum = point_wise_feed_forward_network(num_momentum_outputs, hidden_dim_reg, num_layers=2, activation=activation)\n",
        "\n",
        "    # def create_model(self, num_max_elems, num_input_features, training=True):\n",
        "    #     inputs = tf.keras.Input(shape=(num_max_elems, num_input_features,))\n",
        "    #     return tf.keras.Model(inputs=[inputs], outputs=self.call(inputs, training), name=\"MLPFNet\")\n",
        "\n",
        "    def call(self, inputs, training=True):\n",
        "        X = inputs\n",
        "        msk_input = tf.expand_dims(tf.cast(X[:, :, 0] != 0, tf.dtypes.float32), -1)\n",
        "\n",
        "        enc = self.enc(inputs)\n",
        "\n",
        "        #embed inputs for graph structure prediction\n",
        "        embedding_attention = self.layer_embedding(enc)\n",
        "        if self.embedding_dropout:\n",
        "            embedding_attention = self.embedding_dropout(embedding_attention, training)\n",
        "\n",
        "        #create graph structure by predicting a sparse distance matrix\n",
        "        dm = self.dist(embedding_attention, training)\n",
        "\n",
        "        #gather node vals for src,dst\n",
        "        i1 = tf.transpose(tf.stack([dm.indices[:, 0], dm.indices[:, 1]]))\n",
        "        i2 = tf.transpose(tf.stack([dm.indices[:, 0], dm.indices[:, 2]]))\n",
        "        x1 = tf.gather_nd(enc, i1)\n",
        "        x2 = tf.gather_nd(enc, i2)\n",
        "\n",
        "        #run an edge net on (src node, dst node, edge)\n",
        "        edge_vals = self.layer_edge(tf.concat([x1, x2, tf.expand_dims(dm.values, axis=-1)], axis=-1))\n",
        "        dm2 = tf.sparse.SparseTensor(indices=dm.indices, values=edge_vals[:, 0], dense_shape=dm.dense_shape)\n",
        "\n",
        "        #run graph net for multiclass id prediction\n",
        "        x_id = self.gnn_id(enc, dm2, training)\n",
        "        \n",
        "        if self.skip_connection:\n",
        "            to_decode = tf.concat([enc, x_id], axis=-1)\n",
        "        else:\n",
        "            to_decode = tf.concat([x_id], axis=-1)\n",
        "\n",
        "        out_id_logits = self.layer_id(to_decode)\n",
        "        out_charge = self.layer_charge(to_decode)\n",
        "\n",
        "        #run graph net for regression output prediction, taking as an additonal input the ID predictions\n",
        "        x_reg = self.gnn_reg(tf.concat([enc, tf.cast(out_id_logits, X.dtype)], axis=-1), dm2, training)\n",
        "\n",
        "        if self.skip_connection:\n",
        "            to_decode = tf.concat([enc, tf.cast(out_id_logits, X.dtype), x_reg], axis=-1)\n",
        "        else:\n",
        "            to_decode = tf.concat([tf.cast(out_id_logits, X.dtype), x_reg], axis=-1)\n",
        "\n",
        "        pred_momentum = self.layer_momentum(to_decode)\n",
        "\n",
        "        return tf.concat([out_id_logits, out_charge, pred_momentum], axis=-1)\n",
        "\n",
        "    def set_trainable_classification(self):\n",
        "        for layer in self.layers:\n",
        "            layer.trainable = False\n",
        "        self.gnn_id.trainable = True\n",
        "        self.layer_id.trainable = True\n",
        "\n",
        "    def set_trainable_regression(self):\n",
        "        for layer in self.layers:\n",
        "            layer.trainable = False\n",
        "        self.gnn_reg.trainable = True\n",
        "        self.layer_momentum.trainable = True\n",
        "\n"
      ],
      "id": "EEESFV_Ew_oz",
      "execution_count": null,
      "outputs": []
    },
    {
      "cell_type": "markdown",
      "metadata": {
        "id": "s63DVm-0w_o0"
      },
      "source": [
        "## Sub-model definitions"
      ],
      "id": "s63DVm-0w_o0"
    },
    {
      "cell_type": "code",
      "metadata": {
        "id": "LfcOjh2-w_o1"
      },
      "source": [
        "class InputEncoding(tf.keras.layers.Layer):\n",
        "    def __init__(self, num_input_classes):\n",
        "        super(InputEncoding, self).__init__()\n",
        "        self.num_input_classes = num_input_classes\n",
        "\n",
        "    \"\"\"\n",
        "        X: [Nbatch, Nelem, Nfeat] array of all the input detector element feature data\n",
        "    \"\"\"        \n",
        "    @tf.function\n",
        "    def call(self, X):\n",
        "\n",
        "        #X[:, :, 0] - categorical index of the element type\n",
        "        Xid = tf.cast(tf.one_hot(tf.cast(X[:, :, 0], tf.int32), self.num_input_classes), dtype=X.dtype)\n",
        "\n",
        "        #X[:, :, 1:] - all the other non-categorical features\n",
        "        Xprop = X[:, :, 1:]\n",
        "        return tf.concat([Xid, Xprop], axis=-1)"
      ],
      "id": "LfcOjh2-w_o1",
      "execution_count": null,
      "outputs": []
    },
    {
      "cell_type": "code",
      "metadata": {
        "id": "AgrhDzBaw_o1"
      },
      "source": [
        "class SparseHashedNNDistance(tf.keras.layers.Layer):\n",
        "    def __init__(self, max_num_bins=200, bin_size=500, num_neighbors=5, dist_mult=0.1, **kwargs):\n",
        "        super(SparseHashedNNDistance, self).__init__(**kwargs)\n",
        "        self.num_neighbors = tf.constant(num_neighbors)\n",
        "        self.dist_mult = dist_mult\n",
        "\n",
        "        #generate the codebook for LSH hashing at model instantiation for up to this many bins\n",
        "        #set this to a high-enough value at model generation to take into account the largest possible input \n",
        "        self.max_num_bins = tf.constant(max_num_bins)\n",
        "\n",
        "        #each bin will receive this many input elements, in total we can accept max_num_bins*bin_size input elements\n",
        "        #in each bin, we will do a dense top_k evaluation\n",
        "        self.bin_size = bin_size\n",
        "\n",
        "    def build(self, input_shape):\n",
        "        #(n_batch, n_points, n_features)\n",
        "\n",
        "        #generate the LSH codebook for random rotations (num_features, max_num_bins/2)\n",
        "        self.codebook_random_rotations = self.add_weight(\n",
        "            shape=(input_shape[-1], self.max_num_bins//2), initializer=\"random_normal\", trainable=False, name=\"lsh_projections\"\n",
        "        )\n",
        "\n",
        "    @tf.function\n",
        "    def call(self, inputs, training=True):\n",
        "\n",
        "        #(n_batch, n_points, n_features)\n",
        "        point_embedding = inputs\n",
        "\n",
        "        n_batches = tf.shape(point_embedding)[0]\n",
        "        n_points = tf.shape(point_embedding)[1]\n",
        "        #points_neighbors = n_points * self.num_neighbors\n",
        "\n",
        "        #cannot concat sparse tensors directly as that incorrectly destroys the gradient, see\n",
        "        #https://github.com/tensorflow/tensorflow/blob/df3a3375941b9e920667acfe72fb4c33a8f45503/tensorflow/python/ops/sparse_grad.py#L33\n",
        "        def func(args):\n",
        "            ibatch, points_batch = args[0], args[1]\n",
        "            inds, vals = self.construct_sparse_dm_batch(points_batch)\n",
        "            inds = tf.concat([tf.expand_dims(tf.cast(ibatch, tf.int64)*tf.ones(tf.shape(inds)[0], dtype=tf.int64), -1), inds], axis=-1)\n",
        "            return inds, vals\n",
        "\n",
        "        elems = (tf.range(0, n_batches, delta=1, dtype=tf.int64), point_embedding)\n",
        "        ret = tf.map_fn(func, elems, fn_output_signature=(tf.TensorSpec((None, 3), tf.int64), tf.TensorSpec((None, ), inputs.dtype)), parallel_iterations=2, back_prop=True)\n",
        "\n",
        "        # #now create a new SparseTensor that is a concatenation of the per-batch tensor indices and values\n",
        "        shp = tf.shape(ret[0])\n",
        "        dms = tf.SparseTensor(\n",
        "            tf.reshape(ret[0], (shp[0]*shp[1], shp[2])),\n",
        "            tf.reshape(ret[1], (shp[0]*shp[1],)),\n",
        "            (n_batches, n_points, n_points)\n",
        "        )\n",
        "\n",
        "        return tf.sparse.reorder(dms)\n",
        "\n",
        "    @tf.function\n",
        "    def subpoints_to_sparse_matrix(self, n_points, subindices, subpoints):\n",
        "\n",
        "        #find the distance matrix between the given points using dense matrix multiplication\n",
        "        dm = pairwise_dist(subpoints, subpoints)\n",
        "        dm = tf.exp(-self.dist_mult*dm)\n",
        "\n",
        "        dmshape = tf.shape(dm)\n",
        "        nbins = dmshape[0]\n",
        "        nelems = dmshape[1]\n",
        "\n",
        "        #run KNN in the dense distance matrix, accumulate each index pair into a sparse distance matrix\n",
        "        top_k = tf.nn.top_k(dm, k=self.num_neighbors)\n",
        "        top_k_vals = tf.reshape(top_k.values, (nbins*nelems, self.num_neighbors))\n",
        "\n",
        "        indices_gathered = tf.map_fn(\n",
        "            lambda i: tf.gather_nd(subindices, top_k.indices[:, :, i:i+1], batch_dims=1),\n",
        "            tf.range(self.num_neighbors, dtype=tf.int32)\n",
        "        )\n",
        "        indices_gathered = tf.transpose(indices_gathered, [1,2,0])\n",
        "\n",
        "        def func(i):\n",
        "           dst_ind = indices_gathered[:, :, i] #(nbins, nelems)\n",
        "           dst_ind = tf.reshape(dst_ind, (nbins*nelems, ))\n",
        "           src_ind = tf.reshape(tf.stack(subindices), (nbins*nelems, ))\n",
        "           src_dst_inds = tf.cast(tf.transpose(tf.stack([src_ind, dst_ind])), dtype=tf.int64)\n",
        "           return src_dst_inds, top_k_vals[:, i]\n",
        "\n",
        "        ret = tf.map_fn(func, tf.range(0, self.num_neighbors, delta=1, dtype=tf.int32), fn_output_signature=(tf.int64, subpoints.dtype))\n",
        "        \n",
        "        shp = tf.shape(ret[0])\n",
        "        inds = tf.reshape(ret[0], (shp[0]*shp[1], 2))\n",
        "        vals = tf.reshape(ret[1], (shp[0]*shp[1],))\n",
        "        return inds, vals\n",
        "\n",
        "    def construct_sparse_dm_batch(self, points):\n",
        "        #points: (n_points, n_features) input elements for graph construction\n",
        "        n_points = tf.shape(points)[0]\n",
        "        n_features = tf.shape(points)[1]\n",
        "\n",
        "        #compute the number of LSH bins to divide the input points into on the fly\n",
        "        #n_points must be divisible by bin_size exactly due to the use of reshape\n",
        "        n_bins = tf.math.floordiv(n_points, self.bin_size)\n",
        "        #tf.debugging.assert_greater(n_bins, 0)\n",
        "\n",
        "        #put each input item into a bin defined by the softmax output across the LSH embedding\n",
        "        mul = tf.linalg.matmul(points, self.codebook_random_rotations[:, :n_bins//2])\n",
        "\n",
        "        cmul = tf.concat([mul, -mul], axis=-1)\n",
        "\n",
        "        #cmul is now an integer in [0..nbins) for each input point\n",
        "        #bins_split: (n_bins, bin_size) of integer bin indices, which put each input point into a bin of size (n_points/n_bins)\n",
        "        bins_split = split_indices_to_bins(cmul, n_bins, self.bin_size)\n",
        "\n",
        "        #parts: (n_bins, bin_size, n_features), the input points divided up into bins\n",
        "        parts = tf.gather(points, bins_split)\n",
        "\n",
        "        #sparse_distance_matrix: (n_points, n_points) sparse distance matrix\n",
        "        #where higher values (closer to 1) are associated with points that are closely related\n",
        "        sparse_distance_matrix = self.subpoints_to_sparse_matrix(n_points, bins_split, parts)\n",
        "\n",
        "        return sparse_distance_matrix"
      ],
      "id": "AgrhDzBaw_o1",
      "execution_count": null,
      "outputs": []
    },
    {
      "cell_type": "code",
      "metadata": {
        "id": "C9_0rDuaw_o4"
      },
      "source": [
        "def split_indices_to_bins(cmul, nbins, bin_size):\n",
        "    bin_idx = tf.argmax(cmul, axis=-1)\n",
        "    bins_split = tf.reshape(tf.argsort(bin_idx), (nbins, bin_size))\n",
        "    return bins_split\n",
        "\n",
        "def pairwise_dist(A, B):  \n",
        "    na = tf.reduce_sum(tf.square(A), -1)\n",
        "    nb = tf.reduce_sum(tf.square(B), -1)\n",
        "\n",
        "    # na as a row and nb as a column vectors\n",
        "    na = tf.expand_dims(na, -1)\n",
        "    nb = tf.expand_dims(nb, -2)\n",
        "\n",
        "    # return pairwise euclidead difference matrix\n",
        "    D = tf.sqrt(tf.maximum(na - 2*tf.matmul(A, B, False, True) + nb, 1e-6))\n",
        "    return D\n",
        "def point_wise_feed_forward_network(d_model, dff, num_layers=1, activation='elu', dtype=tf.dtypes.float32):\n",
        "    return tf.keras.Sequential(\n",
        "        [tf.keras.layers.Dense(dff, activation=activation) for i in range(num_layers)] +\n",
        "        [tf.keras.layers.Dense(d_model, dtype=dtype)]\n",
        "    )"
      ],
      "id": "C9_0rDuaw_o4",
      "execution_count": null,
      "outputs": []
    },
    {
      "cell_type": "code",
      "metadata": {
        "id": "JMQKditRw_o5"
      },
      "source": [
        "\"\"\"\n",
        "sp_a: (nbatch, nelem, nelem) sparse distance matrices\n",
        "b: (nbatch, nelem, ncol) dense per-element feature matrices\n",
        "\"\"\"\n",
        "def sparse_dense_matmult_batch(sp_a, b):\n",
        "\n",
        "    dtype = b.dtype\n",
        "    b = tf.cast(b, tf.float32)\n",
        "\n",
        "    num_batches = tf.shape(b)[0]\n",
        "\n",
        "    def map_function(x):\n",
        "        i, dense_slice = x[0], x[1]\n",
        "        num_points = tf.shape(b)[1]\n",
        "        sparse_slice = tf.sparse.reshape(tf.sparse.slice(\n",
        "            tf.cast(sp_a, tf.float32), [i, 0, 0], [1, num_points, num_points]),\n",
        "            [num_points, num_points])\n",
        "        mult_slice = tf.sparse.sparse_dense_matmul(sparse_slice, dense_slice)\n",
        "        return mult_slice\n",
        "\n",
        "    elems = (tf.range(0, num_batches, delta=1, dtype=tf.int64), b)\n",
        "    ret = tf.map_fn(map_function, elems, fn_output_signature=tf.TensorSpec((None, None), b.dtype), back_prop=True)\n",
        "    return tf.cast(ret, dtype) \n"
      ],
      "id": "JMQKditRw_o5",
      "execution_count": null,
      "outputs": []
    },
    {
      "cell_type": "code",
      "metadata": {
        "id": "T_qbyBstw_o6"
      },
      "source": [
        "#https://arxiv.org/pdf/2004.04635.pdf\n",
        "#https://github.com/gcucurull/jax-ghnet/blob/master/models.py \n",
        "class GHConv(tf.keras.layers.Layer):\n",
        "    def __init__(self, *args, **kwargs):\n",
        "        self.activation = kwargs.pop(\"activation\")\n",
        "\n",
        "        super(GHConv, self).__init__(*args, **kwargs)\n",
        "\n",
        "    def build(self, input_shape):\n",
        "        self.hidden_dim = input_shape[0][-1]\n",
        "        self.nelem = input_shape[0][-2]\n",
        "        self.W_t = self.add_weight(shape=(self.hidden_dim, self.hidden_dim), name=\"w_t\", initializer=\"random_normal\")\n",
        "        self.b_t = self.add_weight(shape=(self.hidden_dim,), name=\"b_t\", initializer=\"random_normal\")\n",
        "        self.W_h = self.add_weight(shape=(self.hidden_dim, self.hidden_dim), name=\"w_h\", initializer=\"random_normal\")\n",
        "        self.theta = self.add_weight(shape=(self.hidden_dim, self.hidden_dim), name=\"theta\", initializer=\"random_normal\")\n",
        " \n",
        "    #@tf.function\n",
        "    def call(self, inputs):\n",
        "        x, adj = inputs\n",
        "\n",
        "        #compute the normalization of the adjacency matrix\n",
        "        in_degrees = tf.sparse.reduce_sum(tf.abs(adj), axis=-1)\n",
        "        in_degrees = tf.reshape(in_degrees, (tf.shape(x)[0], tf.shape(x)[1]))\n",
        "\n",
        "        #add epsilon to prevent numerical issues from 1/sqrt(x)\n",
        "        norm = tf.expand_dims(tf.pow(in_degrees + 1e-6, -0.5), -1)\n",
        "\n",
        "        f_hom = tf.linalg.matmul(x, self.theta)\n",
        "        f_hom = sparse_dense_matmult_batch(adj, f_hom*norm)*norm\n",
        "\n",
        "        f_het = tf.linalg.matmul(x, self.W_h)\n",
        "        gate = tf.nn.sigmoid(tf.linalg.matmul(x, self.W_t) + self.b_t)\n",
        "\n",
        "        out = gate*f_hom + (1-gate)*f_het\n",
        "        return self.activation(out)\n"
      ],
      "id": "T_qbyBstw_o6",
      "execution_count": null,
      "outputs": []
    },
    {
      "cell_type": "code",
      "metadata": {
        "id": "piaWeBvVw_o6"
      },
      "source": [
        "class EncoderDecoderGNN(tf.keras.layers.Layer):\n",
        "    def __init__(self, encoders, decoders, dropout, activation, conv, **kwargs):\n",
        "        super(EncoderDecoderGNN, self).__init__(**kwargs)\n",
        "        name = kwargs.get(\"name\")\n",
        "\n",
        "        #assert(encoders[-1] == decoders[0])\n",
        "        self.encoders = encoders\n",
        "        self.decoders = decoders\n",
        "\n",
        "        self.encoding_layers = []\n",
        "        for ilayer, nunits in enumerate(encoders):\n",
        "            self.encoding_layers.append(\n",
        "                tf.keras.layers.Dense(nunits, activation=activation, name=\"encoding_{}_{}\".format(name, ilayer)))\n",
        "            if dropout > 0.0:\n",
        "                self.encoding_layers.append(tf.keras.layers.Dropout(dropout))\n",
        "\n",
        "        self.conv = conv\n",
        "\n",
        "        self.decoding_layers = []\n",
        "        for ilayer, nunits in enumerate(decoders):\n",
        "            self.decoding_layers.append(\n",
        "                tf.keras.layers.Dense(nunits, activation=activation, name=\"decoding_{}_{}\".format(name, ilayer)))\n",
        "            if dropout > 0.0:\n",
        "                self.decoding_layers.append(tf.keras.layers.Dropout(dropout))\n",
        "\n",
        "    @tf.function\n",
        "    def call(self, inputs, distance_matrix, training=True):\n",
        "        x = inputs\n",
        "\n",
        "        for layer in self.encoding_layers:\n",
        "            x = layer(x)\n",
        "\n",
        "        for convlayer in self.conv:\n",
        "            x = convlayer([x, distance_matrix])\n",
        "\n",
        "        for layer in self.decoding_layers:\n",
        "            x = layer(x)\n",
        "\n",
        "        return x\n"
      ],
      "id": "piaWeBvVw_o6",
      "execution_count": null,
      "outputs": []
    },
    {
      "cell_type": "code",
      "metadata": {
        "id": "sUkgbZIDw_o6"
      },
      "source": [
        "class PFNetLoss:\n",
        "    def __init__(self, num_input_classes, num_output_classes, momentum_loss_coefs=[1.0, 1.0, 1.0], charge_loss_coef=1e-3):\n",
        "        self.num_input_classes = num_input_classes\n",
        "        self.num_output_classes = num_output_classes\n",
        "        self.momentum_loss_coefs = tf.constant(momentum_loss_coefs)\n",
        "        self.charge_loss_coef = charge_loss_coef\n",
        "\n",
        "    def mse_unreduced(self, true, pred):\n",
        "        return tf.math.pow(true-pred,2)\n",
        "\n",
        "    def separate_prediction(self, y_pred):\n",
        "        N = self.num_output_classes\n",
        "        pred_id_logits = y_pred[:, :, :N]\n",
        "        pred_charge = y_pred[:, :, N:N+1]\n",
        "        pred_momentum = y_pred[:, :, N+1:]\n",
        "        return pred_id_logits, pred_charge, pred_momentum\n",
        "\n",
        "    def separate_truth(self, y_true):\n",
        "        true_id = tf.cast(y_true[:, :, :1], tf.int32)\n",
        "        true_charge = y_true[:, :, 1:2]\n",
        "        true_momentum = y_true[:, :, 2:]\n",
        "        return true_id, true_charge, true_momentum\n",
        "\n",
        "    def loss_components(self, y_true, y_pred):\n",
        "        pred_id_logits, pred_charge, pred_momentum = self.separate_prediction(y_pred)\n",
        "        pred_id = tf.cast(tf.argmax(pred_id_logits, axis=-1), tf.int32)\n",
        "        true_id, true_charge, true_momentum = self.separate_truth(y_true)\n",
        "        true_id_onehot = tf.one_hot(tf.cast(true_id, tf.int32), depth=self.num_output_classes)\n",
        "\n",
        "        l1 = tf.nn.softmax_cross_entropy_with_logits(true_id_onehot, pred_id_logits)\n",
        "      \n",
        "        l2 = self.mse_unreduced(true_momentum, pred_momentum) * self.momentum_loss_coefs\n",
        "        l2s = tf.reduce_sum(l2, axis=-1)\n",
        "\n",
        "        l3 = self.charge_loss_coef*self.mse_unreduced(true_charge, pred_charge)[:, :, 0]\n",
        "\n",
        "        return l1, l2s, l3, l2\n",
        "\n",
        "    def my_loss_full(self, y_true, y_pred):\n",
        "        l1, l2, l3, _ = self.loss_components(y_true, y_pred)\n",
        "        loss = l1 + l2 + l3\n",
        "\n",
        "        return loss\n",
        "\n",
        "    def my_loss_cls(self, y_true, y_pred):\n",
        "        l1, l2, l3, _ = self.loss_components(y_true, y_pred)\n",
        "        loss = l1\n",
        "\n",
        "        return loss\n",
        "\n",
        "    def my_loss_reg(self, y_true, y_pred):\n",
        "        l1, l2, l3, _ = self.loss_components(y_true, y_pred)\n",
        "        loss = l3\n",
        "\n",
        "        return loss"
      ],
      "id": "sUkgbZIDw_o6",
      "execution_count": null,
      "outputs": []
    },
    {
      "cell_type": "code",
      "metadata": {
        "id": "i-tXg_vVw_o6"
      },
      "source": [
        "model = PFNet(\n",
        "    num_input_classes=len(input_classes),\n",
        "    num_output_classes=len(output_classes),\n",
        "    num_momentum_outputs=num_momentum_outputs,\n",
        "    activation=tf.nn.elu,\n",
        "    bin_size=128,\n",
        "    num_neighbors=16\n",
        ")\n",
        "\n",
        "#combined multiclass + regression loss\n",
        "loss = PFNetLoss(\n",
        "    num_input_classes=len(input_classes),\n",
        "    num_output_classes=len(output_classes),\n",
        "    \n",
        "    #(pt, eta, sin phi, cos phi, E)\n",
        "    momentum_loss_coefs=[0.001, 1.0, 1.0, 1.0, 0.001]\n",
        ")\n",
        "\n",
        "#temporal weight mode means each input element in the event can get a separate weight\n",
        "model.compile(loss=loss.my_loss_full, optimizer=\"adam\", sample_weight_mode=\"temporal\")"
      ],
      "id": "i-tXg_vVw_o6",
      "execution_count": null,
      "outputs": []
    },
    {
      "cell_type": "code",
      "metadata": {
        "id": "NY0kgK55w_o6",
        "outputId": "1b3fbd6d-ae70-406f-f764-f16415f1584e"
      },
      "source": [
        "X.shape, y.shape"
      ],
      "id": "NY0kgK55w_o6",
      "execution_count": null,
      "outputs": [
        {
          "output_type": "execute_result",
          "data": {
            "text/plain": [
              "((100, 6400, 12), (100, 6400, 7))"
            ]
          },
          "metadata": {
            "tags": []
          },
          "execution_count": 19
        }
      ]
    },
    {
      "cell_type": "code",
      "metadata": {
        "id": "dbljDGpGw_o6",
        "outputId": "c8367b1f-19ce-418f-9d6b-4339d56368da"
      },
      "source": [
        "history = model.fit(X[:80], y[:80], validation_data=(X[80:], y[80:]), batch_size=5, epochs=1)"
      ],
      "id": "dbljDGpGw_o6",
      "execution_count": null,
      "outputs": [
        {
          "output_type": "stream",
          "text": [
            "16/16 [==============================] - 9s 569ms/step - loss: 15.3928 - val_loss: 10.2743\n"
          ],
          "name": "stdout"
        }
      ]
    },
    {
      "cell_type": "code",
      "metadata": {
        "id": "TsNS5R04w_o6"
      },
      "source": [
        "ypred = model.predict(X, batch_size=5)"
      ],
      "id": "TsNS5R04w_o6",
      "execution_count": null,
      "outputs": []
    },
    {
      "cell_type": "code",
      "metadata": {
        "id": "HoSzjvH7w_o7"
      },
      "source": [
        "#index of the class prediction output values\n",
        "pred_id_offset = len(output_classes)\n",
        "ypred_ids_raw = ypred[:, :, :pred_id_offset]\n",
        "ypred_charge = ypred[:, :, pred_id_offset:pred_id_offset+1]\n",
        "ypred_momentum = ypred[:, :, pred_id_offset+1:]"
      ],
      "id": "HoSzjvH7w_o7",
      "execution_count": null,
      "outputs": []
    },
    {
      "cell_type": "markdown",
      "metadata": {
        "id": "oYhDyGfPw_o7"
      },
      "source": [
        "The model is predicting the particle ID:\n",
        "PID==0: no particle\n",
        "PID==1: charged hadron\n",
        "PID==2: neutral hadron\n",
        "PID==3: photon\n",
        "PID==4: electron\n",
        "PID==5: muon"
      ],
      "id": "oYhDyGfPw_o7"
    },
    {
      "cell_type": "code",
      "metadata": {
        "id": "hw45dnKww_o7",
        "outputId": "d893e420-d170-4e96-87f5-76e522438a75"
      },
      "source": [
        "CM = sklearn.metrics.confusion_matrix(\n",
        "    np.argmax(ypred_ids_raw, axis=-1).flatten(),\n",
        "    y[:, :, 0].flatten(), labels=output_classes\n",
        ")\n",
        "CM"
      ],
      "id": "hw45dnKww_o7",
      "execution_count": null,
      "outputs": [
        {
          "output_type": "execute_result",
          "data": {
            "text/plain": [
              "array([[130133,     67,      0,      1,      0,      0],\n",
              "       [   675, 247771,     26,    398,    646,    249],\n",
              "       [ 12592,  12423,  89067,  16928,     41,     20],\n",
              "       [  4174,   3735,   4415, 116405,    225,      9],\n",
              "       [     0,      0,      0,      0,      0,      0],\n",
              "       [     0,      0,      0,      0,      0,      0]])"
            ]
          },
          "metadata": {
            "tags": []
          },
          "execution_count": 23
        }
      ]
    },
    {
      "cell_type": "code",
      "metadata": {
        "id": "Dkah0mJYw_o7",
        "outputId": "4c0702e0-0fc5-46ec-964e-5442f61e01e3"
      },
      "source": [
        "CMN = CM /  CM.sum(axis=1)[:,np.newaxis]\n",
        "plt.imshow(CMN)\n",
        "plt.colorbar(orientation='vertical')\n",
        "plt.xlabel(\"Predicted class\")\n",
        "plt.ylabel(\"True class\")\n",
        "plt.show()"
      ],
      "id": "Dkah0mJYw_o7",
      "execution_count": null,
      "outputs": [
        {
          "output_type": "stream",
          "text": [
            "/usr/local/lib/python3.6/site-packages/ipykernel_launcher.py:1: RuntimeWarning: invalid value encountered in true_divide\n",
            "  \"\"\"Entry point for launching an IPython kernel.\n"
          ],
          "name": "stderr"
        },
        {
          "output_type": "display_data",
          "data": {
            "image/png": "[encoded data removed]",
            "text/plain": [
              "<Figure size 432x288 with 2 Axes>"
            ]
          },
          "metadata": {
            "tags": [],
            "needs_background": "light"
          }
        }
      ]
    },
    {
      "cell_type": "code",
      "metadata": {
        "id": "hdbgDJrLw_o7",
        "outputId": "e0c5218f-f1e4-41e0-9f7f-9945d5aed605"
      },
      "source": [
        "#first two values in the y array are ID anc charge\n",
        "momentum_offset = 2\n",
        "\n",
        "#momentum eta component\n",
        "for imomentum,label in enumerate([\"pT\", \"eta\", \"sin phi\",\"cos phi\", \"energy\"]):\n",
        "    plt.scatter(ypred_momentum[:, :, imomentum].flatten(), y[:, :, imomentum+momentum_offset].flatten(), marker=\".\")\n",
        "    plt.xlabel(\"Predicted {}\".format(label))\n",
        "    plt.ylabel(\"True {}\".format(label))\n",
        "    plt.show()"
      ],
      "id": "hdbgDJrLw_o7",
      "execution_count": null,
      "outputs": [
        {
          "output_type": "display_data",
          "data": {
            "image/png": "[encoded data removed]",
            "text/plain": [
              "<Figure size 432x288 with 1 Axes>"
            ]
          },
          "metadata": {
            "tags": [],
            "needs_background": "light"
          }
        },
        {
          "output_type": "display_data",
          "data": {
            "image/png": "[encoded data removed]",
            "text/plain": [
              "<Figure size 432x288 with 1 Axes>"
            ]
          },
          "metadata": {
            "tags": [],
            "needs_background": "light"
          }
        },
        {
          "output_type": "display_data",
          "data": {
            "image/png": "[encoded data removed]",
            "text/plain": [
              "<Figure size 432x288 with 1 Axes>"
            ]
          },
          "metadata": {
            "tags": [],
            "needs_background": "light"
          }
        },
        {
          "output_type": "display_data",
          "data": {
            "image/png": "[encoded data removed]",
            "text/plain": [
              "<Figure size 432x288 with 1 Axes>"
            ]
          },
          "metadata": {
            "tags": [],
            "needs_background": "light"
          }
        },
        {
          "output_type": "display_data",
          "data": {
            "image/png": "[encoded data removed]",
            "text/plain": [
              "<Figure size 432x288 with 1 Axes>"
            ]
          },
          "metadata": {
            "tags": [],
            "needs_background": "light"
          }
        }
      ]
    }
  ]
}