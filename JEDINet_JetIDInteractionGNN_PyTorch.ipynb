{
  "nbformat": 4,
  "nbformat_minor": 0,
  "metadata": {
    "kernelspec": {
      "display_name": "Python 3",
      "language": "python",
      "name": "python3"
    },
    "language_info": {
      "codemirror_mode": {
        "name": "ipython",
        "version": 3
      },
      "file_extension": ".py",
      "mimetype": "text/x-python",
      "name": "python",
      "nbconvert_exporter": "python",
      "pygments_lexer": "ipython3",
      "version": "3.6.8"
    },
    "colab": {
      "name": "JEDINet_JetIDInteractionGNN_PyTorch.ipynb",
      "provenance": [],
      "collapsed_sections": [],
      "include_colab_link": true
    }
  },
  "cells": [
    {
      "cell_type": "markdown",
      "metadata": {
        "id": "view-in-github",
        "colab_type": "text"
      },
      "source": [
        "<a href=\"https://colab.research.google.com/github/sznajder/Notebooks/blob/master/JEDINet_JetIDInteractionGNN_PyTorch.ipynb\" target=\"_parent\"><img src=\"https://colab.research.google.com/assets/colab-badge.svg\" alt=\"Open In Colab\"/></a>"
      ]
    },
    {
      "cell_type": "markdown",
      "metadata": {
        "id": "wYlhPmsLubCs"
      },
      "source": [
        "# JEDINet Demo\n",
        "\n",
        "credits to **Javier Duarte**. Model from the paper https://arxiv.org/abs/1908.05318 with more code available at https://github.com/jmduarte/JEDInet-code.\n",
        "\n",
        "Tutorial inspired from https://github.com/jmduarte/capstone-particle-physics-domain "
      ]
    },
    {
      "cell_type": "code",
      "metadata": {
        "id": "Y8WDv5BdubCv",
        "outputId": "299eedcb-e19f-4cb5-f3f0-c5b130116064"
      },
      "source": [
        "!pip install torch_geometric torch_sparse torch_scatter"
      ],
      "execution_count": null,
      "outputs": [
        {
          "output_type": "stream",
          "text": [
            "Defaulting to user installation because normal site-packages is not writeable\n",
            "Requirement already satisfied: torch_geometric in /usr/local/lib/python3.6/site-packages (1.6.1)\n",
            "Requirement already satisfied: torch_sparse in /usr/local/lib64/python3.6/site-packages (0.6.7)\n",
            "Requirement already satisfied: torch_scatter in /usr/local/lib64/python3.6/site-packages (2.0.5)\n",
            "Requirement already satisfied: numpy in /usr/local/lib64/python3.6/site-packages (from torch_geometric) (1.18.5)\n",
            "Requirement already satisfied: rdflib in /usr/local/lib/python3.6/site-packages (from torch_geometric) (5.0.0)\n",
            "Requirement already satisfied: scipy in /usr/local/lib64/python3.6/site-packages (from torch_geometric) (1.5.3)\n",
            "Requirement already satisfied: scikit-learn in /usr/local/lib64/python3.6/site-packages (from torch_geometric) (0.23.2)\n",
            "Requirement already satisfied: numba in /usr/local/lib64/python3.6/site-packages (from torch_geometric) (0.51.2)\n",
            "Requirement already satisfied: tqdm in /usr/local/lib/python3.6/site-packages (from torch_geometric) (4.51.0)\n",
            "Requirement already satisfied: networkx in /usr/local/lib/python3.6/site-packages (from torch_geometric) (2.5)\n",
            "Requirement already satisfied: requests in /usr/local/lib/python3.6/site-packages (from torch_geometric) (2.24.0)\n",
            "Requirement already satisfied: jinja2 in /usr/local/lib/python3.6/site-packages (from torch_geometric) (2.11.2)\n",
            "Requirement already satisfied: torch in /usr/local/lib64/python3.6/site-packages (from torch_geometric) (1.5.0+cu101)\n",
            "Requirement already satisfied: googledrivedownloader in /usr/local/lib/python3.6/site-packages (from torch_geometric) (0.4)\n",
            "Requirement already satisfied: h5py in /usr/local/lib64/python3.6/site-packages (from torch_geometric) (2.10.0)\n",
            "Requirement already satisfied: pandas in /usr/local/lib64/python3.6/site-packages (from torch_geometric) (1.1.3)\n",
            "Requirement already satisfied: ase in /usr/local/lib/python3.6/site-packages (from torch_geometric) (3.20.1)\n",
            "Requirement already satisfied: six in /usr/local/lib/python3.6/site-packages (from rdflib->torch_geometric) (1.15.0)\n",
            "Requirement already satisfied: isodate in /usr/local/lib/python3.6/site-packages (from rdflib->torch_geometric) (0.6.0)\n",
            "Requirement already satisfied: pyparsing in /usr/local/lib/python3.6/site-packages (from rdflib->torch_geometric) (2.4.7)\n",
            "Requirement already satisfied: joblib>=0.11 in /usr/local/lib/python3.6/site-packages (from scikit-learn->torch_geometric) (0.17.0)\n",
            "Requirement already satisfied: threadpoolctl>=2.0.0 in /usr/local/lib/python3.6/site-packages (from scikit-learn->torch_geometric) (2.1.0)\n",
            "Requirement already satisfied: llvmlite<0.35,>=0.34.0.dev0 in /usr/local/lib64/python3.6/site-packages (from numba->torch_geometric) (0.34.0)\n",
            "Requirement already satisfied: setuptools in /usr/local/lib/python3.6/site-packages (from numba->torch_geometric) (50.3.2)\n",
            "Requirement already satisfied: decorator>=4.3.0 in /usr/local/lib/python3.6/site-packages (from networkx->torch_geometric) (4.4.2)\n",
            "Requirement already satisfied: urllib3!=1.25.0,!=1.25.1,<1.26,>=1.21.1 in /usr/local/lib/python3.6/site-packages (from requests->torch_geometric) (1.25.11)\n",
            "Requirement already satisfied: chardet<4,>=3.0.2 in /usr/local/lib/python3.6/site-packages (from requests->torch_geometric) (3.0.4)\n",
            "Requirement already satisfied: idna<3,>=2.5 in /usr/local/lib/python3.6/site-packages (from requests->torch_geometric) (2.10)\n",
            "Requirement already satisfied: certifi>=2017.4.17 in /usr/local/lib/python3.6/site-packages (from requests->torch_geometric) (2020.6.20)\n",
            "Requirement already satisfied: MarkupSafe>=0.23 in /usr/local/lib64/python3.6/site-packages (from jinja2->torch_geometric) (1.1.1)\n",
            "Requirement already satisfied: future in /usr/local/lib/python3.6/site-packages (from torch->torch_geometric) (0.18.2)\n",
            "Requirement already satisfied: pytz>=2017.2 in /usr/local/lib/python3.6/site-packages (from pandas->torch_geometric) (2020.1)\n",
            "Requirement already satisfied: python-dateutil>=2.7.3 in /usr/local/lib/python3.6/site-packages (from pandas->torch_geometric) (2.8.1)\n",
            "Requirement already satisfied: matplotlib>=2.0.0 in /usr/local/lib64/python3.6/site-packages (from ase->torch_geometric) (3.3.2)\n",
            "Requirement already satisfied: kiwisolver>=1.0.1 in /usr/local/lib64/python3.6/site-packages (from matplotlib>=2.0.0->ase->torch_geometric) (1.2.0)\n",
            "Requirement already satisfied: pillow>=6.2.0 in /usr/local/lib64/python3.6/site-packages (from matplotlib>=2.0.0->ase->torch_geometric) (8.0.1)\n",
            "Requirement already satisfied: cycler>=0.10 in /usr/local/lib/python3.6/site-packages (from matplotlib>=2.0.0->ase->torch_geometric) (0.10.0)\n",
            "\u001b[33mWARNING: You are using pip version 20.2.4; however, version 21.0.1 is available.\n",
            "You should consider upgrading via the '/bin/python3 -m pip install --upgrade pip' command.\u001b[0m\n"
          ],
          "name": "stdout"
        }
      ]
    },
    {
      "cell_type": "code",
      "metadata": {
        "id": "DOLEjn-aubCw",
        "outputId": "95388510-1175-41d0-8e57-74698c99cb95"
      },
      "source": [
        "import torch\n",
        "import os\n",
        "import torch_geometric\n",
        "import setGPU\n",
        "device = torch.device(\"cuda:{}\".format(os.getenv('CUDA_VISIBLE_DEVICES')) if torch.cuda.is_available() else \"cpu\")\n",
        "print(\"using device\", device)\n",
        "from tqdm.notebook import tqdm\n",
        "import numpy as np\n",
        "local = False"
      ],
      "execution_count": null,
      "outputs": [
        {
          "output_type": "stream",
          "text": [
            "setGPU: Setting GPU to: 0\n",
            "using device cuda:0\n"
          ],
          "name": "stdout"
        }
      ]
    },
    {
      "cell_type": "code",
      "metadata": {
        "id": "8yoIThoeubCw",
        "outputId": "f0458349-f35b-4afb-b65c-26c3ceba5d11"
      },
      "source": [
        "!curl -O https://raw.githubusercontent.com/jmduarte/capstone-particle-physics-domain/master/weeks/definitions.yml"
      ],
      "execution_count": null,
      "outputs": [
        {
          "output_type": "stream",
          "text": [
            "  % Total    % Received % Xferd  Average Speed   Time    Time     Time  Current\n",
            "                                 Dload  Upload   Total   Spent    Left  Speed\n",
            "100  1226  100  1226    0     0   4422      0 --:--:-- --:--:-- --:--:--  4410\n"
          ],
          "name": "stdout"
        }
      ]
    },
    {
      "cell_type": "code",
      "metadata": {
        "id": "bcWI9ZeLubCw"
      },
      "source": [
        "import yaml\n",
        "\n",
        "with open('definitions.yml') as file:\n",
        "    # The FullLoader parameter handles the conversion from YAML\n",
        "    # scalar values to Python the dictionary format\n",
        "    definitions = yaml.load(file, Loader=yaml.FullLoader)\n",
        "    \n",
        "features = definitions['features']\n",
        "spectators = definitions['spectators']\n",
        "labels = definitions['labels']\n",
        "\n",
        "nfeatures = definitions['nfeatures']\n",
        "nspectators = definitions['nspectators']\n",
        "nlabels = definitions['nlabels']\n",
        "ntracks = definitions['ntracks']"
      ],
      "execution_count": null,
      "outputs": []
    },
    {
      "cell_type": "markdown",
      "metadata": {
        "id": "dDLhl2iRubCw"
      },
      "source": [
        "## Graph datasets\n",
        "Here we have to define the graph dataset. We do this in a separate class following this example: https://pytorch-geometric.readthedocs.io/en/latest/notes/create_dataset.html#creating-larger-datasets\n",
        "\n",
        "Formally, a graph is represented by a triplet $\\mathcal G = (\\mathbf{u}, V, E)$, consisting of a graph-level, or *global*, feature vector $\\mathbf{u}$, a set of $N^v$ nodes $V$, and a set of $N^e$ edges $E$.\n",
        "The nodes are given by $V = \\{\\mathbf{v}_i\\}_{i=1:N^v}$, where $\\mathbf{v}_i$ represents the $i$th node's attributes.\n",
        "The edges connect pairs of nodes and are given by $E = \\{\\left(\\mathbf{e}_k, r_k, s_k\\right)\\}_{k=1:N^e}$, where $\\mathbf{e}_k$ represents the $k$th edge's attributes, and $r_k$ and $s_k$ are the indices of the \"receiver\" and \n",
        "\"sender\" nodes, respectively, connected by the $k$th edge (from the sender node to the receiver node).\n",
        "The receiver and sender index vectors are an alternative way of encoding the directed adjacency matrix.\n",
        "\n",
        "<img src=\"https://github.com/jmduarte/capstone-particle-physics-domain/raw/master/weeks/attributes.png\" alt=\"attributes\" width=\"500\">"
      ]
    },
    {
      "cell_type": "code",
      "metadata": {
        "id": "S8Cwj5LVubCx",
        "outputId": "70e3e9b0-fef8-4e37-c5f9-60e6db2831ca"
      },
      "source": [
        "!curl -O https://raw.githubusercontent.com/jmduarte/capstone-particle-physics-domain/master/weeks/GraphDataset.py"
      ],
      "execution_count": null,
      "outputs": [
        {
          "output_type": "stream",
          "text": [
            "  % Total    % Received % Xferd  Average Speed   Time    Time     Time  Current\n",
            "                                 Dload  Upload   Total   Spent    Left  Speed\n",
            "100  6185  100  6185    0     0  19222      0 --:--:-- --:--:-- --:--:-- 19267\n"
          ],
          "name": "stdout"
        }
      ]
    },
    {
      "cell_type": "code",
      "metadata": {
        "id": "OoKc2yrJubCx",
        "outputId": "759defea-65e1-499c-b8e9-789bd6007e32"
      },
      "source": [
        "!curl -L https://www.dropbox.com/s/7tot1d1jj0a0cj5/ntuple_merged_0.root?dl=0 > ntuple_merged_0.root\n",
        "!curl -L https://www.dropbox.com/s/xwiwhwkr8dw0nxf/ntuple_merged_10.root?dl=0 > ntuple_merged_10.root\n",
        "local = True"
      ],
      "execution_count": null,
      "outputs": [
        {
          "output_type": "stream",
          "text": [
            "  % Total    % Received % Xferd  Average Speed   Time    Time     Time  Current\n",
            "                                 Dload  Upload   Total   Spent    Left  Speed\n",
            "  0     0    0     0    0     0      0      0 --:--:-- --:--:-- --:--:--     0\n",
            "  0     0    0     0    0     0      0      0 --:--:-- --:--:-- --:--:--     0\n",
            "  0     0    0  1034    0     0    657      0 --:--:--  0:00:01 --:--:--   657\n",
            "100 1153M  100 1153M    0     0  65.5M      0  0:00:17  0:00:17 --:--:-- 78.2M\n",
            "  % Total    % Received % Xferd  Average Speed   Time    Time     Time  Current\n",
            "                                 Dload  Upload   Total   Spent    Left  Speed\n",
            "  0     0    0     0    0     0      0      0 --:--:-- --:--:-- --:--:--     0\n",
            "  0     0    0     0    0     0      0      0 --:--:--  0:00:01 --:--:--     0\n",
            "  0     0    0  1034    0     0    443      0 --:--:--  0:00:02 --:--:--     0\n",
            "100 1154M  100 1154M    0     0  61.9M      0  0:00:18  0:00:18 --:--:-- 79.7M\n"
          ],
          "name": "stdout"
        }
      ]
    },
    {
      "cell_type": "code",
      "metadata": {
        "id": "JXvxbEWGubCx",
        "outputId": "a9108383-478e-467b-87be-d2007e48e0a0"
      },
      "source": [
        "!pip install uproot==3.12.0"
      ],
      "execution_count": null,
      "outputs": [
        {
          "output_type": "stream",
          "text": [
            "Defaulting to user installation because normal site-packages is not writeable\n",
            "Requirement already satisfied: uproot==3.12.0 in /usr/local/lib/python3.6/site-packages (3.12.0)\n",
            "Requirement already satisfied: cachetools in /usr/local/lib/python3.6/site-packages (from uproot==3.12.0) (4.1.1)\n",
            "Requirement already satisfied: numpy>=1.13.1 in /usr/local/lib64/python3.6/site-packages (from uproot==3.12.0) (1.18.5)\n",
            "Requirement already satisfied: uproot-methods>=0.7.0 in /usr/local/lib/python3.6/site-packages (from uproot==3.12.0) (0.7.4)\n",
            "Requirement already satisfied: awkward<1.0,>=0.12.0 in /usr/local/lib/python3.6/site-packages (from uproot==3.12.0) (0.13.0)\n",
            "\u001b[33mWARNING: You are using pip version 20.2.4; however, version 21.0.1 is available.\n",
            "You should consider upgrading via the '/bin/python3 -m pip install --upgrade pip' command.\u001b[0m\n"
          ],
          "name": "stdout"
        }
      ]
    },
    {
      "cell_type": "code",
      "metadata": {
        "id": "Eqw_iM5eubCx"
      },
      "source": [
        "from GraphDataset import GraphDataset\n",
        "if local:\n",
        "    # get the files \n",
        "    file_names = ['ntuple_merged_10.root']\n",
        "    file_names_test = ['ntuple_merged_0.root']\n",
        "else:\n",
        "    # requires to have xrootd client installed\n",
        "    file_names = ['root://eospublic.cern.ch//eos/opendata/cms/datascience/HiggsToBBNtupleProducerTool/HiggsToBBNTuple_HiggsToBB_QCD_RunII_13TeV_MC/train/ntuple_merged_10.root']\n",
        "    file_names_test = ['root://eospublic.cern.ch//eos/opendata/cms/datascience/HiggsToBBNtupleProducerTool/HiggsToBBNTuple_HiggsToBB_QCD_RunII_13TeV_MC/test/ntuple_merged_0.root']\n",
        "\n",
        "graph_dataset = GraphDataset('gdata_train', features, labels, spectators, n_events=1000, n_events_merge=1, \n",
        "                             file_names=file_names)\n",
        "\n",
        "test_dataset = GraphDataset('gdata_test', features, labels, spectators, n_events=2000, n_events_merge=1, \n",
        "                             file_names=file_names_test)"
      ],
      "execution_count": null,
      "outputs": []
    },
    {
      "cell_type": "markdown",
      "metadata": {
        "id": "p6D4YEOnubCx"
      },
      "source": [
        "## Graph neural network\n",
        "\n",
        "Here, we recapitulate the \"graph network\" (GN) formalism {cite}`battaglia2018relational`, which generalizes various GNNs and other similar methods.\n",
        "GNs are graph-to-graph mappings, whose output graphs have the same node and edge structure as the input. \n",
        "Formally, a GN block contains three \"update\" functions, $\\phi$, and three \"aggregation\" functions, $\\rho$.\n",
        "The stages of processing in a single GN block are:\n",
        "\n",
        "$\n",
        "\\begin{align}\n",
        "    \\mathbf{e}'_k &= \\phi^e\\left(\\mathbf{e}_k, \\mathbf{v}_{r_k}, \\mathbf{v}_{s_k}, \\mathbf{u} \\right) & \\mathbf{\\bar{e}}'_i &= \\rho^{e \\rightarrow v}\\left(E'_i\\right) & \\text{(Edge block),}\\\\\n",
        "    \\mathbf{v}'_i &= \\phi^v\\left(\\mathbf{\\bar{e}}'_i, \\mathbf{v}_i, \\mathbf{u}\\right) & \n",
        "    \\mathbf{\\bar{e}}' &= \\rho^{e \\rightarrow u}\\left(E'\\right) &  \\text{(Node block),}\\\\\n",
        "    \\mathbf{u}' &= \\phi^u\\left(\\mathbf{\\bar{e}}', \\mathbf{\\bar{v}}', \\mathbf{u}\\right) & \n",
        "    \\mathbf{\\bar{v}}' &= \\rho^{v \\rightarrow u}\\left(V'\\right) &\\text{(Global block).}\n",
        "  \\label{eq:gn-functions}\n",
        "\\end{align}\n",
        "$\n",
        "\n",
        "where $E'_i = \\left\\{\\left(\\mathbf{e}'_k, r_k, s_k \\right)\\right\\}_{r_k=i,\\; k=1:N^e}$ contains the updated edge features for edges whose receiver node is the $i$th node, $E' = \\bigcup_i E_i' = \\left\\{\\left(\\mathbf{e}'_k, r_k, s_k \\right)\\right\\}_{k=1:N^e}$ is the set of updated edges, and $V'=\\left\\{\\mathbf{v}'_i\\right\\}_{i=1:N^v}$ is the set of updated nodes.\n",
        "\n",
        "<img src=\"https://github.com/jmduarte/capstone-particle-physics-domain/raw/master/weeks/GN-full-block.png\" alt=\"GN full block\" width=\"500\">\n",
        "\n",
        "We will define an interaction network model similar to Ref. {cite}`Moreno:2019neq`, but just modeling the particle-particle interactions. It will take as input all of the tracks (with 48 features) without truncating or zero-padding. Another modification is the use of batch normalization {cite}`bn` layers to improve the stability of the training."
      ]
    },
    {
      "cell_type": "code",
      "metadata": {
        "id": "SXfy4JwsubCy"
      },
      "source": [
        "import torch.nn as nn\n",
        "import torch.nn.functional as F\n",
        "import torch_geometric.transforms as T\n",
        "from torch_geometric.nn import EdgeConv, global_mean_pool\n",
        "from torch.nn import Sequential as Seq, Linear as Lin, ReLU, BatchNorm1d\n",
        "from torch_scatter import scatter_mean\n",
        "from torch_geometric.nn import MetaLayer\n",
        "\n",
        "inputs = 48\n",
        "hidden = 128\n",
        "outputs = 2\n",
        "\n",
        "class EdgeBlock(torch.nn.Module):\n",
        "    def __init__(self):\n",
        "        super(EdgeBlock, self).__init__()\n",
        "        self.edge_mlp = Seq(Lin(inputs*2, hidden), \n",
        "                            BatchNorm1d(hidden),\n",
        "                            ReLU(),\n",
        "                            Lin(hidden, hidden))\n",
        "\n",
        "    def forward(self, src, dest, edge_attr, u, batch):\n",
        "        out = torch.cat([src, dest], 1)\n",
        "        return self.edge_mlp(out)\n",
        "\n",
        "class NodeBlock(torch.nn.Module):\n",
        "    def __init__(self):\n",
        "        super(NodeBlock, self).__init__()\n",
        "        self.node_mlp_1 = Seq(Lin(inputs+hidden, hidden), \n",
        "                              BatchNorm1d(hidden),\n",
        "                              ReLU(), \n",
        "                              Lin(hidden, hidden))\n",
        "        self.node_mlp_2 = Seq(Lin(inputs+hidden, hidden), \n",
        "                              BatchNorm1d(hidden),\n",
        "                              ReLU(), \n",
        "                              Lin(hidden, hidden))\n",
        "\n",
        "    def forward(self, x, edge_index, edge_attr, u, batch):\n",
        "        row, col = edge_index\n",
        "        out = torch.cat([x[row], edge_attr], dim=1)\n",
        "        out = self.node_mlp_1(out)\n",
        "        out = scatter_mean(out, col, dim=0, dim_size=x.size(0))\n",
        "        out = torch.cat([x, out], dim=1)\n",
        "        return self.node_mlp_2(out)\n",
        "\n",
        "    \n",
        "class GlobalBlock(torch.nn.Module):\n",
        "    def __init__(self):\n",
        "        super(GlobalBlock, self).__init__()\n",
        "        self.global_mlp = Seq(Lin(hidden, hidden),                               \n",
        "                              BatchNorm1d(hidden),\n",
        "                              ReLU(), \n",
        "                              Lin(hidden, outputs))\n",
        "\n",
        "    def forward(self, x, edge_index, edge_attr, u, batch):\n",
        "        out = scatter_mean(x, batch, dim=0)\n",
        "        return self.global_mlp(out)\n",
        "\n",
        "\n",
        "class InteractionNetwork(torch.nn.Module):\n",
        "    def __init__(self):\n",
        "        super(InteractionNetwork, self).__init__()\n",
        "        self.interactionnetwork = MetaLayer(EdgeBlock(), NodeBlock(), GlobalBlock())\n",
        "        self.bn = BatchNorm1d(inputs)\n",
        "        \n",
        "    def forward(self, x, edge_index, batch):\n",
        "        \n",
        "        x = self.bn(x)\n",
        "        x, edge_attr, u = self.interactionnetwork(x, edge_index, None, None, batch)\n",
        "        return u\n",
        "    \n",
        "model = InteractionNetwork().to(device)\n",
        "optimizer = torch.optim.Adam(model.parameters(), lr = 1e-2)"
      ],
      "execution_count": null,
      "outputs": []
    },
    {
      "cell_type": "markdown",
      "metadata": {
        "id": "YO90RBz3ubC0"
      },
      "source": [
        "## Define training loop"
      ]
    },
    {
      "cell_type": "code",
      "metadata": {
        "id": "uii9T52mubC1"
      },
      "source": [
        "@torch.no_grad()\n",
        "def test(model,loader,total,batch_size,leave=False):\n",
        "    model.eval()\n",
        "    \n",
        "    xentropy = nn.CrossEntropyLoss(reduction='mean')\n",
        "\n",
        "    sum_loss = 0.\n",
        "    t = tqdm(enumerate(loader),total=total/batch_size,leave=leave)\n",
        "    for i,data in t:\n",
        "        data = data.to(device)\n",
        "        y = torch.argmax(data.y,dim=1)\n",
        "        batch_output = model(data.x, data.edge_index, data.batch)\n",
        "        batch_loss_item = xentropy(batch_output, y).item()\n",
        "        sum_loss += batch_loss_item\n",
        "        t.set_description(\"loss = %.5f\" % (batch_loss_item))\n",
        "        t.refresh() # to show immediately the update\n",
        "\n",
        "    return sum_loss/(i+1)\n",
        "\n",
        "def train(model, optimizer, loader, total, batch_size,leave=False):\n",
        "    model.train()\n",
        "    \n",
        "    xentropy = nn.CrossEntropyLoss(reduction='mean')\n",
        "\n",
        "    sum_loss = 0.\n",
        "    t = tqdm(enumerate(loader),total=total/batch_size,leave=leave)\n",
        "    for i,data in t:\n",
        "        data = data.to(device)\n",
        "        y = torch.argmax(data.y,dim=1)\n",
        "        optimizer.zero_grad()\n",
        "        batch_output = model(data.x, data.edge_index, data.batch)\n",
        "        batch_loss = xentropy(batch_output, y)\n",
        "        batch_loss.backward()\n",
        "        batch_loss_item = batch_loss.item()\n",
        "        t.set_description(\"loss = %.5f\" % batch_loss_item)\n",
        "        t.refresh() # to show immediately the update\n",
        "        sum_loss += batch_loss_item\n",
        "        optimizer.step()\n",
        "    \n",
        "    return sum_loss/(i+1)"
      ],
      "execution_count": null,
      "outputs": []
    },
    {
      "cell_type": "markdown",
      "metadata": {
        "id": "iOxh1JJuubC2"
      },
      "source": [
        "## Define training, validation, testing data generators"
      ]
    },
    {
      "cell_type": "code",
      "metadata": {
        "id": "nZvktTQ8ubC2"
      },
      "source": [
        "from torch_geometric.data import Data, DataListLoader, Batch\n",
        "from torch.utils.data import random_split\n",
        "\n",
        "def collate(items):\n",
        "    l = sum(items, [])\n",
        "    return Batch.from_data_list(l)\n",
        "\n",
        "torch.manual_seed(0)\n",
        "valid_frac = 0.20\n",
        "full_length = len(graph_dataset)\n",
        "valid_num = int(valid_frac*full_length)\n",
        "batch_size = 32\n",
        "\n",
        "train_dataset, valid_dataset = random_split(graph_dataset, [full_length-valid_num,valid_num])\n",
        "\n",
        "train_loader = DataListLoader(train_dataset, batch_size=batch_size, pin_memory=True, shuffle=True)\n",
        "train_loader.collate_fn = collate\n",
        "valid_loader = DataListLoader(valid_dataset, batch_size=batch_size, pin_memory=True, shuffle=False)\n",
        "valid_loader.collate_fn = collate\n",
        "test_loader = DataListLoader(test_dataset, batch_size=batch_size, pin_memory=True, shuffle=False)\n",
        "test_loader.collate_fn = collate\n",
        "\n",
        "\n",
        "train_samples = len(train_dataset)\n",
        "valid_samples = len(valid_dataset)\n",
        "test_samples = len(test_dataset)"
      ],
      "execution_count": null,
      "outputs": []
    },
    {
      "cell_type": "markdown",
      "metadata": {
        "id": "UtNnx7VWubC2"
      },
      "source": [
        "## Train"
      ]
    },
    {
      "cell_type": "code",
      "metadata": {
        "id": "WhWynBnUubC2",
        "colab": {
          "referenced_widgets": [
            "de4b312f8de5497db21498c2a0761870",
            "776f3f138f214ca5ba44a88b2c29909c",
            "c0e38401a6754456894326e8e199f88c",
            "a781290ef2224f549f870ca49f9471a2",
            "2526bd3bc6474b7f96a62192d8f1cc47",
            "593bfcecf6684044ad08058a81a08209",
            "c5cce1ad43fd4a948e72d50a3920f1cf",
            "c8faeba67dea42f8b2fb11f6059406ab",
            "f91ec34c8b82416ca28ef8571499f202",
            "174745bbae5347f18f0a4ac22007d951",
            "a04913a3b6874054b5cf98fa62c46cf7",
            "ff2bb0d0952d447abfd04609d01efdfb",
            "c83869d757244bd8b07f1f044fefaaf0",
            "7e299e3413c74e3386f52426019bb1c8",
            "5aa794c048d64f16844bf879cd52e4fe",
            "43ccded82cd245faa7b806595ab565e3",
            "b9c86d6eac5d45ee91d96382756bc3ca"
          ]
        },
        "outputId": "f88a7e5c-a193-4d7b-d03a-666d5107c399"
      },
      "source": [
        "import os.path as osp\n",
        "\n",
        "n_epochs = 10\n",
        "stale_epochs = 0\n",
        "best_valid_loss = 99999\n",
        "patience = 5\n",
        "t = tqdm(range(0, n_epochs))\n",
        "\n",
        "for epoch in t:\n",
        "    loss = train(model, optimizer, train_loader, train_samples, batch_size,leave=bool(epoch==n_epochs-1))\n",
        "    valid_loss = test(model, valid_loader, valid_samples, batch_size,leave=bool(epoch==n_epochs-1))\n",
        "    print('Epoch: {:02d}, Training Loss:   {:.4f}'.format(epoch, loss))\n",
        "    print('           Validation Loss: {:.4f}'.format(valid_loss))\n",
        "\n",
        "    if valid_loss < best_valid_loss:\n",
        "        best_valid_loss = valid_loss\n",
        "        modpath = osp.join('interactionnetwork_best.pth')\n",
        "        print('New best model saved to:',modpath)\n",
        "        torch.save(model.state_dict(),modpath)\n",
        "        stale_epochs = 0\n",
        "    else:\n",
        "        print('Stale epoch')\n",
        "        stale_epochs += 1\n",
        "    if stale_epochs >= patience:\n",
        "        print('Early stopping after %i stale epochs'%patience)\n",
        "        break"
      ],
      "execution_count": null,
      "outputs": [
        {
          "output_type": "display_data",
          "data": {
            "application/vnd.jupyter.widget-view+json": {
              "model_id": "de4b312f8de5497db21498c2a0761870",
              "version_major": 2,
              "version_minor": 0
            },
            "text/plain": [
              "HBox(children=(HTML(value=''), FloatProgress(value=0.0, max=10.0), HTML(value='')))"
            ]
          },
          "metadata": {
            "tags": []
          }
        },
        {
          "output_type": "display_data",
          "data": {
            "application/vnd.jupyter.widget-view+json": {
              "model_id": "776f3f138f214ca5ba44a88b2c29909c",
              "version_major": 2,
              "version_minor": 0
            },
            "text/plain": [
              "HBox(children=(HTML(value=''), FloatProgress(value=0.0, max=23.0), HTML(value='')))"
            ]
          },
          "metadata": {
            "tags": []
          }
        },
        {
          "output_type": "display_data",
          "data": {
            "application/vnd.jupyter.widget-view+json": {
              "model_id": "c0e38401a6754456894326e8e199f88c",
              "version_major": 2,
              "version_minor": 0
            },
            "text/plain": [
              "HBox(children=(HTML(value=''), FloatProgress(value=0.0, max=5.75), HTML(value='')))"
            ]
          },
          "metadata": {
            "tags": []
          }
        },
        {
          "output_type": "stream",
          "text": [
            "Epoch: 00, Training Loss:   0.4028\n",
            "           Validation Loss: 0.4050\n",
            "New best model saved to: interactionnetwork_best.pth\n"
          ],
          "name": "stdout"
        },
        {
          "output_type": "display_data",
          "data": {
            "application/vnd.jupyter.widget-view+json": {
              "model_id": "a781290ef2224f549f870ca49f9471a2",
              "version_major": 2,
              "version_minor": 0
            },
            "text/plain": [
              "HBox(children=(HTML(value=''), FloatProgress(value=0.0, max=23.0), HTML(value='')))"
            ]
          },
          "metadata": {
            "tags": []
          }
        },
        {
          "output_type": "display_data",
          "data": {
            "application/vnd.jupyter.widget-view+json": {
              "model_id": "2526bd3bc6474b7f96a62192d8f1cc47",
              "version_major": 2,
              "version_minor": 0
            },
            "text/plain": [
              "HBox(children=(HTML(value=''), FloatProgress(value=0.0, max=5.75), HTML(value='')))"
            ]
          },
          "metadata": {
            "tags": []
          }
        },
        {
          "output_type": "stream",
          "text": [
            "Epoch: 01, Training Loss:   0.2279\n",
            "           Validation Loss: 0.1625\n",
            "New best model saved to: interactionnetwork_best.pth\n"
          ],
          "name": "stdout"
        },
        {
          "output_type": "display_data",
          "data": {
            "application/vnd.jupyter.widget-view+json": {
              "model_id": "593bfcecf6684044ad08058a81a08209",
              "version_major": 2,
              "version_minor": 0
            },
            "text/plain": [
              "HBox(children=(HTML(value=''), FloatProgress(value=0.0, max=23.0), HTML(value='')))"
            ]
          },
          "metadata": {
            "tags": []
          }
        },
        {
          "output_type": "display_data",
          "data": {
            "application/vnd.jupyter.widget-view+json": {
              "model_id": "c5cce1ad43fd4a948e72d50a3920f1cf",
              "version_major": 2,
              "version_minor": 0
            },
            "text/plain": [
              "HBox(children=(HTML(value=''), FloatProgress(value=0.0, max=5.75), HTML(value='')))"
            ]
          },
          "metadata": {
            "tags": []
          }
        },
        {
          "output_type": "stream",
          "text": [
            "Epoch: 02, Training Loss:   0.1628\n",
            "           Validation Loss: 0.1586\n",
            "New best model saved to: interactionnetwork_best.pth\n"
          ],
          "name": "stdout"
        },
        {
          "output_type": "display_data",
          "data": {
            "application/vnd.jupyter.widget-view+json": {
              "model_id": "c8faeba67dea42f8b2fb11f6059406ab",
              "version_major": 2,
              "version_minor": 0
            },
            "text/plain": [
              "HBox(children=(HTML(value=''), FloatProgress(value=0.0, max=23.0), HTML(value='')))"
            ]
          },
          "metadata": {
            "tags": []
          }
        },
        {
          "output_type": "display_data",
          "data": {
            "application/vnd.jupyter.widget-view+json": {
              "model_id": "f91ec34c8b82416ca28ef8571499f202",
              "version_major": 2,
              "version_minor": 0
            },
            "text/plain": [
              "HBox(children=(HTML(value=''), FloatProgress(value=0.0, max=5.75), HTML(value='')))"
            ]
          },
          "metadata": {
            "tags": []
          }
        },
        {
          "output_type": "stream",
          "text": [
            "Epoch: 03, Training Loss:   0.1793\n",
            "           Validation Loss: 0.1669\n",
            "Stale epoch\n"
          ],
          "name": "stdout"
        },
        {
          "output_type": "display_data",
          "data": {
            "application/vnd.jupyter.widget-view+json": {
              "model_id": "174745bbae5347f18f0a4ac22007d951",
              "version_major": 2,
              "version_minor": 0
            },
            "text/plain": [
              "HBox(children=(HTML(value=''), FloatProgress(value=0.0, max=23.0), HTML(value='')))"
            ]
          },
          "metadata": {
            "tags": []
          }
        },
        {
          "output_type": "display_data",
          "data": {
            "application/vnd.jupyter.widget-view+json": {
              "model_id": "a04913a3b6874054b5cf98fa62c46cf7",
              "version_major": 2,
              "version_minor": 0
            },
            "text/plain": [
              "HBox(children=(HTML(value=''), FloatProgress(value=0.0, max=5.75), HTML(value='')))"
            ]
          },
          "metadata": {
            "tags": []
          }
        },
        {
          "output_type": "stream",
          "text": [
            "Epoch: 04, Training Loss:   0.1417\n",
            "           Validation Loss: 0.1615\n",
            "Stale epoch\n"
          ],
          "name": "stdout"
        },
        {
          "output_type": "display_data",
          "data": {
            "application/vnd.jupyter.widget-view+json": {
              "model_id": "ff2bb0d0952d447abfd04609d01efdfb",
              "version_major": 2,
              "version_minor": 0
            },
            "text/plain": [
              "HBox(children=(HTML(value=''), FloatProgress(value=0.0, max=23.0), HTML(value='')))"
            ]
          },
          "metadata": {
            "tags": []
          }
        },
        {
          "output_type": "display_data",
          "data": {
            "application/vnd.jupyter.widget-view+json": {
              "model_id": "c83869d757244bd8b07f1f044fefaaf0",
              "version_major": 2,
              "version_minor": 0
            },
            "text/plain": [
              "HBox(children=(HTML(value=''), FloatProgress(value=0.0, max=5.75), HTML(value='')))"
            ]
          },
          "metadata": {
            "tags": []
          }
        },
        {
          "output_type": "stream",
          "text": [
            "Epoch: 05, Training Loss:   0.1589\n",
            "           Validation Loss: 0.2035\n",
            "Stale epoch\n"
          ],
          "name": "stdout"
        },
        {
          "output_type": "display_data",
          "data": {
            "application/vnd.jupyter.widget-view+json": {
              "model_id": "7e299e3413c74e3386f52426019bb1c8",
              "version_major": 2,
              "version_minor": 0
            },
            "text/plain": [
              "HBox(children=(HTML(value=''), FloatProgress(value=0.0, max=23.0), HTML(value='')))"
            ]
          },
          "metadata": {
            "tags": []
          }
        },
        {
          "output_type": "display_data",
          "data": {
            "application/vnd.jupyter.widget-view+json": {
              "model_id": "5aa794c048d64f16844bf879cd52e4fe",
              "version_major": 2,
              "version_minor": 0
            },
            "text/plain": [
              "HBox(children=(HTML(value=''), FloatProgress(value=0.0, max=5.75), HTML(value='')))"
            ]
          },
          "metadata": {
            "tags": []
          }
        },
        {
          "output_type": "stream",
          "text": [
            "Epoch: 06, Training Loss:   0.1446\n",
            "           Validation Loss: 0.1940\n",
            "Stale epoch\n"
          ],
          "name": "stdout"
        },
        {
          "output_type": "display_data",
          "data": {
            "application/vnd.jupyter.widget-view+json": {
              "model_id": "43ccded82cd245faa7b806595ab565e3",
              "version_major": 2,
              "version_minor": 0
            },
            "text/plain": [
              "HBox(children=(HTML(value=''), FloatProgress(value=0.0, max=23.0), HTML(value='')))"
            ]
          },
          "metadata": {
            "tags": []
          }
        },
        {
          "output_type": "display_data",
          "data": {
            "application/vnd.jupyter.widget-view+json": {
              "model_id": "b9c86d6eac5d45ee91d96382756bc3ca",
              "version_major": 2,
              "version_minor": 0
            },
            "text/plain": [
              "HBox(children=(HTML(value=''), FloatProgress(value=0.0, max=5.75), HTML(value='')))"
            ]
          },
          "metadata": {
            "tags": []
          }
        },
        {
          "output_type": "stream",
          "text": [
            "Epoch: 07, Training Loss:   0.1418\n",
            "           Validation Loss: 0.2090\n",
            "Stale epoch\n",
            "Early stopping after 5 stale epochs\n",
            "\n"
          ],
          "name": "stdout"
        }
      ]
    },
    {
      "cell_type": "markdown",
      "metadata": {
        "id": "3yV6eO-7ubC2"
      },
      "source": [
        "## Evaluate on testing data"
      ]
    },
    {
      "cell_type": "code",
      "metadata": {
        "id": "Aol0R9yrubC2",
        "colab": {
          "referenced_widgets": [
            "26dc6bfd54e24e5aa42845120ba50b27"
          ]
        },
        "outputId": "a1c229a0-3f11-4c8c-803a-8454ecbd7dfb"
      },
      "source": [
        "model.eval()\n",
        "t = tqdm(enumerate(test_loader),total=test_samples/batch_size)\n",
        "y_test = []\n",
        "y_predict = []\n",
        "for i,data in t:\n",
        "    data = data.to(device)    \n",
        "    batch_output = model(data.x, data.edge_index, data.batch)    \n",
        "    y_predict.append(batch_output.detach().cpu().numpy())\n",
        "    y_test.append(data.y.cpu().numpy())\n",
        "y_test = np.concatenate(y_test)\n",
        "y_predict = np.concatenate(y_predict)"
      ],
      "execution_count": null,
      "outputs": [
        {
          "output_type": "display_data",
          "data": {
            "application/vnd.jupyter.widget-view+json": {
              "model_id": "26dc6bfd54e24e5aa42845120ba50b27",
              "version_major": 2,
              "version_minor": 0
            },
            "text/plain": [
              "HBox(children=(HTML(value=''), FloatProgress(value=0.0, max=59.03125), HTML(value='')))"
            ]
          },
          "metadata": {
            "tags": []
          }
        },
        {
          "output_type": "stream",
          "text": [
            "\n"
          ],
          "name": "stdout"
        }
      ]
    },
    {
      "cell_type": "code",
      "metadata": {
        "id": "px5yRwDSubC2",
        "outputId": "d137ff16-8b21-4a25-cc4c-eb1fd287c05d"
      },
      "source": [
        "from sklearn.metrics import roc_curve, auc\n",
        "import matplotlib.pyplot as plt\n",
        "#import mplhep as hep\n",
        "#plt.style.use(hep.style.ROOT)\n",
        "\n",
        "# create ROC curves\n",
        "fpr_gnn, tpr_gnn, threshold_gnn = roc_curve(y_test[:,1], y_predict[:,1])\n",
        "    \n",
        "# plot ROC curves\n",
        "plt.figure()\n",
        "plt.plot(tpr_gnn, fpr_gnn, lw=2.5, label=\"GNN, AUC = {:.1f}%\".format(auc(fpr_gnn,tpr_gnn)*100))\n",
        "plt.xlabel(r'True positive rate')\n",
        "plt.ylabel(r'False positive rate')\n",
        "plt.semilogy()\n",
        "plt.ylim(0.001,1)\n",
        "plt.xlim(0,1)\n",
        "plt.grid(True)\n",
        "plt.legend(loc='upper left')\n",
        "plt.show()"
      ],
      "execution_count": null,
      "outputs": [
        {
          "output_type": "display_data",
          "data": {
            "image/png": "[encoded data removed]",
            "text/plain": [
              "<Figure size 432x288 with 1 Axes>"
            ]
          },
          "metadata": {
            "tags": [],
            "needs_background": "light"
          }
        }
      ]
    },
    {
      "cell_type": "code",
      "metadata": {
        "id": "A8yghqx9ubC3"
      },
      "source": [
        ""
      ],
      "execution_count": null,
      "outputs": []
    }
  ]
}