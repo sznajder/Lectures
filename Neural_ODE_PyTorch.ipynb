{
  "nbformat": 4,
  "nbformat_minor": 0,
  "metadata": {
    "kernelspec": {
      "display_name": "Python 3",
      "language": "python",
      "name": "python3"
    },
    "language_info": {
      "codemirror_mode": {
        "name": "ipython",
        "version": 3
      },
      "file_extension": ".py",
      "mimetype": "text/x-python",
      "name": "python",
      "nbconvert_exporter": "python",
      "pygments_lexer": "ipython3",
      "version": "3.6.4"
    },
    "colab": {
      "name": "Neural_ODE_PyTorch.ipynb",
      "provenance": [],
      "collapsed_sections": [
        "jXXxN0Xqe_3h",
        "0Vzifx3we_3j",
        "fJ2NP2eve_3j",
        "864RUqN5e_3l",
        "06eMqLmfe_3l",
        "NCNdwiH8e_3l",
        "N_Ec1VG4e_3l",
        "Va93mkVae_3m",
        "7BDL6DsXe_3m",
        "Ol6nTpj5e_3n"
      ],
      "include_colab_link": true
    }
  },
  "cells": [
    {
      "cell_type": "markdown",
      "metadata": {
        "id": "view-in-github",
        "colab_type": "text"
      },
      "source": [
        "<a href=\"https://colab.research.google.com/github/sznajder/Notebooks/blob/master/Neural_ODE_PyTorch.ipynb\" target=\"_parent\"><img src=\"https://colab.research.google.com/assets/colab-badge.svg\" alt=\"Open In Colab\"/></a>"
      ]
    },
    {
      "cell_type": "markdown",
      "metadata": {
        "id": "Pm5Vzedme_3V"
      },
      "source": [
        "# Neural Ordinary Differential Equations"
      ]
    },
    {
      "cell_type": "markdown",
      "metadata": {
        "id": "4hL4_EpBe_3Z"
      },
      "source": [
        "A significant portion of processes can be described by differential equations: let it be evolution of physical systems, medical conditions of a patient, fundamental properties of markets, etc. Such data is sequential and continuous in its nature, meaning that observations are merely realizations of some continuously changing state.\n",
        "\n",
        "There is also another type of sequential data that is discrete – NLP data, for example: its state changes discretely, from one symbol to another, from one word to another.\n",
        "\n",
        "Today both these types are normally processed using recurrent neural networks. They are, however, essentially different in their nature, and it seems that they should be treated differently.\n",
        "\n",
        "At the last NIPS conference a very interesting [paper](https://arxiv.org/abs/1806.07366) was presented that attempts to tackle this problem. Authors propose a very promising approach, which they call **Neural Ordinary Differential Equations**.\n",
        "\n",
        "Here I tried to reproduce and summarize the results of original paper, making it a little easier to familiarize yourself with the idea. As I believe, this new architecture may soon be, among convolutional and recurrent networks, in a toolbox of any data scientist."
      ]
    },
    {
      "cell_type": "markdown",
      "metadata": {
        "id": "cGHbg6jne_3a"
      },
      "source": [
        "Imagine a problem: there is a process following an unknown ODE and some (noisy) observations along its trajectory\n",
        "\n",
        "$$\n",
        "\\frac{dz}{dt} = f(z(t), t) \\tag{1}\n",
        "$$\n",
        "$$\n",
        "\\{(z_0, t_0),(z_1, t_1),...,(z_M, t_M)\\} - \\text{observations}\n",
        "$$\n",
        "\n",
        "Is it possible to find an approximation $\\widehat{f}(z, t, \\theta)$ of dynamics function $f(z, t)$?\n"
      ]
    },
    {
      "cell_type": "markdown",
      "metadata": {
        "id": "kEJGHYIwe_3a"
      },
      "source": [
        "First, consider a somewhat simpler task: there are only 2 observations, at the beginning and at the end of the trajectory, $(z_0, t_0), (z_1, t_1)$. One starts the evolution of the system from $z_0, t_0$ for time $t_1 - t_0$ with some parameterized dynamics function using any ODE initial value solver. After that, one ends up being at some new state $\\hat{z_1}, t_1$, compares it with the observation $z_1$, and tries to minimize the difference by varying the parameters $\\theta$.\n",
        "\n",
        "Or, more formally, consider optimizing the following loss function $L(\\hat{z_1})$:"
      ]
    },
    {
      "cell_type": "markdown",
      "metadata": {
        "id": "DZA2I9fYe_3a"
      },
      "source": [
        "$$\n",
        "L(z(t_1)) = L \\Big( \\int_{t_0}^{t_1} f(z(t), t, \\theta)dt \\Big) = L \\big( \\text{ODESolve}(z(t_0), f, t_0, t_1, \\theta) \\big) \\tag{2}\n",
        "$$"
      ]
    },
    {
      "cell_type": "markdown",
      "metadata": {
        "id": "7mrWNqbPe_3a"
      },
      "source": [
        "<img src=https://github.com/msurtsukov/neural-ode/blob/master/assets/backprop.png?raw=1 width=600></img>"
      ]
    },
    {
      "cell_type": "markdown",
      "metadata": {
        "id": "8UvxBhcVe_3b"
      },
      "source": [
        "<p style=\"text-align: center\">Figure 1: Continuous backpropagation of the gradient requires solving the augmented ODE backwards in time. <br /> Arrows represent adjusting backpropagated gradients with gradients from observations. <br />\n",
        "Figure from the original paper</p>"
      ]
    },
    {
      "cell_type": "markdown",
      "metadata": {
        "id": "DIk8OsjFe_3b"
      },
      "source": [
        "In case you don't want to dig into the maths, the above figure representes what is going on. Black trajectory represents solving the ODE during forward propagation. Red arrows represent solving the adjoint ODE during backpropagation."
      ]
    },
    {
      "cell_type": "markdown",
      "metadata": {
        "id": "e2d7OnBre_3b"
      },
      "source": [
        "To optimize $L$ one needs to compute the gradients wrt. its parameters: $z(t_0), t_0, t_1, \\theta$. To do this let us first determine how loss depends on the state at every moment of time $(z(t))$:\n",
        "$$\n",
        "a(t) = -\\frac{\\partial L}{\\partial z(t)} \\tag{3}\n",
        "$$\n",
        "$a(t)$ is called *adjoint*, its dynamics is given by another ODE, which can be thought of as an instantaneous analog of the chain rule"
      ]
    },
    {
      "cell_type": "markdown",
      "metadata": {
        "id": "9xZQYRE2e_3b"
      },
      "source": [
        "$$\n",
        "\\frac{d a(t)}{d t} = -a(t) \\frac{\\partial f(z(t), t, \\theta)}{\\partial z} \\tag{4}\n",
        "$$\n",
        "Actual derivation of this particular formula can be found in the appendix of the original paper."
      ]
    },
    {
      "cell_type": "markdown",
      "metadata": {
        "id": "jhBkNyGpe_3b"
      },
      "source": [
        "All vectors here are considered row vectors, whereas the original paper uses both column and row representations."
      ]
    },
    {
      "cell_type": "markdown",
      "metadata": {
        "id": "Yi3748kWe_3c"
      },
      "source": [
        "One can then compute \n",
        "$$\n",
        "\\frac{\\partial L}{\\partial z(t_0)} = \\int_{t_1}^{t_0} a(t) \\frac{\\partial f(z(t), t, \\theta)}{\\partial z} dt \\tag{5}\n",
        "$$"
      ]
    },
    {
      "cell_type": "markdown",
      "metadata": {
        "id": "MZike372e_3c"
      },
      "source": [
        "To compute the gradients wrt. to $t$ and $\\theta$ one can think of them as if they were part of the augmented state"
      ]
    },
    {
      "cell_type": "markdown",
      "metadata": {
        "id": "48gREb0Je_3c"
      },
      "source": [
        "$$\n",
        "\\frac{d}{dt} \\begin{bmatrix} z \\\\ \\theta \\\\ t \\end{bmatrix} (t) = f_{\\text{aug}}([z, \\theta, t]) := \\begin{bmatrix} f([z, \\theta, t ]) \\\\ 0 \\\\ 1 \\end{bmatrix} \\tag{6}\n",
        "$$"
      ]
    },
    {
      "cell_type": "markdown",
      "metadata": {
        "id": "Sfrrarboe_3c"
      },
      "source": [
        "Adjoint state to this augmented state is then\n",
        "$$\n",
        "a_{\\text{aug}} := \\begin{bmatrix} a \\\\ a_{\\theta} \\\\ a_t \\end{bmatrix}, a_{\\theta}(t) := \\frac{\\partial L}{\\partial \\theta(t)}, a_t(t) := \\frac{\\partial L}{\\partial t(t)} \\tag{7}\n",
        "$$"
      ]
    },
    {
      "cell_type": "markdown",
      "metadata": {
        "id": "txAovWUqe_3c"
      },
      "source": [
        "Gradient of the augmented dynamics\n",
        "\n",
        "$$\n",
        "\\frac{\\partial f_{\\text{aug}}}{\\partial [z, \\theta, t]} = \\begin{bmatrix} \n",
        "\\frac{\\partial f}{\\partial z} & \\frac{\\partial f}{\\partial \\theta} & \\frac{\\partial f}{\\partial t} \\\\\n",
        "0 & 0 & 0 \\\\\n",
        "0 & 0 & 0\n",
        "\\end{bmatrix} \\tag{8}\n",
        "$$"
      ]
    },
    {
      "cell_type": "markdown",
      "metadata": {
        "id": "V9K6eKrie_3c"
      },
      "source": [
        "Adjoint state ODE from formula (4) is then \n",
        "$$\n",
        "\\frac{d a_{\\text{aug}}}{dt} = - \\begin{bmatrix} a\\frac{\\partial f}{\\partial z} & a\\frac{\\partial f}{\\partial \\theta} & a\\frac{\\partial f}{\\partial t}\\end{bmatrix} \\tag{9}\n",
        "$$"
      ]
    },
    {
      "cell_type": "markdown",
      "metadata": {
        "id": "NZpBUI3me_3c"
      },
      "source": [
        "By solving this adjoint augmented ODE initial value problem one gets\n",
        "$$\n",
        "\\frac{\\partial L}{\\partial z(t_0)} = \\int_{t_1}^{t_0} a(t) \\frac{\\partial f(z(t), t, \\theta)}{\\partial z} dt \\tag{10}\n",
        "$$\n",
        "\n",
        "$$\n",
        "\\frac{\\partial L}{\\partial \\theta} = \\int_{t_1}^{t_0} a(t) \\frac{\\partial f(z(t), t, \\theta)}{\\partial \\theta} dt \\tag{11}\n",
        "$$\n",
        "\n",
        "$$\n",
        "\\frac{\\partial L}{\\partial t_0} = \\int_{t_1}^{t_0} a(t) \\frac{\\partial f(z(t), t, \\theta)}{\\partial t} dt \\tag{12}\n",
        "$$"
      ]
    },
    {
      "cell_type": "markdown",
      "metadata": {
        "id": "9MqPlYAQe_3d"
      },
      "source": [
        "which, together with,\n",
        "$$\n",
        "\\frac{\\partial L}{\\partial t_1} = - a(t) \\frac{\\partial f(z(t), t, \\theta)}{\\partial t} \\tag{13}\n",
        "$$\n",
        "complements gradients wrt. all the ODESolve parameters."
      ]
    },
    {
      "cell_type": "markdown",
      "metadata": {
        "id": "aDZEfkE0e_3d"
      },
      "source": [
        "The gradients (10), (11), (12), (13) can be calculated altogether during a single call of the ODESolve with augmented state dynamics (9)."
      ]
    },
    {
      "cell_type": "markdown",
      "metadata": {
        "id": "43ZmZZYse_3d"
      },
      "source": [
        "<img src=https://github.com/msurtsukov/neural-ode/blob/master/assets/pseudocode.png?raw=1 width=800></img>\n",
        "<div align=\"center\">Figure from the original paper</div>"
      ]
    },
    {
      "cell_type": "markdown",
      "metadata": {
        "id": "hY4EClN7e_3d"
      },
      "source": [
        "The algorithm above describes backpropagation of gradients for the ODE initial value problem with subsequent observations. This algorithm lies in the heart of Neural ODEs."
      ]
    },
    {
      "cell_type": "markdown",
      "metadata": {
        "id": "p8BhhDc_e_3d"
      },
      "source": [
        "In case there are many observations along the trajectory, one computes the adjoint augmented ODE dynamics for subsequent observations, adjusting the backpropagated gradients with direct gradients at observation times, as shown above on *figure 1*."
      ]
    },
    {
      "cell_type": "markdown",
      "metadata": {
        "id": "hUNyVAGse_3e"
      },
      "source": [
        "# Implementation "
      ]
    },
    {
      "cell_type": "markdown",
      "metadata": {
        "id": "pwKTWrt_e_3e"
      },
      "source": [
        "The code below is my own implementation of the **Neural ODE**. I did it solely for better understanding of what's going on. However it is very close to what is actually implemented in authors' [repository](https://github.com/rtqichen/torchdiffeq). This notebook collects all the code that's necessary for understanding in one place and is slightly more commented. For actual usage and experiments I suggest using authors'  original implementation.\n",
        "\n",
        "Below is the code if you are interested."
      ]
    },
    {
      "cell_type": "code",
      "metadata": {
        "id": "CtCMG0S0e_3e"
      },
      "source": [
        "import math\n",
        "import numpy as np\n",
        "from IPython.display import clear_output\n",
        "from tqdm import tqdm_notebook as tqdm\n",
        "\n",
        "import matplotlib as mpl\n",
        "import matplotlib.pyplot as plt\n",
        "%matplotlib inline\n",
        "import seaborn as sns\n",
        "sns.color_palette(\"bright\")\n",
        "import matplotlib as mpl\n",
        "import matplotlib.cm as cm\n",
        "\n",
        "import torch\n",
        "from torch import Tensor\n",
        "from torch import nn\n",
        "from torch.nn  import functional as F \n",
        "from torch.autograd import Variable\n",
        "\n",
        "use_cuda = torch.cuda.is_available()"
      ],
      "execution_count": null,
      "outputs": []
    },
    {
      "cell_type": "markdown",
      "metadata": {
        "id": "gH8iXvoae_3e"
      },
      "source": [
        "Implement any ordinary differential equation initial value solver. For the sake of simplicity it'll be Euler's ODE initial value solver, however any explicit or implicit method will do."
      ]
    },
    {
      "cell_type": "code",
      "metadata": {
        "id": "_a_7fZpLe_3f"
      },
      "source": [
        "def ode_solve(z0, t0, t1, f):\n",
        "    \"\"\"\n",
        "    Simplest Euler ODE initial value solver\n",
        "    \"\"\"\n",
        "    h_max = 0.05\n",
        "    n_steps = math.ceil((abs(t1 - t0)/h_max).max().item())\n",
        "\n",
        "    h = (t1 - t0)/n_steps\n",
        "    t = t0\n",
        "    z = z0\n",
        "\n",
        "    for i_step in range(n_steps):\n",
        "        z = z + h * f(z, t)\n",
        "        t = t + h\n",
        "    return z"
      ],
      "execution_count": null,
      "outputs": []
    },
    {
      "cell_type": "markdown",
      "metadata": {
        "id": "a7QYr5Z_e_3f"
      },
      "source": [
        "We also implement a superclass of parameterized dynamics function in the form of neural network with a couple useful methods.\n",
        "\n",
        "First, one needs to be able to flatten all the parameters that the function depends on.\n",
        "\n",
        "Second, one needs to implement a method that computes the augmented dynamics. This augmented dynamics depends on the gradient of the function wrt. its inputs and parameters.  In order to not have to specify them by hand for every new architecture, we will use **torch.autograd.grad** method."
      ]
    },
    {
      "cell_type": "code",
      "metadata": {
        "id": "ac6ssRATe_3f"
      },
      "source": [
        "class ODEF(nn.Module):\n",
        "    def forward_with_grad(self, z, t, grad_outputs):\n",
        "        \"\"\"Compute f and a df/dz, a df/dp, a df/dt\"\"\"\n",
        "        batch_size = z.shape[0]\n",
        "\n",
        "        out = self.forward(z, t)\n",
        "\n",
        "        a = grad_outputs\n",
        "        adfdz, adfdt, *adfdp = torch.autograd.grad(\n",
        "            (out,), (z, t) + tuple(self.parameters()), grad_outputs=(a),\n",
        "            allow_unused=True, retain_graph=True\n",
        "        )\n",
        "        # grad method automatically sums gradients for batch items, we have to expand them back \n",
        "        if adfdp is not None:\n",
        "            adfdp = torch.cat([p_grad.flatten() for p_grad in adfdp]).unsqueeze(0)\n",
        "            adfdp = adfdp.expand(batch_size, -1) / batch_size\n",
        "        if adfdt is not None:\n",
        "            adfdt = adfdt.expand(batch_size, 1) / batch_size\n",
        "        return out, adfdz, adfdt, adfdp\n",
        "\n",
        "    def flatten_parameters(self):\n",
        "        p_shapes = []\n",
        "        flat_parameters = []\n",
        "        for p in self.parameters():\n",
        "            p_shapes.append(p.size())\n",
        "            flat_parameters.append(p.flatten())\n",
        "        return torch.cat(flat_parameters)"
      ],
      "execution_count": null,
      "outputs": []
    },
    {
      "cell_type": "markdown",
      "metadata": {
        "id": "6fS1N7Awe_3f"
      },
      "source": [
        "The code below incapsulates forward and backward passes of *Neural ODE*. We have to separate it from main ***torch.nn.Module*** because custom backward function can't be implemented inside Module, but can be implemented inside ***torch.autograd.Function***. So this is just a little workaround.\n",
        "\n",
        "This function underlies the whole Neural ODE method."
      ]
    },
    {
      "cell_type": "code",
      "metadata": {
        "id": "aD2QwJmze_3f"
      },
      "source": [
        "class ODEAdjoint(torch.autograd.Function):\n",
        "    @staticmethod\n",
        "    def forward(ctx, z0, t, flat_parameters, func):\n",
        "        assert isinstance(func, ODEF)\n",
        "        bs, *z_shape = z0.size()\n",
        "        time_len = t.size(0)\n",
        "\n",
        "        with torch.no_grad():\n",
        "            z = torch.zeros(time_len, bs, *z_shape).to(z0)\n",
        "            z[0] = z0\n",
        "            for i_t in range(time_len - 1):\n",
        "                z0 = ode_solve(z0, t[i_t], t[i_t+1], func)\n",
        "                z[i_t+1] = z0\n",
        "\n",
        "        ctx.func = func\n",
        "        ctx.save_for_backward(t, z.clone(), flat_parameters)\n",
        "        return z\n",
        "\n",
        "    @staticmethod\n",
        "    def backward(ctx, dLdz):\n",
        "        \"\"\"\n",
        "        dLdz shape: time_len, batch_size, *z_shape\n",
        "        \"\"\"\n",
        "        func = ctx.func\n",
        "        t, z, flat_parameters = ctx.saved_tensors\n",
        "        time_len, bs, *z_shape = z.size()\n",
        "        n_dim = np.prod(z_shape)\n",
        "        n_params = flat_parameters.size(0)\n",
        "\n",
        "        # Dynamics of augmented system to be calculated backwards in time\n",
        "        def augmented_dynamics(aug_z_i, t_i):\n",
        "            \"\"\"\n",
        "            tensors here are temporal slices\n",
        "            t_i - is tensor with size: bs, 1\n",
        "            aug_z_i - is tensor with size: bs, n_dim*2 + n_params + 1\n",
        "            \"\"\"\n",
        "            z_i, a = aug_z_i[:, :n_dim], aug_z_i[:, n_dim:2*n_dim]  # ignore parameters and time\n",
        "\n",
        "            # Unflatten z and a\n",
        "            z_i = z_i.view(bs, *z_shape)\n",
        "            a = a.view(bs, *z_shape)\n",
        "            with torch.set_grad_enabled(True):\n",
        "                t_i = t_i.detach().requires_grad_(True)\n",
        "                z_i = z_i.detach().requires_grad_(True)\n",
        "                func_eval, adfdz, adfdt, adfdp = func.forward_with_grad(z_i, t_i, grad_outputs=a)  # bs, *z_shape\n",
        "                adfdz = adfdz.to(z_i) if adfdz is not None else torch.zeros(bs, *z_shape).to(z_i)\n",
        "                adfdp = adfdp.to(z_i) if adfdp is not None else torch.zeros(bs, n_params).to(z_i)\n",
        "                adfdt = adfdt.to(z_i) if adfdt is not None else torch.zeros(bs, 1).to(z_i)\n",
        "\n",
        "            # Flatten f and adfdz\n",
        "            func_eval = func_eval.view(bs, n_dim)\n",
        "            adfdz = adfdz.view(bs, n_dim) \n",
        "            return torch.cat((func_eval, -adfdz, -adfdp, -adfdt), dim=1)\n",
        "\n",
        "        dLdz = dLdz.view(time_len, bs, n_dim)  # flatten dLdz for convenience\n",
        "        with torch.no_grad():\n",
        "            ## Create placeholders for output gradients\n",
        "            # Prev computed backwards adjoints to be adjusted by direct gradients\n",
        "            adj_z = torch.zeros(bs, n_dim).to(dLdz)\n",
        "            adj_p = torch.zeros(bs, n_params).to(dLdz)\n",
        "            # In contrast to z and p we need to return gradients for all times\n",
        "            adj_t = torch.zeros(time_len, bs, 1).to(dLdz)\n",
        "\n",
        "            for i_t in range(time_len-1, 0, -1):\n",
        "                z_i = z[i_t]\n",
        "                t_i = t[i_t]\n",
        "                f_i = func(z_i, t_i).view(bs, n_dim)\n",
        "\n",
        "                # Compute direct gradients\n",
        "                dLdz_i = dLdz[i_t]\n",
        "                dLdt_i = torch.bmm(torch.transpose(dLdz_i.unsqueeze(-1), 1, 2), f_i.unsqueeze(-1))[:, 0]\n",
        "\n",
        "                # Adjusting adjoints with direct gradients\n",
        "                adj_z += dLdz_i\n",
        "                adj_t[i_t] = adj_t[i_t] - dLdt_i\n",
        "\n",
        "                # Pack augmented variable\n",
        "                aug_z = torch.cat((z_i.view(bs, n_dim), adj_z, torch.zeros(bs, n_params).to(z), adj_t[i_t]), dim=-1)\n",
        "\n",
        "                # Solve augmented system backwards\n",
        "                aug_ans = ode_solve(aug_z, t_i, t[i_t-1], augmented_dynamics)\n",
        "\n",
        "                # Unpack solved backwards augmented system\n",
        "                adj_z[:] = aug_ans[:, n_dim:2*n_dim]\n",
        "                adj_p[:] += aug_ans[:, 2*n_dim:2*n_dim + n_params]\n",
        "                adj_t[i_t-1] = aug_ans[:, 2*n_dim + n_params:]\n",
        "\n",
        "                del aug_z, aug_ans\n",
        "\n",
        "            ## Adjust 0 time adjoint with direct gradients\n",
        "            # Compute direct gradients \n",
        "            dLdz_0 = dLdz[0]\n",
        "            dLdt_0 = torch.bmm(torch.transpose(dLdz_0.unsqueeze(-1), 1, 2), f_i.unsqueeze(-1))[:, 0]\n",
        "\n",
        "            # Adjust adjoints\n",
        "            adj_z += dLdz_0\n",
        "            adj_t[0] = adj_t[0] - dLdt_0\n",
        "        return adj_z.view(bs, *z_shape), adj_t, adj_p, None"
      ],
      "execution_count": null,
      "outputs": []
    },
    {
      "cell_type": "markdown",
      "metadata": {
        "id": "wtYte15le_3g"
      },
      "source": [
        "Wrap ode adjoint function in **nn.Module** for convenience."
      ]
    },
    {
      "cell_type": "code",
      "metadata": {
        "id": "uo9Lqzrqe_3g"
      },
      "source": [
        "class NeuralODE(nn.Module):\n",
        "    def __init__(self, func):\n",
        "        super(NeuralODE, self).__init__()\n",
        "        assert isinstance(func, ODEF)\n",
        "        self.func = func\n",
        "\n",
        "    def forward(self, z0, t=Tensor([0., 1.]), return_whole_sequence=False):\n",
        "        t = t.to(z0)\n",
        "        z = ODEAdjoint.apply(z0, t, self.func.flatten_parameters(), self.func)\n",
        "        if return_whole_sequence:\n",
        "            return z\n",
        "        else:\n",
        "            return z[-1]"
      ],
      "execution_count": null,
      "outputs": []
    },
    {
      "cell_type": "markdown",
      "metadata": {
        "id": "-S7YH4bUe_3g"
      },
      "source": [
        "# Application"
      ]
    },
    {
      "cell_type": "markdown",
      "metadata": {
        "id": "jXXxN0Xqe_3h"
      },
      "source": [
        "## _Learning true dynamics function (proof of concept)_"
      ]
    },
    {
      "cell_type": "markdown",
      "metadata": {
        "id": "AeTKAuXfe_3h"
      },
      "source": [
        "As a proof-of-concept we will now test if Neural ODE can indeed restore true dynamics function using sampled data.\n",
        "\n",
        "To test this we will specify an ODE, evolve it and sample points on its trajectory, and then restore it."
      ]
    },
    {
      "cell_type": "markdown",
      "metadata": {
        "id": "XAgxtEJ6e_3h"
      },
      "source": [
        "First, we'll test a simple linear ODE. Dynamics is given with a matrix."
      ]
    },
    {
      "cell_type": "markdown",
      "metadata": {
        "id": "o7CTipmoe_3h"
      },
      "source": [
        "$$\n",
        "\\frac{dz}{dt} = \\begin{bmatrix}-0.1 & -1.0\\\\1.0 & -0.1\\end{bmatrix} z\n",
        "$$"
      ]
    },
    {
      "cell_type": "markdown",
      "metadata": {
        "id": "5GbqCdqse_3h"
      },
      "source": [
        "Trained function here is also a simple matrix."
      ]
    },
    {
      "cell_type": "markdown",
      "metadata": {
        "id": "gmQ666bMe_3h"
      },
      "source": [
        "The trained function here is also a simple matrix."
      ]
    },
    {
      "cell_type": "markdown",
      "metadata": {
        "id": "zVX6vYtKe_3h"
      },
      "source": [
        "![leaning gif](https://github.com/msurtsukov/neural-ode/blob/master/assets/linear_learning.gif?raw=1)"
      ]
    },
    {
      "cell_type": "markdown",
      "metadata": {
        "id": "_DPUElICe_3h"
      },
      "source": [
        "Next, slighty more sophisticated dynamics (no gif as its learning process is not so satisfying :)).  \n",
        "Trained function here is MLP with one hidden layer.\n",
        "![complicated result](https://github.com/msurtsukov/neural-ode/blob/master/assets/comp_result.png?raw=1)"
      ]
    },
    {
      "cell_type": "code",
      "metadata": {
        "id": "Q-hbdAZ7e_3h"
      },
      "source": [
        "class LinearODEF(ODEF):\n",
        "    def __init__(self, W):\n",
        "        super(LinearODEF, self).__init__()\n",
        "        self.lin = nn.Linear(2, 2, bias=False)\n",
        "        self.lin.weight = nn.Parameter(W)\n",
        "\n",
        "    def forward(self, x, t):\n",
        "        return self.lin(x)"
      ],
      "execution_count": null,
      "outputs": []
    },
    {
      "cell_type": "markdown",
      "metadata": {
        "id": "gGyBm_T8e_3h"
      },
      "source": [
        "Dynamics is simply given with a matrix."
      ]
    },
    {
      "cell_type": "code",
      "metadata": {
        "id": "Yjwxo6lYe_3i"
      },
      "source": [
        "class SpiralFunctionExample(LinearODEF):\n",
        "    def __init__(self):\n",
        "        super(SpiralFunctionExample, self).__init__(Tensor([[-0.1, -1.], [1., -0.1]]))"
      ],
      "execution_count": null,
      "outputs": []
    },
    {
      "cell_type": "markdown",
      "metadata": {
        "id": "QStWIUTbe_3i"
      },
      "source": [
        "Initial random linear dynamics function to be optimized"
      ]
    },
    {
      "cell_type": "code",
      "metadata": {
        "id": "sHPzHdp2e_3i"
      },
      "source": [
        "class RandomLinearODEF(LinearODEF):\n",
        "    def __init__(self):\n",
        "        super(RandomLinearODEF, self).__init__(torch.randn(2, 2)/2.)"
      ],
      "execution_count": null,
      "outputs": []
    },
    {
      "cell_type": "markdown",
      "metadata": {
        "id": "FMWP1Kaqe_3i"
      },
      "source": [
        "More sophisticated dynamics for creating trajectories"
      ]
    },
    {
      "cell_type": "code",
      "metadata": {
        "id": "d_57YZBKe_3i"
      },
      "source": [
        "class TestODEF(ODEF):\n",
        "    def __init__(self, A, B, x0):\n",
        "        super(TestODEF, self).__init__()\n",
        "        self.A = nn.Linear(2, 2, bias=False)\n",
        "        self.A.weight = nn.Parameter(A)\n",
        "        self.B = nn.Linear(2, 2, bias=False)\n",
        "        self.B.weight = nn.Parameter(B)\n",
        "        self.x0 = nn.Parameter(x0)\n",
        "\n",
        "    def forward(self, x, t):\n",
        "        xTx0 = torch.sum(x*self.x0, dim=1)\n",
        "        dxdt = torch.sigmoid(xTx0) * self.A(x - self.x0) + torch.sigmoid(-xTx0) * self.B(x + self.x0)\n",
        "        return dxdt"
      ],
      "execution_count": null,
      "outputs": []
    },
    {
      "cell_type": "markdown",
      "metadata": {
        "id": "ikJh1RG9e_3i"
      },
      "source": [
        "Dynamics function to be optimized is MLP"
      ]
    },
    {
      "cell_type": "code",
      "metadata": {
        "id": "9nPzrJxOe_3i"
      },
      "source": [
        "class NNODEF(ODEF):\n",
        "    def __init__(self, in_dim, hid_dim, time_invariant=False):\n",
        "        super(NNODEF, self).__init__()\n",
        "        self.time_invariant = time_invariant\n",
        "\n",
        "        if time_invariant:\n",
        "            self.lin1 = nn.Linear(in_dim, hid_dim)\n",
        "        else:\n",
        "            self.lin1 = nn.Linear(in_dim+1, hid_dim)\n",
        "        self.lin2 = nn.Linear(hid_dim, hid_dim)\n",
        "        self.lin3 = nn.Linear(hid_dim, in_dim)\n",
        "        self.elu = nn.ELU(inplace=True)\n",
        "\n",
        "    def forward(self, x, t):\n",
        "        if not self.time_invariant:\n",
        "            x = torch.cat((x, t), dim=-1)\n",
        "\n",
        "        h = self.elu(self.lin1(x))\n",
        "        h = self.elu(self.lin2(h))\n",
        "        out = self.lin3(h)\n",
        "        return out"
      ],
      "execution_count": null,
      "outputs": []
    },
    {
      "cell_type": "code",
      "metadata": {
        "id": "1zaRzoAie_3i"
      },
      "source": [
        "def to_np(x):\n",
        "    return x.detach().cpu().numpy()"
      ],
      "execution_count": null,
      "outputs": []
    },
    {
      "cell_type": "code",
      "metadata": {
        "id": "5KyvVM99e_3i"
      },
      "source": [
        "def plot_trajectories(obs=None, times=None, trajs=None, save=None, figsize=(16, 8)):\n",
        "    plt.figure(figsize=figsize)\n",
        "    if obs is not None:\n",
        "        if times is None:\n",
        "            times = [None] * len(obs)\n",
        "        for o, t in zip(obs, times):\n",
        "            o, t = to_np(o), to_np(t)\n",
        "            for b_i in range(o.shape[1]):\n",
        "                plt.scatter(o[:, b_i, 0], o[:, b_i, 1], c=t[:, b_i, 0], cmap=cm.plasma)\n",
        "\n",
        "    if trajs is not None: \n",
        "        for z in trajs:\n",
        "            z = to_np(z)\n",
        "            plt.plot(z[:, 0, 0], z[:, 0, 1], lw=1.5)\n",
        "        if save is not None:\n",
        "            plt.savefig(save)\n",
        "    plt.show()"
      ],
      "execution_count": null,
      "outputs": []
    },
    {
      "cell_type": "code",
      "metadata": {
        "id": "mjIbl_0Ue_3i"
      },
      "source": [
        "def conduct_experiment(ode_true, ode_trained, n_steps, name, plot_freq=10):\n",
        "    # Create data\n",
        "    z0 = Variable(torch.Tensor([[0.6, 0.3]]))\n",
        "\n",
        "    t_max = 6.29*5\n",
        "    n_points = 200\n",
        "\n",
        "    index_np = np.arange(0, n_points, 1, dtype=np.int)\n",
        "    index_np = np.hstack([index_np[:, None]])\n",
        "    times_np = np.linspace(0, t_max, num=n_points)\n",
        "    times_np = np.hstack([times_np[:, None]])\n",
        "\n",
        "    times = torch.from_numpy(times_np[:, :, None]).to(z0)\n",
        "    obs = ode_true(z0, times, return_whole_sequence=True).detach()\n",
        "    obs = obs + torch.randn_like(obs) * 0.01\n",
        "\n",
        "    # Get trajectory of random timespan \n",
        "    min_delta_time = 1.0\n",
        "    max_delta_time = 5.0\n",
        "    max_points_num = 32\n",
        "    def create_batch():\n",
        "        t0 = np.random.uniform(0, t_max - max_delta_time)\n",
        "        t1 = t0 + np.random.uniform(min_delta_time, max_delta_time)\n",
        "\n",
        "        idx = sorted(np.random.permutation(index_np[(times_np > t0) & (times_np < t1)])[:max_points_num])\n",
        "\n",
        "        obs_ = obs[idx]\n",
        "        ts_ = times[idx]\n",
        "        return obs_, ts_\n",
        "\n",
        "    # Train Neural ODE\n",
        "    optimizer = torch.optim.Adam(ode_trained.parameters(), lr=0.01)\n",
        "    for i in range(n_steps):\n",
        "        obs_, ts_ = create_batch()\n",
        "\n",
        "        z_ = ode_trained(obs_[0], ts_, return_whole_sequence=True)\n",
        "        loss = F.mse_loss(z_, obs_.detach())\n",
        "\n",
        "        optimizer.zero_grad()\n",
        "        loss.backward(retain_graph=True)\n",
        "        optimizer.step()\n",
        "\n",
        "        if i % plot_freq == 0:\n",
        "            z_p = ode_trained(z0, times, return_whole_sequence=True)\n",
        "\n",
        "            plot_trajectories(obs=[obs], times=[times], trajs=[z_p], save=f\"assets/imgs/{name}/{i}.png\")\n",
        "            clear_output(wait=True)"
      ],
      "execution_count": null,
      "outputs": []
    },
    {
      "cell_type": "code",
      "metadata": {
        "id": "uV5HlDeUe_3j"
      },
      "source": [
        "ode_true = NeuralODE(SpiralFunctionExample())\n",
        "ode_trained = NeuralODE(RandomLinearODEF())"
      ],
      "execution_count": null,
      "outputs": []
    },
    {
      "cell_type": "code",
      "metadata": {
        "id": "MZOLlWEZe_3j"
      },
      "source": [
        "conduct_experiment(ode_true, ode_trained, 500, \"linear\")"
      ],
      "execution_count": null,
      "outputs": []
    },
    {
      "cell_type": "code",
      "metadata": {
        "id": "eLiIxArOe_3j"
      },
      "source": [
        "func = TestODEF(Tensor([[-0.1, -0.5], [0.5, -0.1]]), Tensor([[0.2, 1.], [-1, 0.2]]), Tensor([[-1., 0.]]))\n",
        "ode_true = NeuralODE(func)\n",
        "\n",
        "func = NNODEF(2, 16, time_invariant=True)\n",
        "ode_trained = NeuralODE(func)"
      ],
      "execution_count": null,
      "outputs": []
    },
    {
      "cell_type": "code",
      "metadata": {
        "id": "vTDozYK1e_3j"
      },
      "source": [
        "conduct_experiment(ode_true, ode_trained, 3000, \"comp\", plot_freq=30)"
      ],
      "execution_count": null,
      "outputs": []
    },
    {
      "cell_type": "markdown",
      "metadata": {
        "id": "GEgh9YFue_3j"
      },
      "source": [
        "As one can see, Neural ODEs are pretty successful in approximating dynamics. Now let's check if they can be used in a slightly more complicated (MNIST, ha-ha) task."
      ]
    },
    {
      "cell_type": "markdown",
      "metadata": {
        "id": "0Vzifx3we_3j"
      },
      "source": [
        "## Neural ODE inspired by ResNets "
      ]
    },
    {
      "cell_type": "markdown",
      "metadata": {
        "id": "3krn0oTbe_3j"
      },
      "source": [
        "In residual networks hidden state changes according to the formula\n",
        "$$\n",
        "h_{t+1} = h_{t} + f(h_{t}, \\theta_{t})\n",
        "$$\n",
        "\n",
        "where $t \\in \\{0...T\\}$ is residual block number and $f$ is a function learned by layers inside the block.\n",
        "\n",
        "If one takes a limit of an infinite number of residual blocks with smaller steps one gets continuous dynamics of hidden units to be an ordinary differential equation just as we had above.\n",
        "\n",
        "$$\n",
        "\\frac{dh(t)}{dt} = f(h(t), t, \\theta)\n",
        "$$\n",
        "\n",
        "Starting from the input layer $h(0)$, one can deﬁne the output layer $h(T)$ to be the solution to this ODE initial value problem at some time T.\n",
        "\n",
        "Now one can treat $\\theta$ as parameters shared among all infinitesimally small residual blocks."
      ]
    },
    {
      "cell_type": "markdown",
      "metadata": {
        "id": "fJ2NP2eve_3j"
      },
      "source": [
        "### Testing Neural ODE architecture on MNIST\n",
        "\n",
        "In this section we test the ability of Neural ODE's to be used as a component in more conventional architectures. \n",
        "In particular, we will use Neural ODE in place of residual blocks in MNIST classifier.\n",
        "\n",
        "<img src=\"https://github.com/msurtsukov/neural-ode/blob/master/assets/mnist_example.png?raw=1\" width=400></img>"
      ]
    },
    {
      "cell_type": "code",
      "metadata": {
        "id": "4IUEwcn1e_3j"
      },
      "source": [
        "def norm(dim):\n",
        "    return nn.BatchNorm2d(dim)\n",
        "\n",
        "def conv3x3(in_feats, out_feats, stride=1):\n",
        "    return nn.Conv2d(in_feats, out_feats, kernel_size=3, stride=stride, padding=1, bias=False)\n",
        "\n",
        "def add_time(in_tensor, t):\n",
        "    bs, c, w, h = in_tensor.shape\n",
        "    return torch.cat((in_tensor, t.expand(bs, 1, w, h)), dim=1)"
      ],
      "execution_count": null,
      "outputs": []
    },
    {
      "cell_type": "code",
      "metadata": {
        "id": "clyVXNE-e_3j"
      },
      "source": [
        "class ConvODEF(ODEF):\n",
        "    def __init__(self, dim):\n",
        "        super(ConvODEF, self).__init__()\n",
        "        self.conv1 = conv3x3(dim + 1, dim)\n",
        "        self.norm1 = norm(dim)\n",
        "        self.conv2 = conv3x3(dim + 1, dim)\n",
        "        self.norm2 = norm(dim)\n",
        "\n",
        "    def forward(self, x, t):\n",
        "        xt = add_time(x, t)\n",
        "        h = self.norm1(torch.relu(self.conv1(xt)))\n",
        "        ht = add_time(h, t)\n",
        "        dxdt = self.norm2(torch.relu(self.conv2(ht)))\n",
        "        return dxdt"
      ],
      "execution_count": null,
      "outputs": []
    },
    {
      "cell_type": "code",
      "metadata": {
        "id": "GrkSDETDe_3k"
      },
      "source": [
        "class ContinuousNeuralMNISTClassifier(nn.Module):\n",
        "    def __init__(self, ode):\n",
        "        super(ContinuousNeuralMNISTClassifier, self).__init__()\n",
        "        self.downsampling = nn.Sequential(\n",
        "            nn.Conv2d(1, 64, 3, 1),\n",
        "            norm(64),\n",
        "            nn.ReLU(inplace=True),\n",
        "            nn.Conv2d(64, 64, 4, 2, 1),\n",
        "            norm(64),\n",
        "            nn.ReLU(inplace=True),\n",
        "            nn.Conv2d(64, 64, 4, 2, 1),\n",
        "        )\n",
        "        self.feature = ode\n",
        "        self.norm = norm(64)\n",
        "        self.avg_pool = nn.AdaptiveAvgPool2d((1, 1))\n",
        "        self.fc = nn.Linear(64, 10)\n",
        "\n",
        "    def forward(self, x):\n",
        "        x = self.downsampling(x)\n",
        "        x = self.feature(x)\n",
        "        x = self.norm(x)\n",
        "        x = self.avg_pool(x)\n",
        "        shape = torch.prod(torch.tensor(x.shape[1:])).item()\n",
        "        x = x.view(-1, shape)\n",
        "        out = self.fc(x)\n",
        "        return out"
      ],
      "execution_count": null,
      "outputs": []
    },
    {
      "cell_type": "code",
      "metadata": {
        "id": "LDttrTzze_3k"
      },
      "source": [
        "func = ConvODEF(64)\n",
        "ode = NeuralODE(func)\n",
        "model = ContinuousNeuralMNISTClassifier(ode)\n",
        "if use_cuda:\n",
        "    model = model.cuda()"
      ],
      "execution_count": null,
      "outputs": []
    },
    {
      "cell_type": "code",
      "metadata": {
        "id": "WZ524MGDe_3k"
      },
      "source": [
        "import torchvision\n",
        "\n",
        "img_std = 0.3081\n",
        "img_mean = 0.1307\n",
        "\n",
        "\n",
        "batch_size = 32\n",
        "train_loader = torch.utils.data.DataLoader(\n",
        "    torchvision.datasets.MNIST(\"data/mnist\", train=True, download=True,\n",
        "                             transform=torchvision.transforms.Compose([\n",
        "                                 torchvision.transforms.ToTensor(),\n",
        "                                 torchvision.transforms.Normalize((img_mean,), (img_std,))\n",
        "                             ])\n",
        "    ),\n",
        "    batch_size=batch_size, shuffle=True\n",
        ")\n",
        "\n",
        "test_loader = torch.utils.data.DataLoader(\n",
        "    torchvision.datasets.MNIST(\"data/mnist\", train=False, download=True,\n",
        "                             transform=torchvision.transforms.Compose([\n",
        "                                 torchvision.transforms.ToTensor(),\n",
        "                                 torchvision.transforms.Normalize((img_mean,), (img_std,))\n",
        "                             ])\n",
        "    ),\n",
        "    batch_size=128, shuffle=True\n",
        ")"
      ],
      "execution_count": null,
      "outputs": []
    },
    {
      "cell_type": "code",
      "metadata": {
        "id": "RVa5ACM8e_3k"
      },
      "source": [
        "optimizer = torch.optim.Adam(model.parameters())"
      ],
      "execution_count": null,
      "outputs": []
    },
    {
      "cell_type": "code",
      "metadata": {
        "id": "feIxjphFe_3k"
      },
      "source": [
        "def train(epoch):\n",
        "    num_items = 0\n",
        "    train_losses = []\n",
        "\n",
        "    model.train()\n",
        "    criterion = nn.CrossEntropyLoss()\n",
        "    print(f\"Training Epoch {epoch}...\")\n",
        "    for batch_idx, (data, target) in tqdm(enumerate(train_loader), total=len(train_loader)):\n",
        "        if use_cuda:\n",
        "            data = data.cuda()\n",
        "            target = target.cuda()\n",
        "        optimizer.zero_grad()\n",
        "        output = model(data)\n",
        "        loss = criterion(output, target) \n",
        "        loss.backward()\n",
        "        optimizer.step()\n",
        "\n",
        "        train_losses += [loss.item()]\n",
        "        num_items += data.shape[0]\n",
        "    print('Train loss: {:.5f}'.format(np.mean(train_losses)))\n",
        "    return train_losses"
      ],
      "execution_count": null,
      "outputs": []
    },
    {
      "cell_type": "code",
      "metadata": {
        "id": "zf-XZB74e_3k"
      },
      "source": [
        "def test():\n",
        "    accuracy = 0.0\n",
        "    num_items = 0\n",
        "\n",
        "    model.eval()\n",
        "    criterion = nn.CrossEntropyLoss()\n",
        "    print(f\"Testing...\")\n",
        "    with torch.no_grad():\n",
        "        for batch_idx, (data, target) in tqdm(enumerate(test_loader),  total=len(test_loader)):\n",
        "            if use_cuda:\n",
        "                data = data.cuda()\n",
        "                target = target.cuda()\n",
        "            output = model(data)\n",
        "            accuracy += torch.sum(torch.argmax(output, dim=1) == target).item()\n",
        "            num_items += data.shape[0]\n",
        "    accuracy = accuracy * 100 / num_items\n",
        "    print(\"Test Accuracy: {:.3f}%\".format(accuracy))"
      ],
      "execution_count": null,
      "outputs": []
    },
    {
      "cell_type": "code",
      "metadata": {
        "scrolled": true,
        "id": "dUCmGffNe_3k"
      },
      "source": [
        "n_epochs = 5\n",
        "test()\n",
        "train_losses = []\n",
        "for epoch in range(1, n_epochs + 1):\n",
        "    train_losses += train(epoch)\n",
        "    test()"
      ],
      "execution_count": null,
      "outputs": []
    },
    {
      "cell_type": "code",
      "metadata": {
        "id": "5BYS-mOGe_3k"
      },
      "source": [
        "import pandas as pd\n",
        "\n",
        "plt.figure(figsize=(9, 5))\n",
        "history = pd.DataFrame({\"loss\": train_losses})\n",
        "history[\"cum_data\"] = history.index * batch_size\n",
        "history[\"smooth_loss\"] = history.loss.ewm(halflife=10).mean()\n",
        "history.plot(x=\"cum_data\", y=\"smooth_loss\", figsize=(12, 5), title=\"train error\")"
      ],
      "execution_count": null,
      "outputs": []
    },
    {
      "cell_type": "markdown",
      "metadata": {
        "id": "ET4h6uuPe_3k"
      },
      "source": [
        "```\n",
        "Testing...\n",
        "100% 79/79 [00:01<00:00, 45.69it/s]\n",
        "Test Accuracy: 9.740%\n",
        "\n",
        "Training Epoch 1...\n",
        "100% 1875/1875 [01:15<00:00, 24.69it/s]\n",
        "Train loss: 0.20137\n",
        "Testing...\n",
        "100% 79/79 [00:01<00:00, 46.64it/s]\n",
        "Test Accuracy: 98.680%\n",
        "\n",
        "Training Epoch 2...\n",
        "100% 1875/1875 [01:17<00:00, 24.32it/s]\n",
        "Train loss: 0.05059\n",
        "Testing...\n",
        "100% 79/79 [00:01<00:00, 46.11it/s]\n",
        "Test Accuracy: 97.760%\n",
        "\n",
        "Training Epoch 3...\n",
        "100% 1875/1875 [01:16<00:00, 24.63it/s]\n",
        "Train loss: 0.03808\n",
        "Testing...\n",
        "100% 79/79 [00:01<00:00, 45.65it/s]\n",
        "Test Accuracy: 99.000%\n",
        "\n",
        "Training Epoch 4...\n",
        "100% 1875/1875 [01:17<00:00, 24.28it/s]\n",
        "Train loss: 0.02894\n",
        "Testing...\n",
        "100% 79/79 [00:01<00:00, 45.42it/s]\n",
        "Test Accuracy: 99.130%\n",
        "\n",
        "Training Epoch 5...\n",
        "100% 1875/1875 [01:16<00:00, 24.67it/s]\n",
        "Train loss: 0.02424\n",
        "Testing...\n",
        "100% 79/79 [00:01<00:00, 45.89it/s]\n",
        "Test Accuracy: 99.170%\n",
        "```\n",
        "\n",
        "![train error](https://github.com/msurtsukov/neural-ode/blob/master/assets/train_error.png?raw=1)\n",
        "\n",
        "After a very rough training procedure of only 5 epochs and 6 minutes of training the model already has test error of less than 1%. Which shows that Neural ODE architecture fits very good as a component in more conventional nets."
      ]
    },
    {
      "cell_type": "markdown",
      "metadata": {
        "id": "myB6Isjve_3k"
      },
      "source": [
        "In their paper, authors also compare this classifier to simple 1-layer MLP, to ResNet with alike architecture, and to same ODE architecture, but in which gradients propagated directly through ODESolve (without adjoint gradient method) (RK-Net).\n",
        "![\"Methods comparison\"](https://github.com/msurtsukov/neural-ode/blob/master/assets/methods_compare.png?raw=1)\n",
        "<div align=\"center\">Figure from original paper</div>\n",
        "\n",
        "According to them, 1-layer MLP with roughly the same amount of parameters as Neural ODE-Net has much higher test error, ResNet with roughly the same error has much more parameters, and RK-Net with direct backpropagation through ODESolver has slightly higher error and linearly growing memory usage."
      ]
    },
    {
      "cell_type": "markdown",
      "metadata": {
        "id": "WzLYkVJEe_3k"
      },
      "source": [
        "In their paper, authors use implicit Runge-Kutta solver with adaptive step size instead of simple Euler's method. They also examine some ODE-Net characteristics.\n",
        "\n",
        "![\"Node attrs\"](https://github.com/msurtsukov/neural-ode/blob/master/assets/ode_solver_attrs.png?raw=1)\n",
        "\n",
        "<div align=\"center\">ODE-Net characteristics (NFE Forward - number of function evaluations during forward pass)</div>\n",
        "<div align=\"center\">Figure from original paper</div>\n",
        "\n",
        "- (a) Changing tolerable Numerical Error varies the number of steps per forward pass evaluation.\n",
        "- (b) Time spent by the forward call is proportional to the number of function evaluations.\n",
        "- (c) Number of backward evaluations is roughly half the number of forward evaluations, this suggests that adjoint method is more computationally efficient than direct backpropagation through ODESolver.\n",
        "- (d) As ODE-Net becomes more and more trained, it demands more and more evaluations, presumably adapting to the increasing complexity of the model."
      ]
    },
    {
      "cell_type": "markdown",
      "metadata": {
        "id": "864RUqN5e_3l"
      },
      "source": [
        "## Generative latent function time-series model"
      ]
    },
    {
      "cell_type": "markdown",
      "metadata": {
        "id": "tkQvlKQze_3l"
      },
      "source": [
        "Neural ODE seems to be more suitable for continuous sequential data even when this continuous trajectory is in some unknown latent space.\n",
        "\n",
        "In this section we will experiment with generating continuous sequential data using Neural ODE and exploring its latent space a bit.\n",
        "Authors also compare it to the same sequential data but generated with Recurrent Neural Networks.\n",
        "\n",
        "The approach here is slightly different from the corresponding example in authors repository, the one here has a more diverse set of trajectories."
      ]
    },
    {
      "cell_type": "markdown",
      "metadata": {
        "id": "06eMqLmfe_3l"
      },
      "source": [
        "### Data"
      ]
    },
    {
      "cell_type": "markdown",
      "metadata": {
        "id": "gUFD2bQ7e_3l"
      },
      "source": [
        "Training data consists of random spirals, one half of which is clockwise and another is counter-clockwise. Then, random subtimespans of size 100 are sampled from these spirals, having passed through encoder rnn model in reversed order yielding a latent starting state, which then evolves creating a trajectory in the latent space. This latent trajectory is then mapped onto the data space trajectory and compared with the actual data observations. Thus, the model learns to generate data-alike trajectories."
      ]
    },
    {
      "cell_type": "markdown",
      "metadata": {
        "id": "7LJvBgNve_3l"
      },
      "source": [
        "![image.png](https://github.com/msurtsukov/neural-ode/blob/master/assets/spirals_examples.png?raw=1)\n",
        "<div align=\"center\">Examples of spirals in the dataset</div>"
      ]
    },
    {
      "cell_type": "markdown",
      "metadata": {
        "id": "NCNdwiH8e_3l"
      },
      "source": [
        "### VAE as a generative model"
      ]
    },
    {
      "cell_type": "markdown",
      "metadata": {
        "id": "ArVnYz2Ze_3l"
      },
      "source": [
        "A generative model through sampling procedure:\n",
        "$$\n",
        "z_{t_0} \\sim \\mathcal{N}(0, I)\n",
        "$$\n",
        "\n",
        "$$\n",
        "z_{t_1}, z_{t_2},...,z_{t_M} = \\text{ODESolve}(z_{t_0}, f, \\theta_f, t_0,...,t_M)\n",
        "$$\n",
        "\n",
        "$$\n",
        "\\text{each } x_{t_i} \\sim p(x \\mid z_{t_i};\\theta_x)\n",
        "$$\n",
        "\n",
        "Which can be trained using variational autoencoder approach:\n",
        "\n",
        "1. Run the RNN encoder through the time series backwards in time to infer the parameters $\\mu_{z_{t_0}}$, $\\sigma_{z_{t_0}}$ of variational posterior and sample from it\n",
        "$$\n",
        "z_{t_0} \\sim q \\left( z_{t_0} \\mid x_{t_0},...,x_{t_M}; t_0,...,t_M; \\theta_q \\right) = \\mathcal{N} \\left(z_{t_0} \\mid \\mu_{z_{t_0}} \\sigma_{z_{t_0}} \\right)\n",
        "$$\n",
        "2. Obtain the latent trajectory \n",
        "$$\n",
        "z_{t_1}, z_{t_2},...,z_{t_N} = \\text{ODESolve}(z_{t_0}, f, \\theta_f, t_0,...,t_N), \\text{ where } \\frac{d z}{d t} = f(z, t; \\theta_f)\n",
        "$$\n",
        "3. Map the latent trajectory onto the data space using another neural network: $\\hat{x_{t_i}}(z_{t_i}, t_i; \\theta_x)$\n",
        "4. Maximize Evidence Lower BOund estimate for sampled trajectory\n",
        "$$\n",
        "\\text{ELBO} \\approx N \\Big( \\sum_{i=0}^{M} \\log p(x_{t_i} \\mid z_{t_i}(z_{t_0}; \\theta_f); \\theta_x) + KL \\left( q( z_{t_0} \\mid x_{t_0},...,x_{t_M}; t_0,...,t_M; \\theta_q) \\parallel \\mathcal{N}(0, I) \\right) \\Big)\n",
        "$$\n",
        "And in case of Gaussian posterior $p(x \\mid z_{t_i};\\theta_x)$ and known noise level $\\sigma_x$\n",
        "$$\n",
        "\\text{ELBO} \\approx -N \\Big( \\sum_{i=1}^{M}\\frac{(x_i - \\hat{x_i} )^2}{\\sigma_x^2} - \\log \\sigma_{z_{t_0}}^2 + \\mu_{z_{t_0}}^2 + \\sigma_{z_{t_0}}^2 \\Big) + C\n",
        "$$"
      ]
    },
    {
      "cell_type": "markdown",
      "metadata": {
        "id": "L96Nf4_Re_3l"
      },
      "source": [
        "Computation graph of the latent ODE model can be depicted like this\n",
        "![vae_model](https://github.com/msurtsukov/neural-ode/blob/master/assets/vae_model.png?raw=1)\n",
        "<div align=\"center\">Figure from the original paper</div>"
      ]
    },
    {
      "cell_type": "markdown",
      "metadata": {
        "id": "L3Z41EeVe_3l"
      },
      "source": [
        "One can then test how this model extrapolates the trajectory from only its initial moment observations."
      ]
    },
    {
      "cell_type": "markdown",
      "metadata": {
        "id": "N_Ec1VG4e_3l"
      },
      "source": [
        "### Defining the models"
      ]
    },
    {
      "cell_type": "code",
      "metadata": {
        "id": "bu0f6yjWe_3l"
      },
      "source": [
        "class RNNEncoder(nn.Module):\n",
        "    def __init__(self, input_dim, hidden_dim, latent_dim):\n",
        "        super(RNNEncoder, self).__init__()\n",
        "        self.input_dim = input_dim\n",
        "        self.hidden_dim = hidden_dim\n",
        "        self.latent_dim = latent_dim\n",
        "\n",
        "        self.rnn = nn.GRU(input_dim+1, hidden_dim)\n",
        "        self.hid2lat = nn.Linear(hidden_dim, 2*latent_dim)\n",
        "\n",
        "    def forward(self, x, t):\n",
        "        # Concatenate time to input\n",
        "        t = t.clone()\n",
        "        t[1:] = t[:-1] - t[1:]\n",
        "        t[0] = 0.\n",
        "        xt = torch.cat((x, t), dim=-1)\n",
        "\n",
        "        _, h0 = self.rnn(xt.flip((0,)))  # Reversed\n",
        "        # Compute latent dimension\n",
        "        z0 = self.hid2lat(h0[0])\n",
        "        z0_mean = z0[:, :self.latent_dim]\n",
        "        z0_log_var = z0[:, self.latent_dim:]\n",
        "        return z0_mean, z0_log_var"
      ],
      "execution_count": null,
      "outputs": []
    },
    {
      "cell_type": "code",
      "metadata": {
        "id": "j_srhJy6e_3m"
      },
      "source": [
        "class NeuralODEDecoder(nn.Module):\n",
        "    def __init__(self, output_dim, hidden_dim, latent_dim):\n",
        "        super(NeuralODEDecoder, self).__init__()\n",
        "        self.output_dim = output_dim\n",
        "        self.hidden_dim = hidden_dim\n",
        "        self.latent_dim = latent_dim\n",
        "\n",
        "        func = NNODEF(latent_dim, hidden_dim, time_invariant=True)\n",
        "        self.ode = NeuralODE(func)\n",
        "        self.l2h = nn.Linear(latent_dim, hidden_dim)\n",
        "        self.h2o = nn.Linear(hidden_dim, output_dim)\n",
        "\n",
        "    def forward(self, z0, t):\n",
        "        zs = self.ode(z0, t, return_whole_sequence=True)\n",
        "\n",
        "        hs = self.l2h(zs)\n",
        "        xs = self.h2o(hs)\n",
        "        return xs"
      ],
      "execution_count": null,
      "outputs": []
    },
    {
      "cell_type": "code",
      "metadata": {
        "id": "fccYfiE9e_3m"
      },
      "source": [
        "class ODEVAE(nn.Module):\n",
        "    def __init__(self, output_dim, hidden_dim, latent_dim):\n",
        "        super(ODEVAE, self).__init__()\n",
        "        self.output_dim = output_dim\n",
        "        self.hidden_dim = hidden_dim\n",
        "        self.latent_dim = latent_dim\n",
        "\n",
        "        self.encoder = RNNEncoder(output_dim, hidden_dim, latent_dim)\n",
        "        self.decoder = NeuralODEDecoder(output_dim, hidden_dim, latent_dim)\n",
        "\n",
        "    def forward(self, x, t, MAP=False):\n",
        "        z_mean, z_log_var = self.encoder(x, t)\n",
        "        if MAP:\n",
        "            z = z_mean\n",
        "        else:\n",
        "            z = z_mean + torch.randn_like(z_mean) * torch.exp(0.5 * z_log_var)\n",
        "        x_p = self.decoder(z, t)\n",
        "        return x_p, z, z_mean, z_log_var\n",
        "\n",
        "    def generate_with_seed(self, seed_x, t):\n",
        "        seed_t_len = seed_x.shape[0]\n",
        "        z_mean, z_log_var = self.encoder(seed_x, t[:seed_t_len])\n",
        "        x_p = self.decoder(z_mean, t)\n",
        "        return x_p"
      ],
      "execution_count": null,
      "outputs": []
    },
    {
      "cell_type": "markdown",
      "metadata": {
        "id": "Va93mkVae_3m"
      },
      "source": [
        "### Generating dataset"
      ]
    },
    {
      "cell_type": "code",
      "metadata": {
        "id": "iSolf_Qle_3m"
      },
      "source": [
        "t_max = 6.29*5\n",
        "n_points = 200\n",
        "noise_std = 0.02\n",
        "\n",
        "num_spirals = 1000\n",
        "\n",
        "index_np = np.arange(0, n_points, 1, dtype=np.int)\n",
        "index_np = np.hstack([index_np[:, None]])\n",
        "times_np = np.linspace(0, t_max, num=n_points)\n",
        "times_np = np.hstack([times_np[:, None]] * num_spirals)\n",
        "times = torch.from_numpy(times_np[:, :, None]).to(torch.float32)\n",
        "\n",
        "# Generate random spirals parameters\n",
        "normal01 = torch.distributions.Normal(0, 1.0)\n",
        "\n",
        "x0 = Variable(normal01.sample((num_spirals, 2))) * 2.0  \n",
        "\n",
        "W11 = -0.1 * normal01.sample((num_spirals,)).abs() - 0.05\n",
        "W22 = -0.1 * normal01.sample((num_spirals,)).abs() - 0.05\n",
        "W21 = -1.0 * normal01.sample((num_spirals,)).abs()\n",
        "W12 =  1.0 * normal01.sample((num_spirals,)).abs()\n",
        "\n",
        "xs_list = []\n",
        "for i in range(num_spirals):\n",
        "    if i % 2 == 1: #  Make it counter-clockwise\n",
        "        W21, W12 = W12, W21\n",
        "\n",
        "    func = LinearODEF(Tensor([[W11[i], W12[i]], [W21[i], W22[i]]]))\n",
        "    ode = NeuralODE(func)\n",
        "\n",
        "    xs = ode(x0[i:i+1], times[:, i:i+1], return_whole_sequence=True)\n",
        "    xs_list.append(xs)\n",
        "\n",
        "\n",
        "orig_trajs = torch.cat(xs_list, dim=1).detach()\n",
        "samp_trajs = orig_trajs + torch.randn_like(orig_trajs) * noise_std\n",
        "samp_ts = times"
      ],
      "execution_count": null,
      "outputs": []
    },
    {
      "cell_type": "code",
      "metadata": {
        "scrolled": false,
        "id": "uu4WOah7e_3m"
      },
      "source": [
        "fig, axes = plt.subplots(nrows=3, ncols=3, figsize=(15, 9))\n",
        "axes = axes.flatten()\n",
        "for i, ax in enumerate(axes):\n",
        "    ax.scatter(samp_trajs[:, i, 0], samp_trajs[:, i, 1], c=samp_ts[:, i, 0], cmap=cm.plasma)\n",
        "plt.show()"
      ],
      "execution_count": null,
      "outputs": []
    },
    {
      "cell_type": "code",
      "metadata": {
        "id": "zc2nsMhOe_3m"
      },
      "source": [
        "import numpy.random as npr\n",
        "\n",
        "def gen_batch(batch_size, n_sample=100):\n",
        "    n_batches = samp_trajs.shape[1] // batch_size\n",
        "    time_len = samp_trajs.shape[0]\n",
        "    n_sample = min(n_sample, time_len)\n",
        "    for i in range(n_batches):\n",
        "        if n_sample > 0:\n",
        "            t0_idx = npr.multinomial(1, [1. / (time_len - n_sample)] * (time_len - n_sample))\n",
        "            t0_idx = np.argmax(t0_idx)\n",
        "            tM_idx = t0_idx + n_sample\n",
        "        else:\n",
        "            t0_idx = 0\n",
        "            tM_idx = time_len\n",
        "\n",
        "        frm, to = batch_size*i, batch_size*(i+1)\n",
        "        yield samp_trajs[t0_idx:tM_idx, frm:to], samp_ts[t0_idx:tM_idx, frm:to]"
      ],
      "execution_count": null,
      "outputs": []
    },
    {
      "cell_type": "markdown",
      "metadata": {
        "id": "7BDL6DsXe_3m"
      },
      "source": [
        "### Training"
      ]
    },
    {
      "cell_type": "code",
      "metadata": {
        "id": "5_jD9p_Se_3m"
      },
      "source": [
        "vae = ODEVAE(2, 64, 6)\n",
        "vae = vae.cuda()\n",
        "if use_cuda:\n",
        "    vae = vae.cuda()"
      ],
      "execution_count": null,
      "outputs": []
    },
    {
      "cell_type": "code",
      "metadata": {
        "id": "xxej7TP6e_3m"
      },
      "source": [
        "optim = torch.optim.Adam(vae.parameters(), betas=(0.9, 0.999), lr=0.001)"
      ],
      "execution_count": null,
      "outputs": []
    },
    {
      "cell_type": "code",
      "metadata": {
        "scrolled": false,
        "id": "It0xqPpwe_3m"
      },
      "source": [
        "preload = False\n",
        "n_epochs = 20000\n",
        "batch_size = 100\n",
        "\n",
        "plot_traj_idx = 1\n",
        "plot_traj = orig_trajs[:, plot_traj_idx:plot_traj_idx+1]\n",
        "plot_obs = samp_trajs[:, plot_traj_idx:plot_traj_idx+1]\n",
        "plot_ts = samp_ts[:, plot_traj_idx:plot_traj_idx+1]\n",
        "if use_cuda:\n",
        "    plot_traj = plot_traj.cuda()\n",
        "    plot_obs = plot_obs.cuda()\n",
        "    plot_ts = plot_ts.cuda()\n",
        "\n",
        "if preload:\n",
        "    vae.load_state_dict(torch.load(\"models/vae_spirals.sd\"))\n",
        "\n",
        "for epoch_idx in range(n_epochs):\n",
        "    losses = []\n",
        "    train_iter = gen_batch(batch_size)\n",
        "    for x, t in train_iter:\n",
        "        optim.zero_grad()\n",
        "        if use_cuda:\n",
        "            x, t = x.cuda(), t.cuda()\n",
        "\n",
        "        max_len = np.random.choice([30, 50, 100])\n",
        "        permutation = np.random.permutation(t.shape[0])\n",
        "        np.random.shuffle(permutation)\n",
        "        permutation = np.sort(permutation[:max_len])\n",
        "\n",
        "        x, t = x[permutation], t[permutation]\n",
        "\n",
        "        x_p, z, z_mean, z_log_var = vae(x, t)\n",
        "        kl_loss = -0.5 * torch.sum(1 + z_log_var - z_mean**2 - torch.exp(z_log_var), -1)\n",
        "        loss = 0.5 * ((x-x_p)**2).sum(-1).sum(0) / noise_std**2 + kl_loss\n",
        "        loss = torch.mean(loss)\n",
        "        loss /= max_len\n",
        "        loss.backward()\n",
        "        optim.step()\n",
        "        losses.append(loss.item())\n",
        "\n",
        "    print(f\"Epoch {epoch_idx}\")\n",
        "\n",
        "    frm, to, to_seed = 0, 200, 50\n",
        "    seed_trajs = samp_trajs[frm:to_seed]\n",
        "    ts = samp_ts[frm:to]\n",
        "    if use_cuda:\n",
        "        seed_trajs = seed_trajs.cuda()\n",
        "        ts = ts.cuda()\n",
        "\n",
        "    samp_trajs_p = to_np(vae.generate_with_seed(seed_trajs, ts))\n",
        "\n",
        "    fig, axes = plt.subplots(nrows=3, ncols=3, figsize=(15, 9))\n",
        "    axes = axes.flatten()\n",
        "    for i, ax in enumerate(axes):\n",
        "        ax.scatter(to_np(seed_trajs[:, i, 0]), to_np(seed_trajs[:, i, 1]), c=to_np(ts[frm:to_seed, i, 0]), cmap=cm.plasma)\n",
        "        ax.plot(to_np(orig_trajs[frm:to, i, 0]), to_np(orig_trajs[frm:to, i, 1]))\n",
        "        ax.plot(samp_trajs_p[:, i, 0], samp_trajs_p[:, i, 1])\n",
        "    plt.show()\n",
        "\n",
        "    print(np.mean(losses), np.median(losses))\n",
        "    clear_output(wait=True)"
      ],
      "execution_count": null,
      "outputs": []
    },
    {
      "cell_type": "code",
      "metadata": {
        "id": "K5CIJG_Me_3m"
      },
      "source": [
        "spiral_0_idx = 3\n",
        "spiral_1_idx = 6\n",
        "\n",
        "homotopy_p = Tensor(np.linspace(0., 1., 10)[:, None])\n",
        "vae = vae\n",
        "if use_cuda:\n",
        "    homotopy_p = homotopy_p.cuda()\n",
        "    vae = vae.cuda()\n",
        "\n",
        "spiral_0 = orig_trajs[:, spiral_0_idx:spiral_0_idx+1, :]\n",
        "spiral_1 = orig_trajs[:, spiral_1_idx:spiral_1_idx+1, :]\n",
        "ts_0 = samp_ts[:, spiral_0_idx:spiral_0_idx+1, :]\n",
        "ts_1 = samp_ts[:, spiral_1_idx:spiral_1_idx+1, :]\n",
        "if use_cuda:\n",
        "    spiral_0, ts_0 = spiral_0.cuda(), ts_0.cuda()\n",
        "    spiral_1, ts_1 = spiral_1.cuda(), ts_1.cuda()\n",
        "\n",
        "z_cw, _ = vae.encoder(spiral_0, ts_0)\n",
        "z_cc, _ = vae.encoder(spiral_1, ts_1)\n",
        "\n",
        "homotopy_z = z_cw * (1 - homotopy_p) + z_cc * homotopy_p\n",
        "\n",
        "t = torch.from_numpy(np.linspace(0, 6*np.pi, 200))\n",
        "t = t[:, None].expand(200, 10)[:, :, None].cuda()\n",
        "t = t.cuda() if use_cuda else t\n",
        "hom_gen_trajs = vae.decoder(homotopy_z, t)\n",
        "\n",
        "fig, axes = plt.subplots(nrows=2, ncols=5, figsize=(15, 5))\n",
        "axes = axes.flatten()\n",
        "for i, ax in enumerate(axes):\n",
        "    ax.plot(to_np(hom_gen_trajs[:, i, 0]), to_np(hom_gen_trajs[:, i, 1]))\n",
        "plt.show()"
      ],
      "execution_count": null,
      "outputs": []
    },
    {
      "cell_type": "markdown",
      "metadata": {
        "id": "CdTUdXpfe_3n"
      },
      "source": [
        "torch.save(vae.state_dict(), \"models/vae_spirals.sd\")"
      ]
    },
    {
      "cell_type": "markdown",
      "metadata": {
        "id": "4INmBIwle_3n"
      },
      "source": [
        "This is what I got after a night of training\n",
        "![spiral reconstruction with seed](https://github.com/msurtsukov/neural-ode/blob/master/assets/spirals_reconstructed.png?raw=1)\n",
        "<div align=\"center\">Dots are noisy observations of the original trajectories (blue), <br /> yellow are reconstructed and interpolated trajectories using dots as inputs. <br /> Color of the dots represents time. </div>"
      ]
    },
    {
      "cell_type": "markdown",
      "metadata": {
        "id": "CR3TaCWYe_3n"
      },
      "source": [
        "Reconstuctions of some examples are not very good. Maybe the model is not complex enough or haven't been trained for a long enough time. Anyway, results look very credible.\n",
        "\n",
        "Now lets have a look at what happens if we interpolate the latent variable of the clockwise trajectory to another - the counter-clockwise one.\n",
        "![homotopy](https://github.com/msurtsukov/neural-ode/blob/master/assets/spirals_homotopy.png?raw=1)"
      ]
    },
    {
      "cell_type": "markdown",
      "metadata": {
        "id": "bvRkCAbhe_3n"
      },
      "source": [
        "Authors also compare reconstructed trajectories using initial moment of time observations of Neural ODE and simple RNN.\n",
        "![ode_rnn_comp](https://github.com/msurtsukov/neural-ode/blob/master/assets/ode_rnn_comp.png?raw=1)\n",
        "<div align=\"center\">Figure from the original paper</div>"
      ]
    },
    {
      "cell_type": "markdown",
      "metadata": {
        "id": "Ol6nTpj5e_3n"
      },
      "source": [
        "## Continuous normalizing flows\n",
        "\n",
        "The original paper also contributes a lot in the topic of Normalizing Flows. Normalizing flows are used when one needs to sample from a complicated distribution originating from a change of variables in some simple distribution (e.q. Gaussian), while still being able to know the probability density of each sample.  \n",
        "They show that using continuous change of variables is much more computationally efficient and interpretable than previous methods._\n",
        "\n",
        "Normalizing flows are very useful in such models as *Variational AutoEncoders*, *Bayesian Neural Networks* and other things in Bayesian setting.\n",
        "\n",
        "This topic, however, is beyond the scope of the present notebook, and those interested are adressed to  the original paper.\n",
        "\n",
        "To tease you a bit:\n",
        "\n",
        "![CNF_NF_comp](https://github.com/msurtsukov/neural-ode/blob/master/assets/CNF_NF_comp.png?raw=1)"
      ]
    },
    {
      "cell_type": "markdown",
      "metadata": {
        "id": "d8woYjVbe_3n"
      },
      "source": [
        "<div align=\"center\">Visualizing the transformation from noise (simple distribution) to data (complicated distribution) for two datasets; <br /> X-axis represents density and samples transformation with \"time\" (for CNF) and \"depth\" (for NF) <br />Figure from the original paper</div>"
      ]
    },
    {
      "cell_type": "markdown",
      "metadata": {
        "id": "OcsmaH-fe_3n"
      },
      "source": [
        "This concludes my little investigation of **Neural ODEs**. Hope you found it useful!"
      ]
    },
    {
      "cell_type": "markdown",
      "metadata": {
        "id": "7pLQJrnSe_3n"
      },
      "source": [
        "# Useful links\n",
        "\n",
        "   - [Original paper](https://arxiv.org/abs/1806.07366)\n",
        "   - [Authors' PyTorch implementation](https://github.com/rtqichen/torchdiffeq)\n",
        "   - [Variational Inference](https://www.cs.princeton.edu/courses/archive/fall11/cos597C/lectures/variational-inference-i.pdf)\n",
        "   - [My article on VAE (Russian)](https://habr.com/en/post/331552/)\n",
        "   - [VAE explained](https://www.jeremyjordan.me/variational-autoencoders/)\n",
        "   - [More on Normalizing Flows](http://akosiorek.github.io/ml/2018/04/03/norm_flows.html)\n",
        "   - [Variational Inference with Normalizing Flows Paper](https://arxiv.org/abs/1505.05770)"
      ]
    }
  ]
}