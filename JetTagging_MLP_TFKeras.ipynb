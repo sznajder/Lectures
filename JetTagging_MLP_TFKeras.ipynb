{
  "nbformat": 4,
  "nbformat_minor": 0,
  "metadata": {
    "colab": {
      "name": "JetTagging_MLP_TFKeras.ipynb",
      "provenance": [],
      "collapsed_sections": [],
      "include_colab_link": true
    },
    "kernelspec": {
      "display_name": "machine-learning-das",
      "language": "python",
      "name": "machine-learning-das"
    },
    "accelerator": "GPU"
  },
  "cells": [
    {
      "cell_type": "markdown",
      "metadata": {
        "id": "view-in-github",
        "colab_type": "text"
      },
      "source": [
        "<a href=\"https://colab.research.google.com/github/sznajder/Notebooks/blob/master/JetTagging_MLP_TFKeras.ipynb\" target=\"_parent\"><img src=\"https://colab.research.google.com/assets/colab-badge.svg\" alt=\"Open In Colab\"/></a>"
      ]
    },
    {
      "cell_type": "markdown",
      "metadata": {
        "id": "JK0wr2onBn4d"
      },
      "source": [
        "# Deep MLP for Jet-Images\n",
        "Author: Andre Sznajder"
      ]
    },
    {
      "cell_type": "code",
      "metadata": {
        "id": "WrNOdwasBsHc",
        "colab": {
          "base_uri": "https://localhost:8080/"
        },
        "outputId": "1cbba6b4-6149-4002-f36c-c3b75c2f88eb"
      },
      "source": [
        "#!fusermount -u drive\n",
        "! pip install einops"
      ],
      "execution_count": null,
      "outputs": [
        {
          "output_type": "stream",
          "text": [
            "Requirement already satisfied: einops in /usr/local/lib/python3.6/dist-packages (0.3.0)\n"
          ],
          "name": "stdout"
        }
      ]
    },
    {
      "cell_type": "code",
      "metadata": {
        "id": "MhGGIDIvBu2V",
        "colab": {
          "base_uri": "https://localhost:8080/"
        },
        "outputId": "098b97da-436f-4efa-b43a-804bf05a3322"
      },
      "source": [
        "from google.colab import drive\n",
        "drive.mount('/content/gdrive', force_remount=True)\n",
        "data_dir = '/content/gdrive/My Drive/Colab Notebooks/Data/'"
      ],
      "execution_count": null,
      "outputs": [
        {
          "output_type": "stream",
          "text": [
            "Mounted at /content/gdrive\n"
          ],
          "name": "stdout"
        }
      ]
    },
    {
      "cell_type": "markdown",
      "metadata": {
        "id": "TxGwUjLmBn4f"
      },
      "source": [
        "## Load numpy arrays\n",
        "Here, we load the numpy arrays containing the 4D tensors of \"jet-images\" (see https://arxiv.org/pdf/1511.05190.pdf)"
      ]
    },
    {
      "cell_type": "code",
      "metadata": {
        "id": "TcXokNduBn4g"
      },
      "source": [
        "import h5py\n",
        "\n",
        "h5f = h5py.File(data_dir+\"jet_images.h5\", \"r\")\n",
        "\n",
        "jet_images_dict = {}\n",
        "jet_images_dict['QCD'] = h5f['QCD'][()]\n",
        "jet_images_dict['TT'] = h5f['TT'][()]\n",
        "\n",
        "h5f.close()"
      ],
      "execution_count": null,
      "outputs": []
    },
    {
      "cell_type": "code",
      "metadata": {
        "id": "YAJhuubTBn4k",
        "colab": {
          "base_uri": "https://localhost:8080/"
        },
        "outputId": "fd9940ab-55f9-47b9-aeb0-703348449bb4"
      },
      "source": [
        "# 4D tensor (tensorflow backend)\n",
        "# 1st dim is jet index\n",
        "# 2nd dim is eta bin\n",
        "# 3rd dim is phi bin\n",
        "# 4th dim is pt value (or rgb values, etc.)\n",
        "print(jet_images_dict['QCD'].ndim)\n",
        "njet_qcd = jet_images_dict['QCD'].shape[0]\n",
        "njet_tt = jet_images_dict['TT'].shape[0]\n",
        "neta = jet_images_dict['TT'].shape[1]\n",
        "nphi = jet_images_dict['TT'].shape[2]\n",
        "npt = jet_images_dict['TT'].shape[3]\n",
        "print('Number of QCD jets=',njet_qcd)\n",
        "print('Number of TT jets=',njet_tt)\n",
        "print('Number of Phi bins=',nphi)\n",
        "print('Number of Eta bins=',neta)\n",
        "print('Number of Pt bins=',npt)"
      ],
      "execution_count": null,
      "outputs": [
        {
          "output_type": "stream",
          "text": [
            "4\n",
            "Number of QCD jets= 3305\n",
            "Number of TT jets= 1821\n",
            "Number of Phi bins= 30\n",
            "Number of Eta bins= 30\n",
            "Number of Pt bins= 1\n"
          ],
          "name": "stdout"
        }
      ]
    },
    {
      "cell_type": "markdown",
      "metadata": {
        "id": "9msxnFteBn4p"
      },
      "source": [
        "## Plotting jet-images\n",
        "Let's plot some jet-images (individual jets and averaged over all jets)\n",
        "\n",
        "**Question 1:**  Try to plot the average W and QCD jet-images."
      ]
    },
    {
      "cell_type": "code",
      "metadata": {
        "id": "WTCXqKHqBn4q",
        "colab": {
          "base_uri": "https://localhost:8080/",
          "height": 452
        },
        "outputId": "21333456-d3dd-4976-fcee-e5862eae29a6"
      },
      "source": [
        "import matplotlib.pyplot as plt\n",
        "import matplotlib as mpl\n",
        "import numpy as np\n",
        "%matplotlib inline\n",
        "plt.style.use('default')\n",
        "\n",
        "# plot one W jet\n",
        "i = 7\n",
        "plt.figure('W') \n",
        "plt.imshow(jet_images_dict['TT'][i,:,:,0].T, norm=mpl.colors.LogNorm(), origin='lower', interpolation='none')\n",
        "cbar = plt.colorbar()\n",
        "cbar.set_label('pT')\n",
        "plt.xlabel('ieta')\n",
        "plt.ylabel('iphi')\n",
        "plt.show()\n",
        "\n",
        "# plot average W jet"
      ],
      "execution_count": null,
      "outputs": [
        {
          "output_type": "display_data",
          "data": {
            "image/png": "[encoded data removed]",
            "text/plain": [
              "<Figure size 640x480 with 2 Axes>"
            ]
          },
          "metadata": {
            "tags": []
          }
        }
      ]
    },
    {
      "cell_type": "code",
      "metadata": {
        "id": "HzXsBt5vBn4w",
        "colab": {
          "base_uri": "https://localhost:8080/",
          "height": 449
        },
        "outputId": "2fbeb0e0-27d5-46e1-ae3a-c3ff49ad5851"
      },
      "source": [
        "# plot one QCD jet\n",
        "i = 7\n",
        "plt.figure() \n",
        "plt.imshow(jet_images_dict['QCD'][i,:,:,0].T, norm=mpl.colors.LogNorm(), origin='lower', interpolation='none')\n",
        "cbar = plt.colorbar()\n",
        "cbar.set_label('pT')\n",
        "plt.xlabel('ieta')\n",
        "plt.ylabel('iphi')\n",
        "plt.show()\n",
        "\n",
        "# plot average QCD jet"
      ],
      "execution_count": null,
      "outputs": [
        {
          "output_type": "display_data",
          "data": {
            "image/png": "[encoded data removed]",
            "text/plain": [
              "<Figure size 640x480 with 2 Axes>"
            ]
          },
          "metadata": {
            "tags": []
          }
        }
      ]
    },
    {
      "cell_type": "markdown",
      "metadata": {
        "id": "8zFeYn6_Bn40"
      },
      "source": [
        "## Define our Deep MLP model\n",
        "**Question 2:** Here we have a relatively simple `Conv2D` model using regularization, batch normalization, max pooling, and a fully connected layer before the ouput. Implement the network defined in https://arxiv.org/pdf/1511.05190.pdf. Compare the performance and number of parameters when using fully connected layers instead of convolutional layers."
      ]
    },
    {
      "cell_type": "code",
      "metadata": {
        "id": "aqEAX7zIBn40",
        "colab": {
          "base_uri": "https://localhost:8080/"
        },
        "outputId": "66d78adb-bcf6-4ff3-a5ba-10de3ef62830"
      },
      "source": [
        "# baseline keras model\n",
        "import tensorflow as tf\n",
        "from tensorflow import keras\n",
        "from tensorflow.keras.models import Sequential, Model\n",
        "from tensorflow.keras.optimizers import SGD, Adam\n",
        "from tensorflow.keras.layers import Input, Activation, Dense, Dropout\n",
        "from tensorflow.keras import utils\n",
        "\n",
        "\n",
        "# Define MLP input layer dimension ( NINPUT = neta*nphi )\n",
        "NINPUT = neta*nphi*npt \n",
        "\n",
        "'''\n",
        "input  = Input(shape=(NINPUT,), name = 'input') \n",
        "hidden = Dense(NINPUT/10 , name = 'hidden', kernel_initializer='normal', activation='relu')(input)\n",
        "hidden = Dropout(rate=0.05)(hidden)\n",
        "output  = Dense(1 , name = 'output', kernel_initializer='normal', activation='sigmoid')(hidden)\n",
        "'''\n",
        "\n",
        "\n",
        "# Define NN with 2 hidden layers ( #h1=10*NINPUT , #h2=3*NINPUT )\n",
        "input  = Input(shape=(NINPUT,), name = 'input') \n",
        "hidden = Dense(NINPUT/10 , name = 'hidden1', kernel_initializer='normal', activation='relu')(input)\n",
        "hidden = Dropout(rate=0.05)(hidden)\n",
        "hidden = Dense(NINPUT/100 , name = 'hidden2', kernel_initializer='normal', activation='relu')(hidden)\n",
        "hidden = Dropout(rate=0.05)(hidden)\n",
        "output  = Dense(1      , name = 'output', kernel_initializer='normal', activation='sigmoid')(hidden)\n",
        "\n",
        "\n",
        "'''\n",
        "# Define NN with 3 hidden layers ( #h1=10*NINPUT , #h2=2*NINPUT , #h2=NINPUT ) & Dropout\n",
        "input  = Input(shape=(NINPUT,), name = 'input') \n",
        "hidden = Dense(NINPUT/10, name = 'hidden1', kernel_initializer='normal', activation='relu')(input)\n",
        "hidden = Dropout(rate=0.05)(hidden)\n",
        "hidden = Dense(NINPUT/50 , name = 'hidden2', kernel_initializer='normal', activation='relu')(hidden)\n",
        "hidden = Dropout(rate=0.05)(hidden)\n",
        "hidden = Dense(NINPUT/100   , name = 'hidden3', kernel_initializer='normal', activation='relu')(hidden)\n",
        "hidden = Dropout(rate=0.05)(hidden)\n",
        "output  = Dense(1       , name = 'output', kernel_initializer='normal', activation='sigmoid')(hidden)\n",
        "'''\n",
        "\n",
        "# create the model\n",
        "mlp = Model(inputs=input, outputs=output)\n",
        "# Define the optimizer ( minimization algorithm )\n",
        "#optim = SGD(lr=0.01,decay=1e-6)\n",
        "#optim = Adam(lr=0.001)\n",
        "optim = Adam()\n",
        "\n",
        "# compile the model\n",
        "#mlp.compile(optimizer=optim, loss='mean_squared_error', metrics=['accuracy'], weighted_metrics=['accuracy'])\n",
        "#mlp.compile(optimizer=optim, loss='mean_squared_error', metrics=['accuracy'])\n",
        "mlp.compile(optimizer=optim, loss='binary_crossentropy', metrics=['accuracy'], weighted_metrics=['accuracy'])\n",
        "# print the model summary\n",
        "mlp.summary()"
      ],
      "execution_count": null,
      "outputs": [
        {
          "output_type": "stream",
          "text": [
            "Model: \"model\"\n",
            "_________________________________________________________________\n",
            "Layer (type)                 Output Shape              Param #   \n",
            "=================================================================\n",
            "input (InputLayer)           [(None, 900)]             0         \n",
            "_________________________________________________________________\n",
            "hidden1 (Dense)              (None, 90)                81090     \n",
            "_________________________________________________________________\n",
            "dropout (Dropout)            (None, 90)                0         \n",
            "_________________________________________________________________\n",
            "hidden2 (Dense)              (None, 9)                 819       \n",
            "_________________________________________________________________\n",
            "dropout_1 (Dropout)          (None, 9)                 0         \n",
            "_________________________________________________________________\n",
            "output (Dense)               (None, 1)                 10        \n",
            "=================================================================\n",
            "Total params: 81,919\n",
            "Trainable params: 81,919\n",
            "Non-trainable params: 0\n",
            "_________________________________________________________________\n"
          ],
          "name": "stdout"
        }
      ]
    },
    {
      "cell_type": "markdown",
      "metadata": {
        "id": "zcXGjkuoBn44"
      },
      "source": [
        "## Dividing the data into testing and training dataset\n",
        "\n",
        "We will split the data into two parts (one for training+validation and one for testing) and use early stoppping regularization.\n"
      ]
    },
    {
      "cell_type": "code",
      "metadata": {
        "id": "8snSB0DABn45",
        "colab": {
          "base_uri": "https://localhost:8080/"
        },
        "outputId": "19f614e8-a437-48e7-dabd-1acdbbeb6b09"
      },
      "source": [
        "from einops import rearrange, reduce, repeat\n",
        "jet_images = np.concatenate( [ jet_images_dict['TT'], jet_images_dict['QCD'] ] )\n",
        "jet_images = rearrange( jet_images , 'batch eta phi pt -> batch (eta phi pt)' )  \n",
        "#jet_images = jet_images.reshape( len(jet_images),jet_images.shape[1]*jet_images.shape[2])\n",
        "jet_labels = np.concatenate( [ np.ones(njet_tt), np.zeros(njet_qcd) ] )\n",
        "\n",
        "print(jet_images.shape)\n",
        "\n",
        "X = jet_images\n",
        "Y = jet_labels\n",
        "\n",
        "from sklearn.model_selection import train_test_split\n",
        "X_train_val, X_test, Y_train_val, Y_test = train_test_split(X, Y, test_size=0.2, random_state=7)\n",
        "#X_train_val, X_test, Y_train_val, Y_test = train_test_split(X, Y, test_size=0.2, random_state=7, shuffle=True)\n",
        "\n",
        "print('number of W jets for training/validation: %i'%np.sum(Y_train_val==1))\n",
        "print('number of QCD jets for training/validation: %i'%np.sum(Y_train_val==0))\n",
        "\n",
        "print('number of W jets for testing: %i'%np.sum(Y_test==1))\n",
        "print('number of QCD jets for testing: %i'%np.sum(Y_test==0))\n",
        "\n"
      ],
      "execution_count": null,
      "outputs": [
        {
          "output_type": "stream",
          "text": [
            "(5126, 900)\n",
            "number of W jets for training/validation: 1459\n",
            "number of QCD jets for training/validation: 2641\n",
            "number of W jets for testing: 362\n",
            "number of QCD jets for testing: 664\n",
            "WARNING:tensorflow:`period` argument is deprecated. Please use `save_freq` to specify the frequency in number of batches seen.\n"
          ],
          "name": "stdout"
        }
      ]
    },
    {
      "cell_type": "markdown",
      "metadata": {
        "id": "YlDvqPkIBn48"
      },
      "source": [
        "## Run training\n",
        "Here, we run the training."
      ]
    },
    {
      "cell_type": "code",
      "metadata": {
        "id": "p3lHpPv-Bn49",
        "colab": {
          "base_uri": "https://localhost:8080/"
        },
        "outputId": "014c7070-31db-4bcc-f287-5ddd4349a995"
      },
      "source": [
        "from keras.callbacks import EarlyStopping\n",
        "from keras.callbacks import ModelCheckpoint\n",
        "\n",
        "# early stopping callback\n",
        "early_stopping = EarlyStopping(monitor='val_loss', patience=10)\n",
        "\n",
        "# model checkpoint callback\n",
        "# this saves our model architecture + parameters into mlp_model.h5\n",
        "model_checkpoint = ModelCheckpoint('mlp_model.h5', monitor='val_loss', \n",
        "                                   verbose=0, save_best_only=True, \n",
        "                                   save_weights_only=False, mode='auto', \n",
        "                                   period=1)\n",
        "\n",
        "# Train classifier\n",
        "history = mlp.fit(  X_train_val, Y_train_val, \n",
        "                    epochs=100, \n",
        "                    batch_size=512, \n",
        "                    verbose=1,\n",
        "                    callbacks=[early_stopping, model_checkpoint], \n",
        "                    validation_split=0.25 )\n",
        "                    \n",
        "#                    callbacks=[early_stopping, model_checkpoint], \n",
        "                    "
      ],
      "execution_count": null,
      "outputs": [
        {
          "output_type": "stream",
          "text": [
            "Epoch 1/100\n",
            "7/7 [==============================] - 1s 64ms/step - loss: 0.6302 - accuracy: 0.6454 - weighted_accuracy: 0.6454 - val_loss: 0.5440 - val_accuracy: 0.6410 - val_weighted_accuracy: 0.6410\n",
            "Epoch 2/100\n",
            "7/7 [==============================] - 0s 9ms/step - loss: 0.5202 - accuracy: 0.6487 - weighted_accuracy: 0.6487 - val_loss: 0.4805 - val_accuracy: 0.6439 - val_weighted_accuracy: 0.6439\n",
            "Epoch 3/100\n",
            "7/7 [==============================] - 0s 9ms/step - loss: 0.4670 - accuracy: 0.6567 - weighted_accuracy: 0.6567 - val_loss: 0.4354 - val_accuracy: 0.7054 - val_weighted_accuracy: 0.7054\n",
            "Epoch 4/100\n",
            "7/7 [==============================] - 0s 11ms/step - loss: 0.4284 - accuracy: 0.7246 - weighted_accuracy: 0.7246 - val_loss: 0.4028 - val_accuracy: 0.8215 - val_weighted_accuracy: 0.8215\n",
            "Epoch 5/100\n",
            "7/7 [==============================] - 0s 9ms/step - loss: 0.3864 - accuracy: 0.8283 - weighted_accuracy: 0.8283 - val_loss: 0.3755 - val_accuracy: 0.8654 - val_weighted_accuracy: 0.8654\n",
            "Epoch 6/100\n",
            "7/7 [==============================] - 0s 8ms/step - loss: 0.3628 - accuracy: 0.8701 - weighted_accuracy: 0.8701 - val_loss: 0.3453 - val_accuracy: 0.8898 - val_weighted_accuracy: 0.8898\n",
            "Epoch 7/100\n",
            "7/7 [==============================] - 0s 8ms/step - loss: 0.3337 - accuracy: 0.8951 - weighted_accuracy: 0.8951 - val_loss: 0.3166 - val_accuracy: 0.8927 - val_weighted_accuracy: 0.8927\n",
            "Epoch 8/100\n",
            "7/7 [==============================] - 0s 9ms/step - loss: 0.3007 - accuracy: 0.8981 - weighted_accuracy: 0.8981 - val_loss: 0.2902 - val_accuracy: 0.8907 - val_weighted_accuracy: 0.8907\n",
            "Epoch 9/100\n",
            "7/7 [==============================] - 0s 9ms/step - loss: 0.2799 - accuracy: 0.9005 - weighted_accuracy: 0.9005 - val_loss: 0.2770 - val_accuracy: 0.8927 - val_weighted_accuracy: 0.8927\n",
            "Epoch 10/100\n",
            "7/7 [==============================] - 0s 9ms/step - loss: 0.2717 - accuracy: 0.8970 - weighted_accuracy: 0.8970 - val_loss: 0.2921 - val_accuracy: 0.8888 - val_weighted_accuracy: 0.8888\n",
            "Epoch 11/100\n",
            "7/7 [==============================] - 0s 9ms/step - loss: 0.2796 - accuracy: 0.8988 - weighted_accuracy: 0.8988 - val_loss: 0.2831 - val_accuracy: 0.8888 - val_weighted_accuracy: 0.8888\n",
            "Epoch 12/100\n",
            "7/7 [==============================] - 0s 8ms/step - loss: 0.2587 - accuracy: 0.9064 - weighted_accuracy: 0.9064 - val_loss: 0.2853 - val_accuracy: 0.8898 - val_weighted_accuracy: 0.8898\n",
            "Epoch 13/100\n",
            "7/7 [==============================] - 0s 8ms/step - loss: 0.2617 - accuracy: 0.9067 - weighted_accuracy: 0.9067 - val_loss: 0.2879 - val_accuracy: 0.8898 - val_weighted_accuracy: 0.8898\n",
            "Epoch 14/100\n",
            "7/7 [==============================] - 0s 8ms/step - loss: 0.2602 - accuracy: 0.9036 - weighted_accuracy: 0.9036 - val_loss: 0.2872 - val_accuracy: 0.8937 - val_weighted_accuracy: 0.8937\n",
            "Epoch 15/100\n",
            "7/7 [==============================] - 0s 8ms/step - loss: 0.2523 - accuracy: 0.9120 - weighted_accuracy: 0.9120 - val_loss: 0.2954 - val_accuracy: 0.8927 - val_weighted_accuracy: 0.8927\n",
            "Epoch 16/100\n",
            "7/7 [==============================] - 0s 8ms/step - loss: 0.2737 - accuracy: 0.8990 - weighted_accuracy: 0.8990 - val_loss: 0.3103 - val_accuracy: 0.8937 - val_weighted_accuracy: 0.8937\n",
            "Epoch 17/100\n",
            "7/7 [==============================] - 0s 8ms/step - loss: 0.2635 - accuracy: 0.9068 - weighted_accuracy: 0.9068 - val_loss: 0.2893 - val_accuracy: 0.8946 - val_weighted_accuracy: 0.8946\n",
            "Epoch 18/100\n",
            "7/7 [==============================] - 0s 8ms/step - loss: 0.2618 - accuracy: 0.8985 - weighted_accuracy: 0.8985 - val_loss: 0.2872 - val_accuracy: 0.8927 - val_weighted_accuracy: 0.8927\n",
            "Epoch 19/100\n",
            "7/7 [==============================] - 0s 10ms/step - loss: 0.2550 - accuracy: 0.9028 - weighted_accuracy: 0.9028 - val_loss: 0.2866 - val_accuracy: 0.8937 - val_weighted_accuracy: 0.8937\n"
          ],
          "name": "stdout"
        }
      ]
    },
    {
      "cell_type": "markdown",
      "metadata": {
        "id": "np12nLtsBn5A"
      },
      "source": [
        "## Plot performance\n",
        "Here, we plot the history of the training and the performance in a ROC curve"
      ]
    },
    {
      "cell_type": "code",
      "metadata": {
        "id": "Z_dscosMBn5B",
        "colab": {
          "base_uri": "https://localhost:8080/",
          "height": 606
        },
        "outputId": "4b7708ea-5aa0-46a8-c0d1-3bc140d1f1b5"
      },
      "source": [
        "import matplotlib.pyplot as plt\n",
        "%matplotlib inline\n",
        "#\n",
        "# Plot loss vs epoch\n",
        "plt.figure(figsize=(15,10))\n",
        "ax = plt.subplot(2, 2, 1)\n",
        "ax.plot(history.history['loss'], label='loss')\n",
        "ax.plot(history.history['val_loss'], label='val_loss')\n",
        "ax.legend(loc=\"upper right\")\n",
        "ax.set_xlabel('epoch')\n",
        "ax.set_ylabel('loss')\n",
        "\n",
        "# Plot accuracy vs epoch\n",
        "ax = plt.subplot(2, 2, 2)\n",
        "ax.plot(history.history['accuracy'], label='accuracy')\n",
        "ax.plot(history.history['val_accuracy'], label='val_accuracy')\n",
        "ax.legend(loc=\"upper left\")\n",
        "ax.set_xlabel('epoch')\n",
        "ax.set_ylabel('acc')\n",
        "\n",
        "# Plot ROC\n",
        "Y_predict = mlp.predict(X_test)\n",
        "from sklearn.metrics import roc_curve, auc\n",
        "fpr, tpr, thresholds = roc_curve(Y_test, Y_predict)\n",
        "roc_auc = auc(fpr, tpr)\n",
        "ax = plt.subplot(2, 2, 3)\n",
        "ax.plot(fpr, tpr, lw=2, color='cyan', label='auc = %.3f' % (roc_auc))\n",
        "ax.plot([0, 1], [0, 1], linestyle='--', lw=2, color='k', label='random chance')\n",
        "ax.set_xlim([0, 1.0])\n",
        "ax.set_ylim([0, 1.0])\n",
        "ax.set_xlabel('false positive rate')\n",
        "ax.set_ylabel('true positive rate')\n",
        "ax.set_title('receiver operating curve')\n",
        "ax.legend(loc=\"lower right\")\n",
        "plt.show()"
      ],
      "execution_count": null,
      "outputs": [
        {
          "output_type": "display_data",
          "data": {
            "image/png": "[encoded data removed]",
            "text/plain": [
              "<Figure size 1080x720 with 3 Axes>"
            ]
          },
          "metadata": {
            "tags": [],
            "needs_background": "light"
          }
        }
      ]
    },
    {
      "cell_type": "code",
      "metadata": {
        "id": "5I0wq3fcBn5E",
        "colab": {
          "base_uri": "https://localhost:8080/",
          "height": 232
        },
        "outputId": "b5666166-3da7-42f4-d3d3-56ece9fddd05"
      },
      "source": [
        "# Plot DNN output \n",
        "df_sig  = df['sig'].filter(NN_VARS)\n",
        "df_bkg  = df['bkg'].filter(NN_VARS)\n",
        "\n",
        "X_sig  = np.asarray( df_sig.values ).astype(np.float32)\n",
        "X_bkg  = np.asarray( df_bkg.values ).astype(np.float32)\n",
        "\n",
        "Y_sig = model.predict(X_sig)\n",
        "Y_bkg = model.predict(X_bkg)\n",
        "\n",
        "ax = plt.subplot(3, 2, 4)\n",
        "X = np.linspace(0.0, 1.0, 100)\n",
        "hist_sig = ax.hist(Y_sig, bins=X, label='sig',histtype='step',lw=LINE_WIDTH)\n",
        "hist_bkg = ax.hist(Y_bkg, bins=X, label='bkg',histtype='step',lw=LINE_WIDTH)\n",
        "#ax.hist(Y_train_val, bins=X, label='bkg',histtype='step')\n",
        "ax.set_xlabel('DNN Output')\n",
        "ax.legend(prop={'size': 10})\n",
        "\n",
        "\n",
        "# Plot Eff x Purity\n",
        "\n",
        "ax = plt.subplot(3, 2, 5)\n",
        "ax.plot(t, p[:-1], label='purity', lw=LINE_WIDTH)\n",
        "ax.plot(t, r[:-1], label='efficiency', lw=LINE_WIDTH)\n",
        "ax.set_xlabel('Cut on model score')\n",
        "ax.tick_params(width=2, grid_alpha=0.5)\n",
        "ax.legend()\n",
        "\n",
        "ax = plt.subplot(3, 2, 6)\n",
        "ax.plot(t,p[:-1]*r[:-1], lw=LINE_WIDTH)\n",
        "ax.set_xlabel('Cut on model score')\n",
        "ax.set_ylabel('Purity*Efficiency')\n",
        "ax.tick_params(width=2, grid_alpha=0.5)\n",
        "\n",
        "# Show plots\n",
        "plt.show()"
      ],
      "execution_count": null,
      "outputs": [
        {
          "output_type": "error",
          "ename": "NameError",
          "evalue": "ignored",
          "traceback": [
            "\u001b[0;31m---------------------------------------------------------------------------\u001b[0m",
            "\u001b[0;31mNameError\u001b[0m                                 Traceback (most recent call last)",
            "\u001b[0;32m<ipython-input-11-259c1d292af5>\u001b[0m in \u001b[0;36m<module>\u001b[0;34m()\u001b[0m\n\u001b[1;32m      1\u001b[0m \u001b[0;31m# Plot DNN output\u001b[0m\u001b[0;34m\u001b[0m\u001b[0;34m\u001b[0m\u001b[0;34m\u001b[0m\u001b[0m\n\u001b[0;32m----> 2\u001b[0;31m \u001b[0mdf_sig\u001b[0m  \u001b[0;34m=\u001b[0m \u001b[0mdf\u001b[0m\u001b[0;34m[\u001b[0m\u001b[0;34m'sig'\u001b[0m\u001b[0;34m]\u001b[0m\u001b[0;34m.\u001b[0m\u001b[0mfilter\u001b[0m\u001b[0;34m(\u001b[0m\u001b[0mNN_VARS\u001b[0m\u001b[0;34m)\u001b[0m\u001b[0;34m\u001b[0m\u001b[0;34m\u001b[0m\u001b[0m\n\u001b[0m\u001b[1;32m      3\u001b[0m \u001b[0mdf_bkg\u001b[0m  \u001b[0;34m=\u001b[0m \u001b[0mdf\u001b[0m\u001b[0;34m[\u001b[0m\u001b[0;34m'bkg'\u001b[0m\u001b[0;34m]\u001b[0m\u001b[0;34m.\u001b[0m\u001b[0mfilter\u001b[0m\u001b[0;34m(\u001b[0m\u001b[0mNN_VARS\u001b[0m\u001b[0;34m)\u001b[0m\u001b[0;34m\u001b[0m\u001b[0;34m\u001b[0m\u001b[0m\n\u001b[1;32m      4\u001b[0m \u001b[0;34m\u001b[0m\u001b[0m\n\u001b[1;32m      5\u001b[0m \u001b[0mX_sig\u001b[0m  \u001b[0;34m=\u001b[0m \u001b[0mnp\u001b[0m\u001b[0;34m.\u001b[0m\u001b[0masarray\u001b[0m\u001b[0;34m(\u001b[0m \u001b[0mdf_sig\u001b[0m\u001b[0;34m.\u001b[0m\u001b[0mvalues\u001b[0m \u001b[0;34m)\u001b[0m\u001b[0;34m.\u001b[0m\u001b[0mastype\u001b[0m\u001b[0;34m(\u001b[0m\u001b[0mnp\u001b[0m\u001b[0;34m.\u001b[0m\u001b[0mfloat32\u001b[0m\u001b[0;34m)\u001b[0m\u001b[0;34m\u001b[0m\u001b[0;34m\u001b[0m\u001b[0m\n",
            "\u001b[0;31mNameError\u001b[0m: name 'df' is not defined"
          ]
        }
      ]
    }
  ]
}